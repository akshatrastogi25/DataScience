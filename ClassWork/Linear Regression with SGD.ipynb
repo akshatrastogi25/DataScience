{
 "cells": [
  {
   "cell_type": "code",
   "execution_count": 1,
   "metadata": {},
   "outputs": [],
   "source": [
    "#Import libraries\n",
    "import pandas as pd\n",
    "import numpy as np"
   ]
  },
  {
   "cell_type": "code",
   "execution_count": null,
   "metadata": {},
   "outputs": [],
   "source": [
    "#Importing Dataset"
   ]
  },
  {
   "cell_type": "code",
   "execution_count": 3,
   "metadata": {},
   "outputs": [],
   "source": [
    "cement = pd.read_csv('concrete.csv')"
   ]
  },
  {
   "cell_type": "code",
   "execution_count": 4,
   "metadata": {},
   "outputs": [
    {
     "data": {
      "text/html": [
       "<div>\n",
       "<style scoped>\n",
       "    .dataframe tbody tr th:only-of-type {\n",
       "        vertical-align: middle;\n",
       "    }\n",
       "\n",
       "    .dataframe tbody tr th {\n",
       "        vertical-align: top;\n",
       "    }\n",
       "\n",
       "    .dataframe thead th {\n",
       "        text-align: right;\n",
       "    }\n",
       "</style>\n",
       "<table border=\"1\" class=\"dataframe\">\n",
       "  <thead>\n",
       "    <tr style=\"text-align: right;\">\n",
       "      <th></th>\n",
       "      <th>cement</th>\n",
       "      <th>slag</th>\n",
       "      <th>ash</th>\n",
       "      <th>water</th>\n",
       "      <th>superplastic</th>\n",
       "      <th>coarseagg</th>\n",
       "      <th>fineagg</th>\n",
       "      <th>age</th>\n",
       "      <th>strength</th>\n",
       "    </tr>\n",
       "  </thead>\n",
       "  <tbody>\n",
       "    <tr>\n",
       "      <td>0</td>\n",
       "      <td>141.3</td>\n",
       "      <td>212.0</td>\n",
       "      <td>0.0</td>\n",
       "      <td>203.5</td>\n",
       "      <td>0.0</td>\n",
       "      <td>971.8</td>\n",
       "      <td>748.5</td>\n",
       "      <td>28</td>\n",
       "      <td>29.89</td>\n",
       "    </tr>\n",
       "    <tr>\n",
       "      <td>1</td>\n",
       "      <td>168.9</td>\n",
       "      <td>42.2</td>\n",
       "      <td>124.3</td>\n",
       "      <td>158.3</td>\n",
       "      <td>10.8</td>\n",
       "      <td>1080.8</td>\n",
       "      <td>796.2</td>\n",
       "      <td>14</td>\n",
       "      <td>23.51</td>\n",
       "    </tr>\n",
       "    <tr>\n",
       "      <td>2</td>\n",
       "      <td>250.0</td>\n",
       "      <td>0.0</td>\n",
       "      <td>95.7</td>\n",
       "      <td>187.4</td>\n",
       "      <td>5.5</td>\n",
       "      <td>956.9</td>\n",
       "      <td>861.2</td>\n",
       "      <td>28</td>\n",
       "      <td>29.22</td>\n",
       "    </tr>\n",
       "    <tr>\n",
       "      <td>3</td>\n",
       "      <td>266.0</td>\n",
       "      <td>114.0</td>\n",
       "      <td>0.0</td>\n",
       "      <td>228.0</td>\n",
       "      <td>0.0</td>\n",
       "      <td>932.0</td>\n",
       "      <td>670.0</td>\n",
       "      <td>28</td>\n",
       "      <td>45.85</td>\n",
       "    </tr>\n",
       "    <tr>\n",
       "      <td>4</td>\n",
       "      <td>154.8</td>\n",
       "      <td>183.4</td>\n",
       "      <td>0.0</td>\n",
       "      <td>193.3</td>\n",
       "      <td>9.1</td>\n",
       "      <td>1047.4</td>\n",
       "      <td>696.7</td>\n",
       "      <td>28</td>\n",
       "      <td>18.29</td>\n",
       "    </tr>\n",
       "  </tbody>\n",
       "</table>\n",
       "</div>"
      ],
      "text/plain": [
       "   cement   slag    ash  water  superplastic  coarseagg  fineagg  age  \\\n",
       "0   141.3  212.0    0.0  203.5           0.0      971.8    748.5   28   \n",
       "1   168.9   42.2  124.3  158.3          10.8     1080.8    796.2   14   \n",
       "2   250.0    0.0   95.7  187.4           5.5      956.9    861.2   28   \n",
       "3   266.0  114.0    0.0  228.0           0.0      932.0    670.0   28   \n",
       "4   154.8  183.4    0.0  193.3           9.1     1047.4    696.7   28   \n",
       "\n",
       "   strength  \n",
       "0     29.89  \n",
       "1     23.51  \n",
       "2     29.22  \n",
       "3     45.85  \n",
       "4     18.29  "
      ]
     },
     "execution_count": 4,
     "metadata": {},
     "output_type": "execute_result"
    }
   ],
   "source": [
    "cement.head()"
   ]
  },
  {
   "cell_type": "code",
   "execution_count": 20,
   "metadata": {},
   "outputs": [
    {
     "name": "stdout",
     "output_type": "stream",
     "text": [
      "             0         1         2         3         4         5         6  \\\n",
      "0    -1.339017  1.601441 -0.847144  1.027590 -1.039143 -0.014398 -0.312970   \n",
      "1    -1.074790 -0.367541  1.096078 -1.090116  0.769617  1.388141  0.282260   \n",
      "2    -0.298384 -0.856888  0.648965  0.273274 -0.118015 -0.206121  1.093371   \n",
      "3    -0.145209  0.465044 -0.847144  2.175461 -1.039143 -0.526517 -1.292542   \n",
      "4    -1.209776  1.269798 -0.847144  0.549700  0.484905  0.958372 -0.959363   \n",
      "...        ...       ...       ...       ...       ...       ...       ...   \n",
      "1025 -1.399330 -0.856888  1.747988 -0.073430  0.635635 -0.153365  0.392072   \n",
      "1026  2.394626 -0.856888 -0.847144 -1.863173  3.683731 -1.554617  1.498926   \n",
      "1027 -0.045645  0.488235  0.564545 -0.092171  0.451410 -1.323005 -0.065893   \n",
      "1028  0.582373 -0.416244 -0.847144  2.175461 -1.039143 -0.526517 -1.292542   \n",
      "1029  2.477915 -0.856888 -0.847144 -0.401393 -1.039143  1.956877 -2.003823   \n",
      "\n",
      "             7  \n",
      "0    -0.279733  \n",
      "1    -0.501465  \n",
      "2    -0.279733  \n",
      "3    -0.279733  \n",
      "4    -0.279733  \n",
      "...        ...  \n",
      "1025 -0.279733  \n",
      "1026 -0.675683  \n",
      "1027 -0.279733  \n",
      "1028  3.553066  \n",
      "1029 -0.612331  \n",
      "\n",
      "[1030 rows x 8 columns]\n",
      "             8\n",
      "0    -0.355018\n",
      "1    -0.737108\n",
      "2    -0.395144\n",
      "3     0.600806\n",
      "4    -1.049727\n",
      "...        ...\n",
      "1025 -1.349171\n",
      "1026  0.328312\n",
      "1027  0.506781\n",
      "1028  1.152381\n",
      "1029  1.005654\n",
      "\n",
      "[1030 rows x 1 columns]\n"
     ]
    }
   ],
   "source": [
    "#Splitting the data into Input & Output\n",
    "X = cement_s.iloc[:,:8]\n",
    "print(X)\n",
    "y = cement_s.iloc[:,8:]\n",
    "print(y)"
   ]
  },
  {
   "cell_type": "code",
   "execution_count": 21,
   "metadata": {},
   "outputs": [],
   "source": [
    "#Split the data into Train & Test\n",
    "from sklearn.model_selection import train_test_split\n",
    "\n",
    "X_train,X_test,y_train,y_test = train_test_split(X,y, test_size = 0.2, random_state = 123)"
   ]
  },
  {
   "cell_type": "code",
   "execution_count": 22,
   "metadata": {},
   "outputs": [
    {
     "name": "stdout",
     "output_type": "stream",
     "text": [
      "(824, 8)\n",
      "(824, 1)\n",
      "(206, 8)\n",
      "(206, 1)\n"
     ]
    }
   ],
   "source": [
    "print(X_train.shape)\n",
    "print(y_train.shape)\n",
    "print(X_test.shape)\n",
    "print(y_test.shape)"
   ]
  },
  {
   "cell_type": "code",
   "execution_count": 9,
   "metadata": {},
   "outputs": [],
   "source": [
    "#Calling the algorithm\n",
    "from sklearn.linear_model import SGDRegressor"
   ]
  },
  {
   "cell_type": "code",
   "execution_count": 10,
   "metadata": {},
   "outputs": [],
   "source": [
    "regr = SGDRegressor()"
   ]
  },
  {
   "cell_type": "code",
   "execution_count": 23,
   "metadata": {},
   "outputs": [
    {
     "name": "stderr",
     "output_type": "stream",
     "text": [
      "/opt/anaconda3/lib/python3.7/site-packages/sklearn/utils/validation.py:724: DataConversionWarning: A column-vector y was passed when a 1d array was expected. Please change the shape of y to (n_samples, ), for example using ravel().\n",
      "  y = column_or_1d(y, warn=True)\n"
     ]
    },
    {
     "data": {
      "text/plain": [
       "SGDRegressor(alpha=0.0001, average=False, early_stopping=False, epsilon=0.1,\n",
       "             eta0=0.01, fit_intercept=True, l1_ratio=0.15,\n",
       "             learning_rate='invscaling', loss='squared_loss', max_iter=1000,\n",
       "             n_iter_no_change=5, penalty='l2', power_t=0.25, random_state=None,\n",
       "             shuffle=True, tol=0.001, validation_fraction=0.1, verbose=0,\n",
       "             warm_start=False)"
      ]
     },
     "execution_count": 23,
     "metadata": {},
     "output_type": "execute_result"
    }
   ],
   "source": [
    "#Training\n",
    "regr.fit(X_train,y_train)"
   ]
  },
  {
   "cell_type": "code",
   "execution_count": 24,
   "metadata": {},
   "outputs": [
    {
     "name": "stdout",
     "output_type": "stream",
     "text": [
      "Coefficients [ 0.50713798  0.30237406  0.13433022 -0.387638    0.09201102 -0.09270828\n",
      " -0.13169801  0.40396652]\n",
      "Intercept [-0.0098382]\n"
     ]
    }
   ],
   "source": [
    "# The coefficients\n",
    "print('Coefficients', regr.coef_)\n",
    "print('Intercept',regr.intercept_)"
   ]
  },
  {
   "cell_type": "code",
   "execution_count": 25,
   "metadata": {},
   "outputs": [],
   "source": [
    "#Testing\n",
    "y_pred = regr.predict(X_test)"
   ]
  },
  {
   "cell_type": "code",
   "execution_count": 26,
   "metadata": {},
   "outputs": [
    {
     "data": {
      "text/plain": [
       "array([-0.75713164, -0.604329  , -0.38887535, -0.7536875 ,  0.7380509 ,\n",
       "       -0.24917454, -0.57585302,  1.60433155, -0.18350519, -0.11950095,\n",
       "       -1.01242055,  0.74438705,  0.31496757, -0.4678274 , -0.44149447,\n",
       "        0.76130009,  0.00918502, -0.66742158,  0.24124666,  0.0179956 ,\n",
       "       -0.55286391, -1.47643207,  0.89284698, -0.52006519, -0.53067409,\n",
       "        0.74341894, -0.66242817,  1.19018219, -0.53102852, -0.54979887,\n",
       "       -1.04281402, -0.56014693, -0.35447524, -0.12811651, -0.45593569,\n",
       "       -0.12015824, -1.04168013,  1.29017312,  0.67541535, -0.03207897,\n",
       "        0.81255299,  1.14938521,  0.3241086 , -0.55481475,  0.96577559,\n",
       "        0.87173065, -1.00486295, -0.49096931,  0.25112209, -1.05665322,\n",
       "       -0.15131771,  0.96026894,  1.48787592, -0.20904295,  0.85108679,\n",
       "       -0.24181783,  1.01103745, -0.37567001,  0.23673061,  0.34770076,\n",
       "        0.2724255 , -0.40268527,  0.08802899,  0.24416387,  0.32150038,\n",
       "       -0.12445945, -0.94539588,  0.029952  , -0.07141597, -0.19238524,\n",
       "       -0.46220128,  0.97024047, -1.22671141,  1.50210493,  0.8766789 ,\n",
       "       -0.53778533,  0.16735071, -0.16212129, -0.60881391,  0.64975514,\n",
       "        0.44790398, -0.21768888,  0.1140969 ,  1.19018219, -0.38491589,\n",
       "       -0.47737145, -0.19348417,  0.7811242 , -0.93928136,  1.7671271 ,\n",
       "       -0.10232629,  0.52484701, -0.20050335,  0.29972604,  0.64030012,\n",
       "       -0.49173614,  0.4788143 , -0.53223467, -0.75886754, -0.70107659,\n",
       "       -0.29194136, -0.50539074, -0.2290063 , -0.83083154,  1.60433155,\n",
       "        0.89883365,  0.56595242, -0.24217697,  0.21475745, -0.12354484,\n",
       "       -0.91454333,  0.50255736, -0.75500804, -1.06676075, -0.5645082 ,\n",
       "        1.90571251, -0.46423703, -0.18089935, -0.8279859 , -0.47234598,\n",
       "       -0.69375403,  0.90336959,  1.09902927, -1.37363238,  1.04130523,\n",
       "        0.38281401,  1.72656778,  0.05102823, -0.81280912, -0.64309079,\n",
       "        0.04371861,  0.27739593,  0.82535099, -0.24517382, -0.00411723,\n",
       "        0.41156561, -0.17270458, -0.16153283, -0.29930298,  0.67714118,\n",
       "        1.20125589, -0.83854084, -0.17300017, -0.46876145, -0.67088088,\n",
       "       -0.60018596,  0.6306618 , -0.59371797,  0.09287389, -0.02206194,\n",
       "        0.64676564, -0.59717809,  0.23453623, -0.23457313,  0.2901989 ,\n",
       "       -0.73198494, -0.33004968, -0.09576155,  1.17437262, -0.25336418,\n",
       "       -0.64249722, -0.73153954, -0.36115734,  1.38040063, -0.71872024,\n",
       "        0.19483244,  0.58852959,  0.73289632, -0.91248077, -0.55809751,\n",
       "       -0.20120668, -0.75862775,  0.94140987, -0.86163293, -0.10340273,\n",
       "       -0.13265908, -0.89079285,  0.64646404, -0.89670256, -0.64842192,\n",
       "        1.14448471, -0.37945583,  0.62117354, -0.65830591, -0.78616279,\n",
       "       -0.81700409, -0.79187977,  0.39753907, -0.14963986,  0.9933529 ,\n",
       "        0.3569718 , -0.15430856, -0.86890307, -0.72750606, -0.65193539,\n",
       "       -0.99664372, -0.33416456, -0.02019548,  1.10136053,  0.74499372,\n",
       "       -0.01891427, -0.53395489,  0.21256716, -0.26832672, -0.19646987,\n",
       "       -0.14952773])"
      ]
     },
     "execution_count": 26,
     "metadata": {},
     "output_type": "execute_result"
    }
   ],
   "source": [
    "y_pred"
   ]
  },
  {
   "cell_type": "code",
   "execution_count": 27,
   "metadata": {},
   "outputs": [
    {
     "data": {
      "text/plain": [
       "<matplotlib.collections.PathCollection at 0x7fcd6ddca250>"
      ]
     },
     "execution_count": 27,
     "metadata": {},
     "output_type": "execute_result"
    },
    {
     "data": {
      "image/png": "[encoded data removed]",
      "text/plain": [
       "<Figure size 432x288 with 1 Axes>"
      ]
     },
     "metadata": {
      "needs_background": "light"
     },
     "output_type": "display_data"
    }
   ],
   "source": [
    "import matplotlib.pyplot as plt\n",
    "# Plot outputs\n",
    "plt.scatter(y_test, y_pred,  color='black')"
   ]
  },
  {
   "cell_type": "code",
   "execution_count": 28,
   "metadata": {},
   "outputs": [
    {
     "name": "stdout",
     "output_type": "stream",
     "text": [
      "0.37569859631667707\n"
     ]
    }
   ],
   "source": [
    "from sklearn.metrics import mean_squared_error, r2_score\n",
    "print(mean_squared_error(y_test, y_pred)) #MSE"
   ]
  },
  {
   "cell_type": "code",
   "execution_count": 29,
   "metadata": {},
   "outputs": [
    {
     "name": "stdout",
     "output_type": "stream",
     "text": [
      "0.5875806414437219\n"
     ]
    }
   ],
   "source": [
    "print(r2_score(y_test, y_pred))"
   ]
  },
  {
   "cell_type": "code",
   "execution_count": 19,
   "metadata": {},
   "outputs": [
    {
     "name": "stdout",
     "output_type": "stream",
     "text": [
      "          0         1         2         3         4         5         6  \\\n",
      "0 -1.339017  1.601441 -0.847144  1.027590 -1.039143 -0.014398 -0.312970   \n",
      "1 -1.074790 -0.367541  1.096078 -1.090116  0.769617  1.388141  0.282260   \n",
      "2 -0.298384 -0.856888  0.648965  0.273274 -0.118015 -0.206121  1.093371   \n",
      "3 -0.145209  0.465044 -0.847144  2.175461 -1.039143 -0.526517 -1.292542   \n",
      "4 -1.209776  1.269798 -0.847144  0.549700  0.484905  0.958372 -0.959363   \n",
      "\n",
      "          7         8  \n",
      "0 -0.279733 -0.355018  \n",
      "1 -0.501465 -0.737108  \n",
      "2 -0.279733 -0.395144  \n",
      "3 -0.279733  0.600806  \n",
      "4 -0.279733 -1.049727  \n"
     ]
    }
   ],
   "source": [
    "#Feature Scaling using Standardization\n",
    "from sklearn.preprocessing import StandardScaler\n",
    "\n",
    "s = StandardScaler().fit_transform(cement)\n",
    "\n",
    "cement_s = pd.DataFrame(s)\n",
    "print(cement_s.head())"
   ]
  },
  {
   "cell_type": "code",
   "execution_count": null,
   "metadata": {},
   "outputs": [],
   "source": []
  }
 ],
 "metadata": {
  "kernelspec": {
   "display_name": "Python 3",
   "language": "python",
   "name": "python3"
  },
  "language_info": {
   "codemirror_mode": {
    "name": "ipython",
    "version": 3
   },
   "file_extension": ".py",
   "mimetype": "text/x-python",
   "name": "python",
   "nbconvert_exporter": "python",
   "pygments_lexer": "ipython3",
   "version": "3.8.3"
  }
 },
 "nbformat": 4,
 "nbformat_minor": 2
}
