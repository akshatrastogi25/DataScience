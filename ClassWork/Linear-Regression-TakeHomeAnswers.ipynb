{
 "cells": [
  {
   "cell_type": "markdown",
   "metadata": {},
   "source": [
    "### 1. Plot a bar chart showing count of individual species?"
   ]
  },
  {
   "cell_type": "code",
   "execution_count": 3,
   "metadata": {},
   "outputs": [],
   "source": [
    "import pandas as pd\n",
    "import numpy as np"
   ]
  },
  {
   "cell_type": "code",
   "execution_count": 4,
   "metadata": {},
   "outputs": [],
   "source": [
    "df = pd.read_csv(\"Fish_dataset.csv\")"
   ]
  },
  {
   "cell_type": "code",
   "execution_count": 5,
   "metadata": {},
   "outputs": [
    {
     "data": {
      "text/html": [
       "<div>\n",
       "<style scoped>\n",
       "    .dataframe tbody tr th:only-of-type {\n",
       "        vertical-align: middle;\n",
       "    }\n",
       "\n",
       "    .dataframe tbody tr th {\n",
       "        vertical-align: top;\n",
       "    }\n",
       "\n",
       "    .dataframe thead th {\n",
       "        text-align: right;\n",
       "    }\n",
       "</style>\n",
       "<table border=\"1\" class=\"dataframe\">\n",
       "  <thead>\n",
       "    <tr style=\"text-align: right;\">\n",
       "      <th></th>\n",
       "      <th>Species</th>\n",
       "      <th>Weight</th>\n",
       "      <th>Length1</th>\n",
       "      <th>Length2</th>\n",
       "      <th>Length3</th>\n",
       "      <th>Height</th>\n",
       "      <th>Width</th>\n",
       "    </tr>\n",
       "  </thead>\n",
       "  <tbody>\n",
       "    <tr>\n",
       "      <th>0</th>\n",
       "      <td>Bream</td>\n",
       "      <td>242.0</td>\n",
       "      <td>23.2</td>\n",
       "      <td>25.4</td>\n",
       "      <td>30.0</td>\n",
       "      <td>11.5200</td>\n",
       "      <td>4.0200</td>\n",
       "    </tr>\n",
       "    <tr>\n",
       "      <th>1</th>\n",
       "      <td>Bream</td>\n",
       "      <td>290.0</td>\n",
       "      <td>24.0</td>\n",
       "      <td>26.3</td>\n",
       "      <td>31.2</td>\n",
       "      <td>12.4800</td>\n",
       "      <td>4.3056</td>\n",
       "    </tr>\n",
       "    <tr>\n",
       "      <th>2</th>\n",
       "      <td>Bream</td>\n",
       "      <td>340.0</td>\n",
       "      <td>23.9</td>\n",
       "      <td>26.5</td>\n",
       "      <td>31.1</td>\n",
       "      <td>12.3778</td>\n",
       "      <td>4.6961</td>\n",
       "    </tr>\n",
       "    <tr>\n",
       "      <th>3</th>\n",
       "      <td>Bream</td>\n",
       "      <td>363.0</td>\n",
       "      <td>26.3</td>\n",
       "      <td>29.0</td>\n",
       "      <td>33.5</td>\n",
       "      <td>12.7300</td>\n",
       "      <td>4.4555</td>\n",
       "    </tr>\n",
       "    <tr>\n",
       "      <th>4</th>\n",
       "      <td>Bream</td>\n",
       "      <td>430.0</td>\n",
       "      <td>26.5</td>\n",
       "      <td>29.0</td>\n",
       "      <td>34.0</td>\n",
       "      <td>12.4440</td>\n",
       "      <td>5.1340</td>\n",
       "    </tr>\n",
       "  </tbody>\n",
       "</table>\n",
       "</div>"
      ],
      "text/plain": [
       "  Species  Weight  Length1  Length2  Length3   Height   Width\n",
       "0   Bream   242.0     23.2     25.4     30.0  11.5200  4.0200\n",
       "1   Bream   290.0     24.0     26.3     31.2  12.4800  4.3056\n",
       "2   Bream   340.0     23.9     26.5     31.1  12.3778  4.6961\n",
       "3   Bream   363.0     26.3     29.0     33.5  12.7300  4.4555\n",
       "4   Bream   430.0     26.5     29.0     34.0  12.4440  5.1340"
      ]
     },
     "execution_count": 5,
     "metadata": {},
     "output_type": "execute_result"
    }
   ],
   "source": [
    "df.head()"
   ]
  },
  {
   "cell_type": "code",
   "execution_count": 6,
   "metadata": {},
   "outputs": [
    {
     "name": "stdout",
     "output_type": "stream",
     "text": [
      "<class 'pandas.core.frame.DataFrame'>\n",
      "RangeIndex: 159 entries, 0 to 158\n",
      "Data columns (total 7 columns):\n",
      " #   Column   Non-Null Count  Dtype  \n",
      "---  ------   --------------  -----  \n",
      " 0   Species  159 non-null    object \n",
      " 1   Weight   159 non-null    float64\n",
      " 2   Length1  159 non-null    float64\n",
      " 3   Length2  159 non-null    float64\n",
      " 4   Length3  159 non-null    float64\n",
      " 5   Height   159 non-null    float64\n",
      " 6   Width    159 non-null    float64\n",
      "dtypes: float64(6), object(1)\n",
      "memory usage: 8.8+ KB\n"
     ]
    }
   ],
   "source": [
    "df.info()"
   ]
  },
  {
   "cell_type": "code",
   "execution_count": 7,
   "metadata": {},
   "outputs": [
    {
     "data": {
      "text/plain": [
       "Perch        56\n",
       "Bream        35\n",
       "Roach        20\n",
       "Pike         17\n",
       "Smelt        14\n",
       "Parkki       11\n",
       "Whitefish     6\n",
       "Name: Species, dtype: int64"
      ]
     },
     "execution_count": 7,
     "metadata": {},
     "output_type": "execute_result"
    }
   ],
   "source": [
    "s = df['Species'].value_counts()\n",
    "s"
   ]
  },
  {
   "cell_type": "code",
   "execution_count": 8,
   "metadata": {},
   "outputs": [
    {
     "data": {
      "text/plain": [
       "<AxesSubplot:title={'center':'Number for each Species'}>"
      ]
     },
     "execution_count": 8,
     "metadata": {},
     "output_type": "execute_result"
    },
    {
     "data": {
      "image/png": "[encoded data removed]",
      "text/plain": [
       "<Figure size 1008x576 with 1 Axes>"
      ]
     },
     "metadata": {
      "needs_background": "light"
     },
     "output_type": "display_data"
    }
   ],
   "source": [
    "df['Species'].value_counts().plot(kind='bar',\n",
    "                                    figsize=(14,8),\n",
    "                                    title=\"Number for each Species\")"
   ]
  },
  {
   "cell_type": "markdown",
   "metadata": {},
   "source": [
    "### 2. Identify outliers and remove if any?"
   ]
  },
  {
   "cell_type": "code",
   "execution_count": 9,
   "metadata": {},
   "outputs": [],
   "source": [
    "import seaborn as sns"
   ]
  },
  {
   "cell_type": "code",
   "execution_count": 10,
   "metadata": {},
   "outputs": [
    {
     "name": "stderr",
     "output_type": "stream",
     "text": [
      "C:\\Users\\hp-pc\\anaconda3\\lib\\site-packages\\seaborn\\_decorators.py:36: FutureWarning: Pass the following variable as a keyword arg: x. From version 0.12, the only valid positional argument will be `data`, and passing other arguments without an explicit keyword will result in an error or misinterpretation.\n",
      "  warnings.warn(\n"
     ]
    },
    {
     "data": {
      "text/plain": [
       "<AxesSubplot:xlabel='Length1'>"
      ]
     },
     "execution_count": 10,
     "metadata": {},
     "output_type": "execute_result"
    },
    {
     "data": {
      "image/png": "[encoded data removed]",
      "text/plain": [
       "<Figure size 432x288 with 1 Axes>"
      ]
     },
     "metadata": {
      "needs_background": "light"
     },
     "output_type": "display_data"
    }
   ],
   "source": [
    "sns.boxplot(df.Length1)"
   ]
  },
  {
   "cell_type": "code",
   "execution_count": 11,
   "metadata": {},
   "outputs": [
    {
     "name": "stderr",
     "output_type": "stream",
     "text": [
      "C:\\Users\\hp-pc\\anaconda3\\lib\\site-packages\\seaborn\\_decorators.py:36: FutureWarning: Pass the following variable as a keyword arg: x. From version 0.12, the only valid positional argument will be `data`, and passing other arguments without an explicit keyword will result in an error or misinterpretation.\n",
      "  warnings.warn(\n"
     ]
    },
    {
     "data": {
      "text/plain": [
       "<AxesSubplot:xlabel='Length2'>"
      ]
     },
     "execution_count": 11,
     "metadata": {},
     "output_type": "execute_result"
    },
    {
     "data": {
      "image/png": "[encoded data removed]",
      "text/plain": [
       "<Figure size 432x288 with 1 Axes>"
      ]
     },
     "metadata": {
      "needs_background": "light"
     },
     "output_type": "display_data"
    }
   ],
   "source": [
    "sns.boxplot(df.Length2)"
   ]
  },
  {
   "cell_type": "code",
   "execution_count": 12,
   "metadata": {},
   "outputs": [
    {
     "name": "stderr",
     "output_type": "stream",
     "text": [
      "C:\\Users\\hp-pc\\anaconda3\\lib\\site-packages\\seaborn\\_decorators.py:36: FutureWarning: Pass the following variable as a keyword arg: x. From version 0.12, the only valid positional argument will be `data`, and passing other arguments without an explicit keyword will result in an error or misinterpretation.\n",
      "  warnings.warn(\n"
     ]
    },
    {
     "data": {
      "text/plain": [
       "<AxesSubplot:xlabel='Length3'>"
      ]
     },
     "execution_count": 12,
     "metadata": {},
     "output_type": "execute_result"
    },
    {
     "data": {
      "image/png": "[encoded data removed]",
      "text/plain": [
       "<Figure size 432x288 with 1 Axes>"
      ]
     },
     "metadata": {
      "needs_background": "light"
     },
     "output_type": "display_data"
    }
   ],
   "source": [
    "sns.boxplot(df.Length3)"
   ]
  },
  {
   "cell_type": "code",
   "execution_count": 13,
   "metadata": {},
   "outputs": [
    {
     "name": "stderr",
     "output_type": "stream",
     "text": [
      "C:\\Users\\hp-pc\\anaconda3\\lib\\site-packages\\seaborn\\_decorators.py:36: FutureWarning: Pass the following variable as a keyword arg: x. From version 0.12, the only valid positional argument will be `data`, and passing other arguments without an explicit keyword will result in an error or misinterpretation.\n",
      "  warnings.warn(\n"
     ]
    },
    {
     "data": {
      "text/plain": [
       "<AxesSubplot:xlabel='Height'>"
      ]
     },
     "execution_count": 13,
     "metadata": {},
     "output_type": "execute_result"
    },
    {
     "data": {
      "image/png": "[encoded data removed]",
      "text/plain": [
       "<Figure size 432x288 with 1 Axes>"
      ]
     },
     "metadata": {
      "needs_background": "light"
     },
     "output_type": "display_data"
    }
   ],
   "source": [
    "sns.boxplot(df.Height)"
   ]
  },
  {
   "cell_type": "code",
   "execution_count": 14,
   "metadata": {},
   "outputs": [
    {
     "name": "stderr",
     "output_type": "stream",
     "text": [
      "C:\\Users\\hp-pc\\anaconda3\\lib\\site-packages\\seaborn\\_decorators.py:36: FutureWarning: Pass the following variable as a keyword arg: x. From version 0.12, the only valid positional argument will be `data`, and passing other arguments without an explicit keyword will result in an error or misinterpretation.\n",
      "  warnings.warn(\n"
     ]
    },
    {
     "data": {
      "text/plain": [
       "<AxesSubplot:xlabel='Width'>"
      ]
     },
     "execution_count": 14,
     "metadata": {},
     "output_type": "execute_result"
    },
    {
     "data": {
      "image/png": "[encoded data removed]",
      "text/plain": [
       "<Figure size 432x288 with 1 Axes>"
      ]
     },
     "metadata": {
      "needs_background": "light"
     },
     "output_type": "display_data"
    }
   ],
   "source": [
    "sns.boxplot(df.Width)"
   ]
  },
  {
   "cell_type": "code",
   "execution_count": 18,
   "metadata": {},
   "outputs": [],
   "source": [
    "# Handling Outliers | I am capping that with Var > P95 then Var = P95 [Upper CAP]\n",
    "#                                         Var < P05 then Var = P05 [Lower CAP]\n",
    "#_________________________________________________________________________________\n",
    "df['Length1'] = df['Length1'].clip(upper=df['Length1'].quantile(0.95)) \n",
    "df['Length1']= df['Length1'].clip(lower=df['Length1'].quantile(0.05))\n",
    "\n",
    "df['Length2'] = df['Length2'].clip(upper=df['Length2'].quantile(0.95)) \n",
    "df['Length2']= df['Length2'].clip(lower=df['Length2'].quantile(0.05))\n",
    "\n",
    "df['Length3'] = df['Length3'].clip(upper=df['Length3'].quantile(0.95)) \n",
    "df['Length3']= df['Length3'].clip(lower=df['Length3'].quantile(0.05))"
   ]
  },
  {
   "cell_type": "code",
   "execution_count": 19,
   "metadata": {},
   "outputs": [
    {
     "name": "stderr",
     "output_type": "stream",
     "text": [
      "C:\\Users\\hp-pc\\anaconda3\\lib\\site-packages\\seaborn\\distributions.py:2551: FutureWarning: `distplot` is a deprecated function and will be removed in a future version. Please adapt your code to use either `displot` (a figure-level function with similar flexibility) or `histplot` (an axes-level function for histograms).\n",
      "  warnings.warn(msg, FutureWarning)\n"
     ]
    },
    {
     "data": {
      "text/plain": [
       "<AxesSubplot:xlabel='Length1', ylabel='Density'>"
      ]
     },
     "execution_count": 19,
     "metadata": {},
     "output_type": "execute_result"
    },
    {
     "data": {
      "image/png": "[encoded data removed]",
      "text/plain": [
       "<Figure size 432x288 with 1 Axes>"
      ]
     },
     "metadata": {
      "needs_background": "light"
     },
     "output_type": "display_data"
    }
   ],
   "source": [
    "#Checking Normality\n",
    "sns.distplot(df.Length1)"
   ]
  },
  {
   "cell_type": "code",
   "execution_count": 20,
   "metadata": {},
   "outputs": [
    {
     "name": "stderr",
     "output_type": "stream",
     "text": [
      "C:\\Users\\hp-pc\\anaconda3\\lib\\site-packages\\seaborn\\distributions.py:2551: FutureWarning: `distplot` is a deprecated function and will be removed in a future version. Please adapt your code to use either `displot` (a figure-level function with similar flexibility) or `histplot` (an axes-level function for histograms).\n",
      "  warnings.warn(msg, FutureWarning)\n"
     ]
    },
    {
     "data": {
      "text/plain": [
       "<AxesSubplot:xlabel='Length2', ylabel='Density'>"
      ]
     },
     "execution_count": 20,
     "metadata": {},
     "output_type": "execute_result"
    },
    {
     "data": {
      "image/png": "[encoded data removed]",
      "text/plain": [
       "<Figure size 432x288 with 1 Axes>"
      ]
     },
     "metadata": {
      "needs_background": "light"
     },
     "output_type": "display_data"
    }
   ],
   "source": [
    "sns.distplot(df.Length2) #Checking Normality"
   ]
  },
  {
   "cell_type": "code",
   "execution_count": 21,
   "metadata": {},
   "outputs": [
    {
     "name": "stderr",
     "output_type": "stream",
     "text": [
      "C:\\Users\\hp-pc\\anaconda3\\lib\\site-packages\\seaborn\\distributions.py:2551: FutureWarning: `distplot` is a deprecated function and will be removed in a future version. Please adapt your code to use either `displot` (a figure-level function with similar flexibility) or `histplot` (an axes-level function for histograms).\n",
      "  warnings.warn(msg, FutureWarning)\n"
     ]
    },
    {
     "data": {
      "text/plain": [
       "<AxesSubplot:xlabel='Length3', ylabel='Density'>"
      ]
     },
     "execution_count": 21,
     "metadata": {},
     "output_type": "execute_result"
    },
    {
     "data": {
      "image/png": "[encoded data removed]",
      "text/plain": [
       "<Figure size 432x288 with 1 Axes>"
      ]
     },
     "metadata": {
      "needs_background": "light"
     },
     "output_type": "display_data"
    }
   ],
   "source": [
    "sns.distplot(df.Length3) #Checking Normality"
   ]
  },
  {
   "cell_type": "markdown",
   "metadata": {},
   "source": [
    "### 3. Build a regression model and print regression equation?"
   ]
  },
  {
   "cell_type": "markdown",
   "metadata": {},
   "source": [
    "# MULTIPLE LINEAR REGRESSION MODEL"
   ]
  },
  {
   "cell_type": "code",
   "execution_count": 102,
   "metadata": {},
   "outputs": [],
   "source": [
    "import statsmodels.formula.api as smf"
   ]
  },
  {
   "cell_type": "code",
   "execution_count": 97,
   "metadata": {},
   "outputs": [],
   "source": [
    "from sklearn.preprocessing import LabelEncoder\n",
    "from sklearn.preprocessing import OneHotEncoder\n",
    "\n",
    "le = LabelEncoder()\n",
    "\n",
    "df['Species'] = le.fit_transform(df['Species'])"
   ]
  },
  {
   "cell_type": "code",
   "execution_count": 98,
   "metadata": {},
   "outputs": [
    {
     "data": {
      "text/html": [
       "<div>\n",
       "<style scoped>\n",
       "    .dataframe tbody tr th:only-of-type {\n",
       "        vertical-align: middle;\n",
       "    }\n",
       "\n",
       "    .dataframe tbody tr th {\n",
       "        vertical-align: top;\n",
       "    }\n",
       "\n",
       "    .dataframe thead th {\n",
       "        text-align: right;\n",
       "    }\n",
       "</style>\n",
       "<table border=\"1\" class=\"dataframe\">\n",
       "  <thead>\n",
       "    <tr style=\"text-align: right;\">\n",
       "      <th></th>\n",
       "      <th>Species</th>\n",
       "      <th>Weight</th>\n",
       "      <th>Length1</th>\n",
       "      <th>Length2</th>\n",
       "      <th>Length3</th>\n",
       "      <th>Height</th>\n",
       "      <th>Width</th>\n",
       "    </tr>\n",
       "  </thead>\n",
       "  <tbody>\n",
       "    <tr>\n",
       "      <th>0</th>\n",
       "      <td>0</td>\n",
       "      <td>242.0</td>\n",
       "      <td>23.2</td>\n",
       "      <td>25.4</td>\n",
       "      <td>30.0</td>\n",
       "      <td>11.5200</td>\n",
       "      <td>4.0200</td>\n",
       "    </tr>\n",
       "    <tr>\n",
       "      <th>1</th>\n",
       "      <td>0</td>\n",
       "      <td>290.0</td>\n",
       "      <td>24.0</td>\n",
       "      <td>26.3</td>\n",
       "      <td>31.2</td>\n",
       "      <td>12.4800</td>\n",
       "      <td>4.3056</td>\n",
       "    </tr>\n",
       "    <tr>\n",
       "      <th>2</th>\n",
       "      <td>0</td>\n",
       "      <td>340.0</td>\n",
       "      <td>23.9</td>\n",
       "      <td>26.5</td>\n",
       "      <td>31.1</td>\n",
       "      <td>12.3778</td>\n",
       "      <td>4.6961</td>\n",
       "    </tr>\n",
       "    <tr>\n",
       "      <th>3</th>\n",
       "      <td>0</td>\n",
       "      <td>363.0</td>\n",
       "      <td>26.3</td>\n",
       "      <td>29.0</td>\n",
       "      <td>33.5</td>\n",
       "      <td>12.7300</td>\n",
       "      <td>4.4555</td>\n",
       "    </tr>\n",
       "    <tr>\n",
       "      <th>4</th>\n",
       "      <td>0</td>\n",
       "      <td>430.0</td>\n",
       "      <td>26.5</td>\n",
       "      <td>29.0</td>\n",
       "      <td>34.0</td>\n",
       "      <td>12.4440</td>\n",
       "      <td>5.1340</td>\n",
       "    </tr>\n",
       "  </tbody>\n",
       "</table>\n",
       "</div>"
      ],
      "text/plain": [
       "   Species  Weight  Length1  Length2  Length3   Height   Width\n",
       "0        0   242.0     23.2     25.4     30.0  11.5200  4.0200\n",
       "1        0   290.0     24.0     26.3     31.2  12.4800  4.3056\n",
       "2        0   340.0     23.9     26.5     31.1  12.3778  4.6961\n",
       "3        0   363.0     26.3     29.0     33.5  12.7300  4.4555\n",
       "4        0   430.0     26.5     29.0     34.0  12.4440  5.1340"
      ]
     },
     "execution_count": 98,
     "metadata": {},
     "output_type": "execute_result"
    }
   ],
   "source": [
    "df.head()"
   ]
  },
  {
   "cell_type": "code",
   "execution_count": 99,
   "metadata": {},
   "outputs": [
    {
     "data": {
      "text/plain": [
       "Index(['Species', 'Weight', 'Length1', 'Length2', 'Length3', 'Height',\n",
       "       'Width'],\n",
       "      dtype='object')"
      ]
     },
     "execution_count": 99,
     "metadata": {},
     "output_type": "execute_result"
    }
   ],
   "source": [
    "df.columns"
   ]
  },
  {
   "cell_type": "code",
   "execution_count": 100,
   "metadata": {},
   "outputs": [],
   "source": [
    "from sklearn import metrics"
   ]
  },
  {
   "cell_type": "code",
   "execution_count": 107,
   "metadata": {},
   "outputs": [],
   "source": [
    "lm = smf.ols( 'Weight ~ Species + Height + Width + Length1 + Length2 + Length3', df ).fit()"
   ]
  },
  {
   "cell_type": "code",
   "execution_count": 108,
   "metadata": {},
   "outputs": [
    {
     "data": {
      "text/html": [
       "<table class=\"simpletable\">\n",
       "<caption>OLS Regression Results</caption>\n",
       "<tr>\n",
       "  <th>Dep. Variable:</th>         <td>Weight</td>      <th>  R-squared:         </th> <td>   0.846</td>\n",
       "</tr>\n",
       "<tr>\n",
       "  <th>Model:</th>                   <td>OLS</td>       <th>  Adj. R-squared:    </th> <td>   0.840</td>\n",
       "</tr>\n",
       "<tr>\n",
       "  <th>Method:</th>             <td>Least Squares</td>  <th>  F-statistic:       </th> <td>   139.4</td>\n",
       "</tr>\n",
       "<tr>\n",
       "  <th>Date:</th>             <td>Tue, 16 Feb 2021</td> <th>  Prob (F-statistic):</th> <td>3.49e-59</td>\n",
       "</tr>\n",
       "<tr>\n",
       "  <th>Time:</th>                 <td>11:55:28</td>     <th>  Log-Likelihood:    </th> <td> -1011.3</td>\n",
       "</tr>\n",
       "<tr>\n",
       "  <th>No. Observations:</th>      <td>   159</td>      <th>  AIC:               </th> <td>   2037.</td>\n",
       "</tr>\n",
       "<tr>\n",
       "  <th>Df Residuals:</th>          <td>   152</td>      <th>  BIC:               </th> <td>   2058.</td>\n",
       "</tr>\n",
       "<tr>\n",
       "  <th>Df Model:</th>              <td>     6</td>      <th>                     </th>     <td> </td>   \n",
       "</tr>\n",
       "<tr>\n",
       "  <th>Covariance Type:</th>      <td>nonrobust</td>    <th>                     </th>     <td> </td>   \n",
       "</tr>\n",
       "</table>\n",
       "<table class=\"simpletable\">\n",
       "<tr>\n",
       "      <td></td>         <th>coef</th>     <th>std err</th>      <th>t</th>      <th>P>|t|</th>  <th>[0.025</th>    <th>0.975]</th>  \n",
       "</tr>\n",
       "<tr>\n",
       "  <th>Intercept</th> <td> -603.6072</td> <td>   56.947</td> <td>  -10.599</td> <td> 0.000</td> <td> -716.117</td> <td> -491.097</td>\n",
       "</tr>\n",
       "<tr>\n",
       "  <th>Species</th>   <td>   30.8994</td> <td>   10.888</td> <td>    2.838</td> <td> 0.005</td> <td>    9.388</td> <td>   52.411</td>\n",
       "</tr>\n",
       "<tr>\n",
       "  <th>Height</th>    <td>   52.6593</td> <td>   12.521</td> <td>    4.206</td> <td> 0.000</td> <td>   27.922</td> <td>   77.397</td>\n",
       "</tr>\n",
       "<tr>\n",
       "  <th>Width</th>     <td>   34.6855</td> <td>   26.251</td> <td>    1.321</td> <td> 0.188</td> <td>  -17.179</td> <td>   86.550</td>\n",
       "</tr>\n",
       "<tr>\n",
       "  <th>Length1</th>   <td>  129.7379</td> <td>   47.912</td> <td>    2.708</td> <td> 0.008</td> <td>   35.078</td> <td>  224.398</td>\n",
       "</tr>\n",
       "<tr>\n",
       "  <th>Length2</th>   <td>  -44.6750</td> <td>   51.079</td> <td>   -0.875</td> <td> 0.383</td> <td> -145.591</td> <td>   56.241</td>\n",
       "</tr>\n",
       "<tr>\n",
       "  <th>Length3</th>   <td>  -58.4435</td> <td>   21.601</td> <td>   -2.706</td> <td> 0.008</td> <td> -101.120</td> <td>  -15.767</td>\n",
       "</tr>\n",
       "</table>\n",
       "<table class=\"simpletable\">\n",
       "<tr>\n",
       "  <th>Omnibus:</th>       <td>109.067</td> <th>  Durbin-Watson:     </th> <td>   0.402</td> \n",
       "</tr>\n",
       "<tr>\n",
       "  <th>Prob(Omnibus):</th> <td> 0.000</td>  <th>  Jarque-Bera (JB):  </th> <td> 894.432</td> \n",
       "</tr>\n",
       "<tr>\n",
       "  <th>Skew:</th>          <td> 2.446</td>  <th>  Prob(JB):          </th> <td>5.98e-195</td>\n",
       "</tr>\n",
       "<tr>\n",
       "  <th>Kurtosis:</th>      <td>13.539</td>  <th>  Cond. No.          </th> <td>    347.</td> \n",
       "</tr>\n",
       "</table><br/><br/>Notes:<br/>[1] Standard Errors assume that the covariance matrix of the errors is correctly specified."
      ],
      "text/plain": [
       "<class 'statsmodels.iolib.summary.Summary'>\n",
       "\"\"\"\n",
       "                            OLS Regression Results                            \n",
       "==============================================================================\n",
       "Dep. Variable:                 Weight   R-squared:                       0.846\n",
       "Model:                            OLS   Adj. R-squared:                  0.840\n",
       "Method:                 Least Squares   F-statistic:                     139.4\n",
       "Date:                Tue, 16 Feb 2021   Prob (F-statistic):           3.49e-59\n",
       "Time:                        11:55:28   Log-Likelihood:                -1011.3\n",
       "No. Observations:                 159   AIC:                             2037.\n",
       "Df Residuals:                     152   BIC:                             2058.\n",
       "Df Model:                           6                                         \n",
       "Covariance Type:            nonrobust                                         \n",
       "==============================================================================\n",
       "                 coef    std err          t      P>|t|      [0.025      0.975]\n",
       "------------------------------------------------------------------------------\n",
       "Intercept   -603.6072     56.947    -10.599      0.000    -716.117    -491.097\n",
       "Species       30.8994     10.888      2.838      0.005       9.388      52.411\n",
       "Height        52.6593     12.521      4.206      0.000      27.922      77.397\n",
       "Width         34.6855     26.251      1.321      0.188     -17.179      86.550\n",
       "Length1      129.7379     47.912      2.708      0.008      35.078     224.398\n",
       "Length2      -44.6750     51.079     -0.875      0.383    -145.591      56.241\n",
       "Length3      -58.4435     21.601     -2.706      0.008    -101.120     -15.767\n",
       "==============================================================================\n",
       "Omnibus:                      109.067   Durbin-Watson:                   0.402\n",
       "Prob(Omnibus):                  0.000   Jarque-Bera (JB):              894.432\n",
       "Skew:                           2.446   Prob(JB):                    5.98e-195\n",
       "Kurtosis:                      13.539   Cond. No.                         347.\n",
       "==============================================================================\n",
       "\n",
       "Notes:\n",
       "[1] Standard Errors assume that the covariance matrix of the errors is correctly specified.\n",
       "\"\"\""
      ]
     },
     "execution_count": 108,
     "metadata": {},
     "output_type": "execute_result"
    }
   ],
   "source": [
    "lm.summary()"
   ]
  },
  {
   "cell_type": "code",
   "execution_count": 120,
   "metadata": {},
   "outputs": [],
   "source": [
    "lm = smf.ols( 'Weight ~ Species + Height + Length1 + Length3', df ).fit()"
   ]
  },
  {
   "cell_type": "code",
   "execution_count": 122,
   "metadata": {},
   "outputs": [
    {
     "data": {
      "text/html": [
       "<table class=\"simpletable\">\n",
       "<caption>OLS Regression Results</caption>\n",
       "<tr>\n",
       "  <th>Dep. Variable:</th>         <td>Weight</td>      <th>  R-squared:         </th> <td>   0.844</td>\n",
       "</tr>\n",
       "<tr>\n",
       "  <th>Model:</th>                   <td>OLS</td>       <th>  Adj. R-squared:    </th> <td>   0.840</td>\n",
       "</tr>\n",
       "<tr>\n",
       "  <th>Method:</th>             <td>Least Squares</td>  <th>  F-statistic:       </th> <td>   208.8</td>\n",
       "</tr>\n",
       "<tr>\n",
       "  <th>Date:</th>             <td>Tue, 16 Feb 2021</td> <th>  Prob (F-statistic):</th> <td>4.21e-61</td>\n",
       "</tr>\n",
       "<tr>\n",
       "  <th>Time:</th>                 <td>12:03:32</td>     <th>  Log-Likelihood:    </th> <td> -1012.2</td>\n",
       "</tr>\n",
       "<tr>\n",
       "  <th>No. Observations:</th>      <td>   159</td>      <th>  AIC:               </th> <td>   2034.</td>\n",
       "</tr>\n",
       "<tr>\n",
       "  <th>Df Residuals:</th>          <td>   154</td>      <th>  BIC:               </th> <td>   2050.</td>\n",
       "</tr>\n",
       "<tr>\n",
       "  <th>Df Model:</th>              <td>     4</td>      <th>                     </th>     <td> </td>   \n",
       "</tr>\n",
       "<tr>\n",
       "  <th>Covariance Type:</th>      <td>nonrobust</td>    <th>                     </th>     <td> </td>   \n",
       "</tr>\n",
       "</table>\n",
       "<table class=\"simpletable\">\n",
       "<tr>\n",
       "      <td></td>         <th>coef</th>     <th>std err</th>      <th>t</th>      <th>P>|t|</th>  <th>[0.025</th>    <th>0.975]</th>  \n",
       "</tr>\n",
       "<tr>\n",
       "  <th>Intercept</th> <td> -625.9573</td> <td>   53.294</td> <td>  -11.745</td> <td> 0.000</td> <td> -731.239</td> <td> -520.675</td>\n",
       "</tr>\n",
       "<tr>\n",
       "  <th>Species</th>   <td>   37.1238</td> <td>    9.831</td> <td>    3.776</td> <td> 0.000</td> <td>   17.703</td> <td>   56.545</td>\n",
       "</tr>\n",
       "<tr>\n",
       "  <th>Height</th>    <td>   64.5451</td> <td>    8.382</td> <td>    7.700</td> <td> 0.000</td> <td>   47.986</td> <td>   81.105</td>\n",
       "</tr>\n",
       "<tr>\n",
       "  <th>Length1</th>   <td>  107.7055</td> <td>   16.041</td> <td>    6.714</td> <td> 0.000</td> <td>   76.017</td> <td>  139.394</td>\n",
       "</tr>\n",
       "<tr>\n",
       "  <th>Length3</th>   <td>  -78.7860</td> <td>   15.662</td> <td>   -5.030</td> <td> 0.000</td> <td> -109.726</td> <td>  -47.846</td>\n",
       "</tr>\n",
       "</table>\n",
       "<table class=\"simpletable\">\n",
       "<tr>\n",
       "  <th>Omnibus:</th>       <td>106.515</td> <th>  Durbin-Watson:     </th> <td>   0.454</td> \n",
       "</tr>\n",
       "<tr>\n",
       "  <th>Prob(Omnibus):</th> <td> 0.000</td>  <th>  Jarque-Bera (JB):  </th> <td> 854.339</td> \n",
       "</tr>\n",
       "<tr>\n",
       "  <th>Skew:</th>          <td> 2.377</td>  <th>  Prob(JB):          </th> <td>3.04e-186</td>\n",
       "</tr>\n",
       "<tr>\n",
       "  <th>Kurtosis:</th>      <td>13.313</td>  <th>  Cond. No.          </th> <td>    207.</td> \n",
       "</tr>\n",
       "</table><br/><br/>Notes:<br/>[1] Standard Errors assume that the covariance matrix of the errors is correctly specified."
      ],
      "text/plain": [
       "<class 'statsmodels.iolib.summary.Summary'>\n",
       "\"\"\"\n",
       "                            OLS Regression Results                            \n",
       "==============================================================================\n",
       "Dep. Variable:                 Weight   R-squared:                       0.844\n",
       "Model:                            OLS   Adj. R-squared:                  0.840\n",
       "Method:                 Least Squares   F-statistic:                     208.8\n",
       "Date:                Tue, 16 Feb 2021   Prob (F-statistic):           4.21e-61\n",
       "Time:                        12:03:32   Log-Likelihood:                -1012.2\n",
       "No. Observations:                 159   AIC:                             2034.\n",
       "Df Residuals:                     154   BIC:                             2050.\n",
       "Df Model:                           4                                         \n",
       "Covariance Type:            nonrobust                                         \n",
       "==============================================================================\n",
       "                 coef    std err          t      P>|t|      [0.025      0.975]\n",
       "------------------------------------------------------------------------------\n",
       "Intercept   -625.9573     53.294    -11.745      0.000    -731.239    -520.675\n",
       "Species       37.1238      9.831      3.776      0.000      17.703      56.545\n",
       "Height        64.5451      8.382      7.700      0.000      47.986      81.105\n",
       "Length1      107.7055     16.041      6.714      0.000      76.017     139.394\n",
       "Length3      -78.7860     15.662     -5.030      0.000    -109.726     -47.846\n",
       "==============================================================================\n",
       "Omnibus:                      106.515   Durbin-Watson:                   0.454\n",
       "Prob(Omnibus):                  0.000   Jarque-Bera (JB):              854.339\n",
       "Skew:                           2.377   Prob(JB):                    3.04e-186\n",
       "Kurtosis:                      13.313   Cond. No.                         207.\n",
       "==============================================================================\n",
       "\n",
       "Notes:\n",
       "[1] Standard Errors assume that the covariance matrix of the errors is correctly specified.\n",
       "\"\"\""
      ]
     },
     "execution_count": 122,
     "metadata": {},
     "output_type": "execute_result"
    }
   ],
   "source": [
    "lm.summary()\n",
    "#after removing length2 and width we can see that the f-statistic has been increased and thereby increasing the accuracy of model"
   ]
  },
  {
   "cell_type": "code",
   "execution_count": 109,
   "metadata": {},
   "outputs": [
    {
     "data": {
      "text/plain": [
       "Intercept   -603.607199\n",
       "Species       30.899427\n",
       "Height        52.659331\n",
       "Width         34.685535\n",
       "Length1      129.737906\n",
       "Length2      -44.674981\n",
       "Length3      -58.443501\n",
       "dtype: float64"
      ]
     },
     "execution_count": 109,
     "metadata": {},
     "output_type": "execute_result"
    }
   ],
   "source": [
    "lm.params"
   ]
  },
  {
   "cell_type": "code",
   "execution_count": 110,
   "metadata": {},
   "outputs": [
    {
     "data": {
      "text/plain": [
       "Intercept    5.333566e-20\n",
       "Species      5.161984e-03\n",
       "Height       4.430369e-05\n",
       "Width        1.883928e-01\n",
       "Length1      7.548843e-03\n",
       "Length2      3.831552e-01\n",
       "Length3      7.596562e-03\n",
       "dtype: float64"
      ]
     },
     "execution_count": 110,
     "metadata": {},
     "output_type": "execute_result"
    }
   ],
   "source": [
    "lm.pvalues"
   ]
  },
  {
   "cell_type": "code",
   "execution_count": 111,
   "metadata": {},
   "outputs": [],
   "source": [
    "#removing width and length2 as they very high pvalue as compared to others\n",
    "lm = smf.ols( 'Weight ~ Species + Height + Length1 + Length3', df ).fit()"
   ]
  },
  {
   "cell_type": "code",
   "execution_count": 112,
   "metadata": {},
   "outputs": [
    {
     "data": {
      "text/plain": [
       "Intercept   -625.957255\n",
       "Species       37.123793\n",
       "Height        64.545072\n",
       "Length1      107.705544\n",
       "Length3      -78.785956\n",
       "dtype: float64"
      ]
     },
     "execution_count": 112,
     "metadata": {},
     "output_type": "execute_result"
    }
   ],
   "source": [
    "lm.params"
   ]
  },
  {
   "cell_type": "code",
   "execution_count": 113,
   "metadata": {},
   "outputs": [
    {
     "data": {
      "text/plain": [
       "Intercept    3.777990e-23\n",
       "Species      2.269032e-04\n",
       "Height       1.537880e-12\n",
       "Length1      3.421408e-10\n",
       "Length3      1.347351e-06\n",
       "dtype: float64"
      ]
     },
     "execution_count": 113,
     "metadata": {},
     "output_type": "execute_result"
    }
   ],
   "source": [
    "lm.pvalues"
   ]
  },
  {
   "cell_type": "code",
   "execution_count": 114,
   "metadata": {},
   "outputs": [],
   "source": [
    "#lmpredict is the the predicted weight\n",
    "lmpredict = lm.predict( {'Species': df.Species, 'Height':df.Height, 'Length1': df.Length1, 'Length3':df.Length3 } )"
   ]
  },
  {
   "cell_type": "code",
   "execution_count": 116,
   "metadata": {},
   "outputs": [
    {
     "data": {
      "text/plain": [
       "140.80518897032348"
      ]
     },
     "execution_count": 116,
     "metadata": {},
     "output_type": "execute_result"
    }
   ],
   "source": [
    "#taking mean square error of orginal and predicted weight\n",
    "mse = metrics.mean_squared_error( df.Weight, lmpredict )\n",
    "rmse = np.sqrt( mse )\n",
    "rmse"
   ]
  },
  {
   "cell_type": "code",
   "execution_count": 117,
   "metadata": {},
   "outputs": [
    {
     "data": {
      "text/plain": [
       "93.40115954518554"
      ]
     },
     "execution_count": 117,
     "metadata": {},
     "output_type": "execute_result"
    }
   ],
   "source": [
    "#taking mean absolute error of orginal and predicted weight\n",
    "metrics.mean_absolute_error(df.Weight, lmpredict)"
   ]
  },
  {
   "cell_type": "code",
   "execution_count": 118,
   "metadata": {},
   "outputs": [
    {
     "name": "stderr",
     "output_type": "stream",
     "text": [
      "C:\\Users\\hp-pc\\anaconda3\\lib\\site-packages\\seaborn\\distributions.py:2551: FutureWarning: `distplot` is a deprecated function and will be removed in a future version. Please adapt your code to use either `displot` (a figure-level function with similar flexibility) or `histplot` (an axes-level function for histograms).\n",
      "  warnings.warn(msg, FutureWarning)\n"
     ]
    },
    {
     "data": {
      "text/plain": [
       "<AxesSubplot:ylabel='Density'>"
      ]
     },
     "execution_count": 118,
     "metadata": {},
     "output_type": "execute_result"
    },
    {
     "data": {
      "image/png": "[encoded data removed]",
      "text/plain": [
       "<Figure size 432x288 with 1 Axes>"
      ]
     },
     "metadata": {
      "needs_background": "light"
     },
     "output_type": "display_data"
    }
   ],
   "source": [
    "#plot of the residuals\n",
    "sns.distplot(lm.resid)"
   ]
  },
  {
   "cell_type": "code",
   "execution_count": 119,
   "metadata": {},
   "outputs": [
    {
     "name": "stderr",
     "output_type": "stream",
     "text": [
      "C:\\Users\\hp-pc\\anaconda3\\lib\\site-packages\\seaborn\\_decorators.py:36: FutureWarning: Pass the following variables as keyword args: x, y. From version 0.12, the only valid positional argument will be `data`, and passing other arguments without an explicit keyword will result in an error or misinterpretation.\n",
      "  warnings.warn(\n"
     ]
    },
    {
     "data": {
      "text/plain": [
       "<seaborn.axisgrid.JointGrid at 0x1c34fe31370>"
      ]
     },
     "execution_count": 119,
     "metadata": {},
     "output_type": "execute_result"
    },
    {
     "data": {
      "image/png": "[encoded data removed]",
      "text/plain": [
       "<Figure size 432x432 with 3 Axes>"
      ]
     },
     "metadata": {
      "needs_background": "light"
     },
     "output_type": "display_data"
    }
   ],
   "source": [
    "#plot of residual vs original weight\n",
    "sns.jointplot(df.Weight, lm.resid)"
   ]
  },
  {
   "cell_type": "markdown",
   "metadata": {},
   "source": [
    "# USING SKLEARN LIB TO BUILD MODEL"
   ]
  },
  {
   "cell_type": "code",
   "execution_count": 123,
   "metadata": {},
   "outputs": [],
   "source": [
    "from sklearn.linear_model import LinearRegression"
   ]
  },
  {
   "cell_type": "code",
   "execution_count": 124,
   "metadata": {},
   "outputs": [],
   "source": [
    "# Splitting into Train and test data sets\n",
    "# Typically the model should be built on a training dataset and validated against a test dataset\n",
    "# Let's split the dataset into 70/30 ratio. 70% belongs to training and 30% belongs to test.\n",
    "\n",
    "from sklearn.model_selection import train_test_split"
   ]
  },
  {
   "cell_type": "code",
   "execution_count": 125,
   "metadata": {},
   "outputs": [],
   "source": [
    "X_train, X_test, y_train, y_test = train_test_split(\n",
    "  df[[\"Species\", \"Height\", \"Width\", \"Length1\", \"Length2\", \"Length3\"]],\n",
    "  df.Weight,\n",
    "  test_size=0.3,\n",
    "  random_state = 101 )"
   ]
  },
  {
   "cell_type": "code",
   "execution_count": 126,
   "metadata": {},
   "outputs": [
    {
     "name": "stdout",
     "output_type": "stream",
     "text": [
      "     Species   Height   Width  Length1  Length2  Length3\n",
      "65         1   8.8928  3.2928     18.4     20.0     22.4\n",
      "100        2   6.5610  4.2390     23.5     25.6     27.0\n",
      "67         1   9.3960  3.4104     19.0     20.7     23.2\n",
      "21         0  15.9936  5.3704     31.4     34.0     39.2\n",
      "22         0  15.5227  5.2801     31.5     34.5     39.7\n",
      "..       ...      ...     ...      ...      ...      ...\n",
      "63         1   7.4052  2.6730     16.3     17.7     19.8\n",
      "70         1  11.0880  4.1440     23.0     25.0     28.0\n",
      "81         2   5.0820  2.7720     18.2     20.0     21.0\n",
      "11         0  14.3714  4.8146     28.7     31.0     36.2\n",
      "95         2   6.2750  3.7250     21.5     23.5     25.0\n",
      "\n",
      "[111 rows x 6 columns]\n",
      "     Species   Height   Width  Length1  Length2  Length3\n",
      "127        2  12.4888  7.5958  41.1000    44.00   46.600\n",
      "42         4   6.1146  3.2943  19.4000    21.00   23.700\n",
      "55         6   8.3804  4.2476  23.6000    26.00   28.700\n",
      "101        2   7.1680  4.1440  25.0000    26.50   28.000\n",
      "33         0  18.6354  6.7473  37.4000    41.00   45.900\n",
      "124        2  11.9328  7.2772  39.8000    43.00   45.200\n",
      "78         2   5.1992  3.1234  16.8000    18.70   19.400\n",
      "143        3   9.6000  6.1440  41.1009    44.01   46.614\n",
      "16         0  14.8604  5.2854  30.4000    33.00   38.300\n",
      "74         2   3.8240  2.4320  13.8000    15.00   16.000\n",
      "122        2  11.1350  6.6300  37.1000    40.00   42.500\n",
      "92         2   6.7920  3.6240  20.5000    22.50   24.000\n",
      "39         4   6.2160  3.5742  18.6000    20.00   22.200\n",
      "64         1   8.3922  2.9181  17.5000    19.00   21.300\n",
      "53         4   8.5680  4.7736  25.0000    27.00   30.600\n",
      "84         2   5.6925  3.6675  19.0000    21.00   22.500\n",
      "80         2   5.1376  3.0368  17.8000    19.60   20.800\n",
      "66         1   8.5376  3.2944  19.0000    20.70   23.200\n",
      "4          0  12.4440  5.1340  26.5000    29.00   34.000\n",
      "1          0  12.4800  4.3056  24.0000    26.30   31.200\n",
      "32         0  18.7542  6.7497  36.2000    39.50   45.300\n",
      "85         2   6.3840  3.5340  19.3000    21.30   22.800\n",
      "41         4   6.1677  3.3957  19.1000    20.80   23.100\n",
      "50         4   7.3968  4.1272  22.1000    23.50   26.800\n",
      "156        5   2.2770  1.2558  12.1000    13.00   13.800\n",
      "31         0  18.0840  6.2920  35.0000    38.50   44.000\n",
      "134        3   7.2800  4.3225  40.0000    42.50   45.500\n",
      "102        2   8.3230  5.1373  25.2000    27.30   28.700\n",
      "155        5   2.4300  1.2690  11.7000    12.40   13.500\n",
      "158        5   2.9322  1.8792  13.8000    15.00   16.200\n",
      "142        3   9.6000  6.1440  41.1009    44.01   46.614\n",
      "96         2   7.2930  3.7230  22.0000    24.00   25.500\n",
      "98         2   6.7334  4.1658  22.6000    24.60   26.200\n",
      "48         4   7.5344  3.8352  22.0000    24.00   27.200\n",
      "69         1  10.3458  3.6636  21.2000    23.00   25.800\n",
      "113        2  10.6091  6.7408  34.0000    36.00   38.300\n",
      "131        3   6.2884  4.0198  34.8000    37.30   39.800\n",
      "68         1   9.7364  3.1571  19.8000    21.50   24.100\n",
      "25         0  16.3600  6.0532  31.8000    35.00   40.900\n",
      "108        2   7.6156  4.7716  27.8000    30.00   31.600\n",
      "145        5   1.7388  1.0476  11.3000    11.80   13.100\n",
      "149        5   2.0832  1.2772  11.3000    11.80   13.100\n",
      "86         2   6.1100  3.4075  20.0000    22.00   23.500\n",
      "129        3   5.7078  4.1580  31.7000    34.00   37.800\n",
      "116        2  11.1366  7.4934  36.5000    39.00   41.400\n",
      "94         2   5.2185  3.6260  21.0000    23.00   24.500\n",
      "90         2   5.5225  3.9950  20.0000    22.00   23.500\n",
      "43         4   5.8045  3.7544  20.4000    22.00   24.700\n"
     ]
    }
   ],
   "source": [
    "print (X_train)\n",
    "print (X_test)"
   ]
  },
  {
   "cell_type": "code",
   "execution_count": 127,
   "metadata": {},
   "outputs": [],
   "source": [
    "## Building the model with train set and make predictions on test set\n",
    "linreg = LinearRegression()\n",
    "linreg.fit( X_train, y_train )\n",
    "y_pred = linreg.predict( X_test )"
   ]
  },
  {
   "cell_type": "code",
   "execution_count": 128,
   "metadata": {},
   "outputs": [
    {
     "data": {
      "text/plain": [
       "array([ 22.72978633,  44.3314795 ,  67.83815453, 148.96962173,\n",
       "       -85.01026065, -42.01732156])"
      ]
     },
     "execution_count": 128,
     "metadata": {},
     "output_type": "execute_result"
    }
   ],
   "source": [
    "linreg.coef_"
   ]
  },
  {
   "cell_type": "code",
   "execution_count": 129,
   "metadata": {},
   "outputs": [
    {
     "data": {
      "text/plain": [
       "181.4799973805688"
      ]
     },
     "execution_count": 129,
     "metadata": {},
     "output_type": "execute_result"
    }
   ],
   "source": [
    "#Calculating root mean square error on testing data\n",
    "from sklearn import metrics\n",
    "rmse = np.sqrt( metrics.mean_squared_error( y_test, y_pred ) )\n",
    "rmse"
   ]
  },
  {
   "cell_type": "code",
   "execution_count": 130,
   "metadata": {},
   "outputs": [
    {
     "data": {
      "text/plain": [
       "120.78485452797938"
      ]
     },
     "execution_count": 130,
     "metadata": {},
     "output_type": "execute_result"
    }
   ],
   "source": [
    "#Calculating root mean square error on training error\n",
    "y_pred_t = linreg.predict(X_train)\n",
    "rmse_t = np.sqrt( metrics.mean_squared_error( y_train, y_pred_t) )\n",
    "rmse_t"
   ]
  },
  {
   "cell_type": "code",
   "execution_count": 131,
   "metadata": {},
   "outputs": [
    {
     "data": {
      "text/plain": [
       "0.8731706945341993"
      ]
     },
     "execution_count": 131,
     "metadata": {},
     "output_type": "execute_result"
    }
   ],
   "source": [
    "#Calculating root mean square on training data\n",
    "metrics.r2_score( y_train, y_pred_t )"
   ]
  },
  {
   "cell_type": "code",
   "execution_count": 132,
   "metadata": {},
   "outputs": [
    {
     "data": {
      "text/plain": [
       "0.7874585095844924"
      ]
     },
     "execution_count": 132,
     "metadata": {},
     "output_type": "execute_result"
    }
   ],
   "source": [
    "#Calculating root mean square on testing data\n",
    "metrics.r2_score( y_test, y_pred )"
   ]
  },
  {
   "cell_type": "code",
   "execution_count": 133,
   "metadata": {},
   "outputs": [
    {
     "data": {
      "text/plain": [
       "[('Species', 22.72978633225896),\n",
       " ('Height', 44.33147950317762),\n",
       " ('Width', 67.83815452536058),\n",
       " ('Length1', 148.96962172975051),\n",
       " ('Length2', -85.01026065403367),\n",
       " ('Length3', -42.017321562819674)]"
      ]
     },
     "execution_count": 133,
     "metadata": {},
     "output_type": "execute_result"
    }
   ],
   "source": [
    "list( zip( [\"Species\", \"Height\", \"Width\", \"Length1\", \"Length2\", \"Length3\"], list( linreg.coef_ ) ) )"
   ]
  },
  {
   "cell_type": "code",
   "execution_count": 134,
   "metadata": {},
   "outputs": [],
   "source": [
    "#calculating residuals or error between testing and predicted data\n",
    "residuals = y_test - y_pred"
   ]
  },
  {
   "cell_type": "code",
   "execution_count": 135,
   "metadata": {},
   "outputs": [
    {
     "name": "stderr",
     "output_type": "stream",
     "text": [
      "C:\\Users\\hp-pc\\anaconda3\\lib\\site-packages\\seaborn\\_decorators.py:36: FutureWarning: Pass the following variables as keyword args: x, y. From version 0.12, the only valid positional argument will be `data`, and passing other arguments without an explicit keyword will result in an error or misinterpretation.\n",
      "  warnings.warn(\n"
     ]
    },
    {
     "data": {
      "text/plain": [
       "<seaborn.axisgrid.JointGrid at 0x1c3517f5580>"
      ]
     },
     "execution_count": 135,
     "metadata": {},
     "output_type": "execute_result"
    },
    {
     "data": {
      "image/png": "[encoded data removed]",
      "text/plain": [
       "<Figure size 432x432 with 3 Axes>"
      ]
     },
     "metadata": {
      "needs_background": "light"
     },
     "output_type": "display_data"
    }
   ],
   "source": [
    "#plot of original weight and residual data\n",
    "sns.jointplot(df.Weight, residuals)"
   ]
  },
  {
   "cell_type": "code",
   "execution_count": 136,
   "metadata": {},
   "outputs": [
    {
     "name": "stderr",
     "output_type": "stream",
     "text": [
      "C:\\Users\\hp-pc\\anaconda3\\lib\\site-packages\\seaborn\\distributions.py:2551: FutureWarning: `distplot` is a deprecated function and will be removed in a future version. Please adapt your code to use either `displot` (a figure-level function with similar flexibility) or `histplot` (an axes-level function for histograms).\n",
      "  warnings.warn(msg, FutureWarning)\n"
     ]
    },
    {
     "data": {
      "text/plain": [
       "<AxesSubplot:xlabel='Weight', ylabel='Density'>"
      ]
     },
     "execution_count": 136,
     "metadata": {},
     "output_type": "execute_result"
    },
    {
     "data": {
      "image/png": "[encoded data removed]",
      "text/plain": [
       "<Figure size 432x288 with 1 Axes>"
      ]
     },
     "metadata": {
      "needs_background": "light"
     },
     "output_type": "display_data"
    }
   ],
   "source": [
    "#plot of residuals\n",
    "sns.distplot( residuals )"
   ]
  },
  {
   "cell_type": "code",
   "execution_count": 137,
   "metadata": {},
   "outputs": [
    {
     "data": {
      "image/png": "[encoded data removed]",
      "text/plain": [
       "<Figure size 432x288 with 1 Axes>"
      ]
     },
     "metadata": {
      "needs_background": "light"
     },
     "output_type": "display_data"
    }
   ],
   "source": [
    "# To ensure residues are random i.e. normally distributed a Q-Q plot can be used\n",
    "# Q-Q plot shows if the residuals are plotted along the line.\n",
    "from scipy import stats\n",
    "import pylab\n",
    "\n",
    "stats.probplot( residuals, dist=\"norm\", plot=pylab )\n",
    "pylab.show()"
   ]
  },
  {
   "cell_type": "markdown",
   "metadata": {},
   "source": [
    "### 4. What is the mean score of the model at  95% confidence interval?"
   ]
  },
  {
   "cell_type": "code",
   "execution_count": 140,
   "metadata": {},
   "outputs": [],
   "source": [
    "#Taking only 95% confidence interval\n",
    "df = df.clip(upper=df.quantile(0.95), axis=1) \n",
    "df = df.clip(lower=df.quantile(0.05), axis=1)\n",
    "\n"
   ]
  },
  {
   "cell_type": "code",
   "execution_count": 141,
   "metadata": {},
   "outputs": [],
   "source": [
    "from sklearn.linear_model import LinearRegression"
   ]
  },
  {
   "cell_type": "code",
   "execution_count": 142,
   "metadata": {},
   "outputs": [],
   "source": [
    "X_train, X_test, y_train, y_test = train_test_split(\n",
    "  df[[\"Species\", \"Height\", \"Width\", \"Length1\", \"Length2\", \"Length3\"]],\n",
    "  df.Weight,\n",
    "  test_size=0.3,\n",
    "  random_state = 101 )"
   ]
  },
  {
   "cell_type": "code",
   "execution_count": 143,
   "metadata": {},
   "outputs": [
    {
     "name": "stdout",
     "output_type": "stream",
     "text": [
      "     Species   Height   Width  Length1  Length2  Length3\n",
      "65         1   8.8928  3.2928     18.4     20.0     22.4\n",
      "100        2   6.5610  4.2390     23.5     25.6     27.0\n",
      "67         1   9.3960  3.4104     19.0     20.7     23.2\n",
      "21         0  15.9936  5.3704     31.4     34.0     39.2\n",
      "22         0  15.5227  5.2801     31.5     34.5     39.7\n",
      "..       ...      ...     ...      ...      ...      ...\n",
      "63         1   7.4052  2.6730     16.3     17.7     19.8\n",
      "70         1  11.0880  4.1440     23.0     25.0     28.0\n",
      "81         2   5.0820  2.7720     18.2     20.0     21.0\n",
      "11         0  14.3714  4.8146     28.7     31.0     36.2\n",
      "95         2   6.2750  3.7250     21.5     23.5     25.0\n",
      "\n",
      "[111 rows x 6 columns]\n",
      "     Species    Height    Width   Length1  Length2  Length3\n",
      "127        2  12.48880  7.28462  41.10000   44.000  46.6000\n",
      "42         4   6.11460  3.29430  19.40000   21.000  23.7000\n",
      "55         5   8.38040  4.24760  23.60000   26.000  28.7000\n",
      "101        2   7.16800  4.14400  25.00000   26.500  28.0000\n",
      "33         0  16.37732  6.74730  37.40000   41.000  45.9000\n",
      "124        2  11.93280  7.27720  39.80000   43.000  45.2000\n",
      "78         2   5.19920  3.12340  16.80000   18.700  19.4000\n",
      "143        3   9.60000  6.14400  41.10009   44.001  46.6014\n",
      "16         0  14.86040  5.28540  30.40000   33.000  38.3000\n",
      "74         2   3.82400  2.43200  13.80000   15.000  16.0000\n",
      "122        2  11.13500  6.63000  37.10000   40.000  42.5000\n",
      "92         2   6.79200  3.62400  20.50000   22.500  24.0000\n",
      "39         4   6.21600  3.57420  18.60000   20.000  22.2000\n",
      "64         1   8.39220  2.91810  17.50000   19.000  21.3000\n",
      "53         4   8.56800  4.77360  25.00000   27.000  30.6000\n",
      "84         2   5.69250  3.66750  19.00000   21.000  22.5000\n",
      "80         2   5.13760  3.03680  17.80000   19.600  20.8000\n",
      "66         1   8.53760  3.29440  19.00000   20.700  23.2000\n",
      "4          0  12.44400  5.13400  26.50000   29.000  34.0000\n",
      "1          0  12.48000  4.30560  24.00000   26.300  31.2000\n",
      "32         0  16.37732  6.74970  36.20000   39.500  45.3000\n",
      "85         2   6.38400  3.53400  19.30000   21.300  22.8000\n",
      "41         4   6.16770  3.39570  19.10000   20.800  23.1000\n",
      "50         4   7.39680  4.12720  22.10000   23.500  26.8000\n",
      "156        5   2.27700  1.28314  12.10000   13.000  13.8000\n",
      "31         0  16.37732  6.29200  35.00000   38.500  44.0000\n",
      "134        3   7.28000  4.32250  40.00000   42.500  45.5000\n",
      "102        2   8.32300  5.13730  25.20000   27.300  28.7000\n",
      "155        5   2.43000  1.28314  11.70000   12.400  13.5000\n",
      "158        5   2.93220  1.87920  13.80000   15.000  16.2000\n",
      "142        3   9.60000  6.14400  41.10009   44.001  46.6014\n",
      "96         2   7.29300  3.72300  22.00000   24.000  25.5000\n",
      "98         2   6.73340  4.16580  22.60000   24.600  26.2000\n",
      "48         4   7.53440  3.83520  22.00000   24.000  27.2000\n",
      "69         1  10.34580  3.66360  21.20000   23.000  25.8000\n",
      "113        2  10.60910  6.74080  34.00000   36.000  38.3000\n",
      "131        3   6.28840  4.01980  34.80000   37.300  39.8000\n",
      "68         1   9.73640  3.15710  19.80000   21.500  24.1000\n",
      "25         0  16.36000  6.05320  31.80000   35.000  40.9000\n",
      "108        2   7.61560  4.77160  27.80000   30.000  31.6000\n",
      "145        5   2.20356  1.28314  11.30000   11.800  13.1000\n",
      "149        5   2.20356  1.28314  11.30000   11.800  13.1000\n",
      "86         2   6.11000  3.40750  20.00000   22.000  23.5000\n",
      "129        3   5.70780  4.15800  31.70000   34.000  37.8000\n",
      "116        2  11.13660  7.28462  36.50000   39.000  41.4000\n",
      "94         2   5.21850  3.62600  21.00000   23.000  24.5000\n",
      "90         2   5.52250  3.99500  20.00000   22.000  23.5000\n",
      "43         4   5.80450  3.75440  20.40000   22.000  24.7000\n"
     ]
    }
   ],
   "source": [
    "print (X_train)\n",
    "print (X_test)"
   ]
  },
  {
   "cell_type": "code",
   "execution_count": 144,
   "metadata": {},
   "outputs": [],
   "source": [
    "## Building the model with train set and make predictions on test set\n",
    "linreg = LinearRegression()\n",
    "linreg.fit( X_train, y_train )\n",
    "y_pred = linreg.predict( X_test )"
   ]
  },
  {
   "cell_type": "code",
   "execution_count": 145,
   "metadata": {},
   "outputs": [
    {
     "data": {
      "text/plain": [
       "array([ 26.76233616,  45.07685466,  53.97967808,  92.98170944,\n",
       "       -38.96013037, -35.47339756])"
      ]
     },
     "execution_count": 145,
     "metadata": {},
     "output_type": "execute_result"
    }
   ],
   "source": [
    "linreg.coef_"
   ]
  },
  {
   "cell_type": "code",
   "execution_count": 146,
   "metadata": {},
   "outputs": [
    {
     "data": {
      "text/plain": [
       "102.02354977610128"
      ]
     },
     "execution_count": 146,
     "metadata": {},
     "output_type": "execute_result"
    }
   ],
   "source": [
    "#Calculating root mean square error on testing data\n",
    "from sklearn import metrics\n",
    "rmse = np.sqrt( metrics.mean_squared_error( y_test, y_pred ) )\n",
    "rmse"
   ]
  },
  {
   "cell_type": "code",
   "execution_count": 147,
   "metadata": {},
   "outputs": [
    {
     "data": {
      "text/plain": [
       "93.8708490666008"
      ]
     },
     "execution_count": 147,
     "metadata": {},
     "output_type": "execute_result"
    }
   ],
   "source": [
    "#Calculating root mean square error on training error\n",
    "y_pred_t = linreg.predict(X_train)\n",
    "rmse_t = np.sqrt( metrics.mean_squared_error( y_train, y_pred_t) )\n",
    "rmse_t"
   ]
  },
  {
   "cell_type": "code",
   "execution_count": 148,
   "metadata": {},
   "outputs": [
    {
     "data": {
      "text/plain": [
       "0.9104133336354534"
      ]
     },
     "execution_count": 148,
     "metadata": {},
     "output_type": "execute_result"
    }
   ],
   "source": [
    "#Calculating root mean square on training data\n",
    "metrics.r2_score( y_train, y_pred_t )"
   ]
  },
  {
   "cell_type": "code",
   "execution_count": 149,
   "metadata": {},
   "outputs": [
    {
     "data": {
      "text/plain": [
       "0.9058307095747817"
      ]
     },
     "execution_count": 149,
     "metadata": {},
     "output_type": "execute_result"
    }
   ],
   "source": [
    "#Calculating root mean square on testing data\n",
    "metrics.r2_score( y_test, y_pred )"
   ]
  },
  {
   "cell_type": "markdown",
   "metadata": {},
   "source": [
    "### 5. Compare real and predicted weights and give a conclusion statement based on it?"
   ]
  },
  {
   "cell_type": "code",
   "execution_count": 150,
   "metadata": {},
   "outputs": [],
   "source": [
    "#calculating residuals or error between testing and predicted data\n",
    "residuals = y_test - y_pred"
   ]
  },
  {
   "cell_type": "code",
   "execution_count": 151,
   "metadata": {
    "scrolled": true
   },
   "outputs": [
    {
     "name": "stderr",
     "output_type": "stream",
     "text": [
      "C:\\Users\\hp-pc\\anaconda3\\lib\\site-packages\\seaborn\\_decorators.py:36: FutureWarning: Pass the following variables as keyword args: x, y. From version 0.12, the only valid positional argument will be `data`, and passing other arguments without an explicit keyword will result in an error or misinterpretation.\n",
      "  warnings.warn(\n"
     ]
    },
    {
     "data": {
      "text/plain": [
       "<seaborn.axisgrid.JointGrid at 0x1c350000220>"
      ]
     },
     "execution_count": 151,
     "metadata": {},
     "output_type": "execute_result"
    },
    {
     "data": {
      "image/png": "[encoded data removed]",
      "text/plain": [
       "<Figure size 432x432 with 3 Axes>"
      ]
     },
     "metadata": {
      "needs_background": "light"
     },
     "output_type": "display_data"
    }
   ],
   "source": [
    "#plot of original weight and residual data\n",
    "sns.jointplot(df.Weight, residuals)"
   ]
  },
  {
   "cell_type": "markdown",
   "metadata": {},
   "source": [
    "Here in the above graoh we can see the error/residual between the predicted and the original weight. When the 95% confidence interval is taken we observe that the our predicted model is giving 90% accuracy. "
   ]
  },
  {
   "cell_type": "code",
   "execution_count": 154,
   "metadata": {},
   "outputs": [
    {
     "name": "stderr",
     "output_type": "stream",
     "text": [
      "C:\\Users\\hp-pc\\anaconda3\\lib\\site-packages\\seaborn\\distributions.py:2551: FutureWarning: `distplot` is a deprecated function and will be removed in a future version. Please adapt your code to use either `displot` (a figure-level function with similar flexibility) or `histplot` (an axes-level function for histograms).\n",
      "  warnings.warn(msg, FutureWarning)\n"
     ]
    },
    {
     "data": {
      "text/plain": [
       "<AxesSubplot:xlabel='Weight', ylabel='Density'>"
      ]
     },
     "execution_count": 154,
     "metadata": {},
     "output_type": "execute_result"
    },
    {
     "data": {
      "image/png": "[encoded data removed]",
      "text/plain": [
       "<Figure size 432x288 with 1 Axes>"
      ]
     },
     "metadata": {
      "needs_background": "light"
     },
     "output_type": "display_data"
    }
   ],
   "source": [
    "#plot of residuals\n",
    "sns.distplot( residuals )"
   ]
  },
  {
   "cell_type": "markdown",
   "metadata": {},
   "source": [
    "We can observe that the error between the original and the predicted weight mostly lies between (-100 - 100) range."
   ]
  },
  {
   "cell_type": "code",
   "execution_count": 153,
   "metadata": {},
   "outputs": [
    {
     "data": {
      "image/png": "[encoded data removed]",
      "text/plain": [
       "<Figure size 432x288 with 1 Axes>"
      ]
     },
     "metadata": {
      "needs_background": "light"
     },
     "output_type": "display_data"
    }
   ],
   "source": [
    "# To ensure residues are random i.e. normally distributed a Q-Q plot can be used\n",
    "# Q-Q plot shows if the residuals are plotted along the line.\n",
    "from scipy import stats\n",
    "import pylab\n",
    "\n",
    "stats.probplot( residuals, dist=\"norm\", plot=pylab )\n",
    "pylab.show()"
   ]
  },
  {
   "cell_type": "code",
   "execution_count": null,
   "metadata": {},
   "outputs": [],
   "source": []
  }
 ],
 "metadata": {
  "kernelspec": {
   "display_name": "Python 3",
   "language": "python",
   "name": "python3"
  },
  "language_info": {
   "codemirror_mode": {
    "name": "ipython",
    "version": 3
   },
   "file_extension": ".py",
   "mimetype": "text/x-python",
   "name": "python",
   "nbconvert_exporter": "python",
   "pygments_lexer": "ipython3",
   "version": "3.8.3"
  }
 },
 "nbformat": 4,
 "nbformat_minor": 4
}
