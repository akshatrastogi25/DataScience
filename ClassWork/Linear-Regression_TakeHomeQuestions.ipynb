{
 "cells": [
  {
   "cell_type": "markdown",
   "metadata": {},
   "source": [
    "### 1. Plot a bar chart showing count of individual species?"
   ]
  },
  {
   "cell_type": "code",
   "execution_count": 2,
   "metadata": {},
   "outputs": [
    {
     "data": {
      "image/png": "[encoded data removed]",
      "text/plain": [
       "<Figure size 432x288 with 1 Axes>"
      ]
     },
     "metadata": {
      "needs_background": "light"
     },
     "output_type": "display_data"
    }
   ],
   "source": [
    "from sklearn import linear_model\n",
    "import tkinter as tk \n",
    "import pandas as pd\n",
    "import matplotlib.pyplot as plt\n",
    "from matplotlib.backends.backend_tkagg import FigureCanvasTkAgg\n",
    "\n",
    "df = pd.read_csv('/Users/akshatrastogi/Desktop/Fish_dataset.csv') \n",
    "y = df.iloc[:, -7].values\n",
    "y\n",
    "n=len(y)\n",
    "Bream=0\n",
    "Roach=0\n",
    "Whitefish=0\n",
    "Parkki=0\n",
    "Perch=0\n",
    "Pike=0\n",
    "Smelt=0\n",
    "\n",
    "for i in range(n):\n",
    "    if y[i] == \"Bream\":\n",
    "        Bream=Bream+1\n",
    "    if y[i] == \"Roach\":\n",
    "        Roach+=1\n",
    "    if y[i] == \"Whitefish\":\n",
    "        Whitefish+=1\n",
    "    if y[i] == \"Parkki\":\n",
    "        Parkki+=1\n",
    "    if y[i] == \"Perch\":\n",
    "        Perch+=1\n",
    "    if y[i] == \"Pike\":\n",
    "        Pike+=1\n",
    "    if y[i] == \"Smelt\":\n",
    "        Smelt+=1\n",
    "Species=[\"Bream\",\"Roach\",\"Whitefish\",\"Parkki\",\"Perch\",\"Pike\",\"Smelt\"]\n",
    "Number=[Bream,Roach,Whitefish,Parkki,Perch,Pike,Smelt]\n",
    "import matplotlib.pyplot as plt\n",
    "plt.bar(Species,Number,label='Species',color='black')\n",
    "plt.xlabel('Species')\n",
    "plt.ylabel('Number of Fish')\n",
    "plt.legend()\n",
    "plt.show()"
   ]
  },
  {
   "cell_type": "markdown",
   "metadata": {},
   "source": [
    "### 2. Identify outliers and remove if any?"
   ]
  },
  {
   "cell_type": "code",
   "execution_count": null,
   "metadata": {
    "collapsed": true
   },
   "outputs": [],
   "source": []
  },
  {
   "cell_type": "markdown",
   "metadata": {},
   "source": [
    "### 3. Build a regression model and print regression equation?"
   ]
  },
  {
   "cell_type": "code",
   "execution_count": 3,
   "metadata": {},
   "outputs": [
    {
     "name": "stdout",
     "output_type": "stream",
     "text": [
      "Regressor Coeff is [0.00309297 0.12473392]\n",
      "Regressor Intercept is 2.0664873988704953\n",
      "\n",
      " the Regression equation is\n",
      "Y = 2.0664873988704953 + (0.00309296824002104)x1 + (0.12473391697274712)x2\n"
     ]
    }
   ],
   "source": [
    "X=df[[\"Weight\",\"Height\"]]\n",
    "y=df[\"Width\"]\n",
    "from sklearn.linear_model import LinearRegression\n",
    "regressor = LinearRegression()\n",
    "regressor.fit(X,y)\n",
    "print(\"Regressor Coeff is {}\".format(regressor.coef_))\n",
    "print(\"Regressor Intercept is {}\".format(regressor.intercept_))\n",
    "B1,B2=regressor.coef_\n",
    "B0=regressor.intercept_\n",
    "print(\"\\n the Regression equation is\\nY = {} + ({})x1 + ({})x2\".format(B0,B1,B2))"
   ]
  },
  {
   "cell_type": "markdown",
   "metadata": {},
   "source": [
    "### 4. What is the mean score of the model at  95% confidence interval?"
   ]
  },
  {
   "cell_type": "code",
   "execution_count": null,
   "metadata": {
    "collapsed": true
   },
   "outputs": [],
   "source": []
  },
  {
   "cell_type": "markdown",
   "metadata": {},
   "source": [
    "### 5. Compare real and predicted weights and give a conclusion statement based on it?"
   ]
  },
  {
   "cell_type": "code",
   "execution_count": 4,
   "metadata": {},
   "outputs": [
    {
     "data": {
      "text/html": [
       "<div>\n",
       "<style scoped>\n",
       "    .dataframe tbody tr th:only-of-type {\n",
       "        vertical-align: middle;\n",
       "    }\n",
       "\n",
       "    .dataframe tbody tr th {\n",
       "        vertical-align: top;\n",
       "    }\n",
       "\n",
       "    .dataframe thead th {\n",
       "        text-align: right;\n",
       "    }\n",
       "</style>\n",
       "<table border=\"1\" class=\"dataframe\">\n",
       "  <thead>\n",
       "    <tr style=\"text-align: right;\">\n",
       "      <th></th>\n",
       "      <th>Y Actual Value</th>\n",
       "      <th>Y Predicted Value</th>\n",
       "    </tr>\n",
       "  </thead>\n",
       "  <tbody>\n",
       "    <tr>\n",
       "      <th>0</th>\n",
       "      <td>4.0200</td>\n",
       "      <td>4.251920</td>\n",
       "    </tr>\n",
       "    <tr>\n",
       "      <th>1</th>\n",
       "      <td>4.3056</td>\n",
       "      <td>4.520127</td>\n",
       "    </tr>\n",
       "    <tr>\n",
       "      <th>2</th>\n",
       "      <td>4.6961</td>\n",
       "      <td>4.662028</td>\n",
       "    </tr>\n",
       "    <tr>\n",
       "      <th>3</th>\n",
       "      <td>4.4555</td>\n",
       "      <td>4.777098</td>\n",
       "    </tr>\n",
       "    <tr>\n",
       "      <th>4</th>\n",
       "      <td>5.1340</td>\n",
       "      <td>4.948653</td>\n",
       "    </tr>\n",
       "    <tr>\n",
       "      <th>...</th>\n",
       "      <td>...</td>\n",
       "      <td>...</td>\n",
       "    </tr>\n",
       "    <tr>\n",
       "      <th>154</th>\n",
       "      <td>1.3936</td>\n",
       "      <td>2.364965</td>\n",
       "    </tr>\n",
       "    <tr>\n",
       "      <th>155</th>\n",
       "      <td>1.2690</td>\n",
       "      <td>2.411037</td>\n",
       "    </tr>\n",
       "    <tr>\n",
       "      <th>156</th>\n",
       "      <td>1.2558</td>\n",
       "      <td>2.388241</td>\n",
       "    </tr>\n",
       "    <tr>\n",
       "      <th>157</th>\n",
       "      <td>2.0672</td>\n",
       "      <td>2.485754</td>\n",
       "    </tr>\n",
       "    <tr>\n",
       "      <th>158</th>\n",
       "      <td>1.8792</td>\n",
       "      <td>2.493782</td>\n",
       "    </tr>\n",
       "  </tbody>\n",
       "</table>\n",
       "<p>159 rows × 2 columns</p>\n",
       "</div>"
      ],
      "text/plain": [
       "     Y Actual Value  Y Predicted Value\n",
       "0            4.0200           4.251920\n",
       "1            4.3056           4.520127\n",
       "2            4.6961           4.662028\n",
       "3            4.4555           4.777098\n",
       "4            5.1340           4.948653\n",
       "..              ...                ...\n",
       "154          1.3936           2.364965\n",
       "155          1.2690           2.411037\n",
       "156          1.2558           2.388241\n",
       "157          2.0672           2.485754\n",
       "158          1.8792           2.493782\n",
       "\n",
       "[159 rows x 2 columns]"
      ]
     },
     "execution_count": 4,
     "metadata": {},
     "output_type": "execute_result"
    }
   ],
   "source": [
    "import numpy as np\n",
    "from numpy import reshape\n",
    "y_pred = regressor.predict(X)\n",
    "np.set_printoptions(precision=2)\n",
    "data=pd.DataFrame({\"Y Actual Value\":y,\"Y Predicted Value\":y_pred})\n",
    "data"
   ]
  },
  {
   "cell_type": "code",
   "execution_count": null,
   "metadata": {},
   "outputs": [],
   "source": []
  }
 ],
 "metadata": {
  "kernelspec": {
   "display_name": "Python 3",
   "language": "python",
   "name": "python3"
  },
  "language_info": {
   "codemirror_mode": {
    "name": "ipython",
    "version": 3
   },
   "file_extension": ".py",
   "mimetype": "text/x-python",
   "name": "python",
   "nbconvert_exporter": "python",
   "pygments_lexer": "ipython3",
   "version": "3.8.3"
  }
 },
 "nbformat": 4,
 "nbformat_minor": 4
}
