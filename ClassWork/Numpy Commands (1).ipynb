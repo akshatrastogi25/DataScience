{
 "cells": [
  {
   "cell_type": "code",
   "execution_count": 1,
   "metadata": {},
   "outputs": [],
   "source": [
    "import numpy as np"
   ]
  },
  {
   "cell_type": "code",
   "execution_count": 2,
   "metadata": {},
   "outputs": [],
   "source": [
    "#1 D Array\n",
    "a = np.array([1,2,3])"
   ]
  },
  {
   "cell_type": "code",
   "execution_count": 3,
   "metadata": {},
   "outputs": [
    {
     "data": {
      "text/plain": [
       "(3,)"
      ]
     },
     "execution_count": 3,
     "metadata": {},
     "output_type": "execute_result"
    }
   ],
   "source": [
    "a.shape"
   ]
  },
  {
   "cell_type": "code",
   "execution_count": 4,
   "metadata": {},
   "outputs": [],
   "source": [
    "b = np.array([(1,2,3),(4,5,6)])"
   ]
  },
  {
   "cell_type": "code",
   "execution_count": 5,
   "metadata": {},
   "outputs": [
    {
     "data": {
      "text/plain": [
       "(2, 3)"
      ]
     },
     "execution_count": 5,
     "metadata": {},
     "output_type": "execute_result"
    }
   ],
   "source": [
    "b.shape"
   ]
  },
  {
   "cell_type": "code",
   "execution_count": 6,
   "metadata": {},
   "outputs": [],
   "source": [
    "c = np.random.rand(8,8)"
   ]
  },
  {
   "cell_type": "code",
   "execution_count": 7,
   "metadata": {},
   "outputs": [
    {
     "data": {
      "text/plain": [
       "(8, 8)"
      ]
     },
     "execution_count": 7,
     "metadata": {},
     "output_type": "execute_result"
    }
   ],
   "source": [
    "c.shape"
   ]
  },
  {
   "cell_type": "code",
   "execution_count": 8,
   "metadata": {},
   "outputs": [
    {
     "data": {
      "text/plain": [
       "64"
      ]
     },
     "execution_count": 8,
     "metadata": {},
     "output_type": "execute_result"
    }
   ],
   "source": [
    "c.size"
   ]
  },
  {
   "cell_type": "code",
   "execution_count": 19,
   "metadata": {},
   "outputs": [],
   "source": [
    "d = c.reshape(64,)"
   ]
  },
  {
   "cell_type": "code",
   "execution_count": 20,
   "metadata": {},
   "outputs": [
    {
     "name": "stdout",
     "output_type": "stream",
     "text": [
      "(64,)\n",
      "[4.26029732e-01 9.33376205e-01 9.05522890e-01 2.24156891e-02\n",
      " 8.56701401e-01 4.92806753e-01 1.98950435e-05 6.23201163e-01\n",
      " 9.62028557e-01 9.88669659e-01 9.44654380e-01 6.53955216e-01\n",
      " 1.71149993e-01 3.89312115e-02 9.29615361e-01 6.93713009e-01\n",
      " 3.25262394e-01 4.46077564e-01 3.85934388e-01 8.85943233e-01\n",
      " 3.86384001e-01 9.17065211e-01 1.64173443e-01 5.73943867e-01\n",
      " 4.46597217e-01 8.04640363e-01 6.82137344e-01 2.46539156e-01\n",
      " 3.28321429e-01 1.65478002e-01 9.46225814e-02 1.10624295e-01\n",
      " 5.81844431e-01 3.93315617e-04 5.44825622e-01 8.95888892e-01\n",
      " 4.03833926e-01 9.08287712e-01 1.40383326e-01 8.07561265e-01\n",
      " 4.14268177e-01 6.96975894e-01 7.08642789e-01 1.78823922e-01\n",
      " 5.02758986e-01 5.60170930e-01 5.78775501e-01 3.59896571e-01\n",
      " 1.23832162e-01 4.34667024e-01 4.64043779e-01 6.80535726e-01\n",
      " 5.34831903e-01 1.93929495e-01 5.46348519e-01 7.70505815e-01\n",
      " 9.36710218e-02 1.91981247e-01 8.69343719e-01 6.40952665e-02\n",
      " 8.23150014e-01 2.80305211e-01 8.34553960e-01 7.89230550e-01]\n"
     ]
    }
   ],
   "source": [
    "print(d.shape)\n",
    "print(d)"
   ]
  },
  {
   "cell_type": "code",
   "execution_count": 21,
   "metadata": {},
   "outputs": [
    {
     "data": {
      "text/plain": [
       "dtype('float64')"
      ]
     },
     "execution_count": 21,
     "metadata": {},
     "output_type": "execute_result"
    }
   ],
   "source": [
    "d.dtype"
   ]
  },
  {
   "cell_type": "code",
   "execution_count": 22,
   "metadata": {},
   "outputs": [
    {
     "data": {
      "text/plain": [
       "array([0.])"
      ]
     },
     "execution_count": 22,
     "metadata": {},
     "output_type": "execute_result"
    }
   ],
   "source": [
    "np.zeros(1)"
   ]
  },
  {
   "cell_type": "code",
   "execution_count": 23,
   "metadata": {},
   "outputs": [
    {
     "data": {
      "text/plain": [
       "array([[1., 0., 0., 0., 0.],\n",
       "       [0., 1., 0., 0., 0.],\n",
       "       [0., 0., 1., 0., 0.],\n",
       "       [0., 0., 0., 1., 0.],\n",
       "       [0., 0., 0., 0., 1.]])"
      ]
     },
     "execution_count": 23,
     "metadata": {},
     "output_type": "execute_result"
    }
   ],
   "source": [
    "np.eye(5)"
   ]
  },
  {
   "cell_type": "code",
   "execution_count": 18,
   "metadata": {},
   "outputs": [
    {
     "data": {
      "text/plain": [
       "array([[-0.94382968,  1.14485634,  1.55229213,  1.51848561, -0.20676135,\n",
       "        -0.0890137 ,  0.2363807 ,  0.19549253],\n",
       "       [ 1.46283391,  1.02933212,  0.49604312,  1.20621904, -0.21774499,\n",
       "         1.43778317,  0.45987762,  1.01000403],\n",
       "       [ 0.58055479, -1.05212759,  0.14465699, -2.43701556,  1.07747571,\n",
       "         2.54290546, -0.86016428,  1.89427859],\n",
       "       [-0.12220099, -1.01895651,  0.23264885, -1.05170449, -0.84902809,\n",
       "        -0.86320302,  1.56824601,  0.89371531],\n",
       "       [ 0.00317864, -0.9315526 , -0.21827136, -1.33689916, -0.41691419,\n",
       "         2.34925134,  0.52549211,  0.58713108],\n",
       "       [-0.91732492,  0.87311563,  0.84790252,  1.65560307,  0.47659539,\n",
       "        -0.01771053,  1.32907793,  0.94325174],\n",
       "       [ 0.80407376,  1.11612676,  0.23099167,  1.61549653, -1.40084393,\n",
       "        -0.14072485, -0.64503246, -0.3069017 ],\n",
       "       [-0.29924263,  0.00396431,  1.01460436,  0.50008922, -0.21883701,\n",
       "        -0.95443989, -1.07881192,  0.35046011]])"
      ]
     },
     "execution_count": 18,
     "metadata": {},
     "output_type": "execute_result"
    }
   ],
   "source": [
    "np.random.randn(8,8)"
   ]
  },
  {
   "cell_type": "code",
   "execution_count": 24,
   "metadata": {},
   "outputs": [],
   "source": [
    "e = np.random.randint(40, size=(8,8))"
   ]
  },
  {
   "cell_type": "code",
   "execution_count": 25,
   "metadata": {},
   "outputs": [
    {
     "data": {
      "text/plain": [
       "array([[28, 27,  6, 34, 23, 15,  9, 11],\n",
       "       [ 6, 17,  5, 32,  3,  2,  0, 13],\n",
       "       [37, 25, 21, 35,  8,  4, 18, 22],\n",
       "       [ 4, 16,  7, 37,  3, 25, 20,  1],\n",
       "       [31,  4,  5,  1, 33, 26, 15, 36],\n",
       "       [ 1, 27, 12, 29, 38,  9, 34, 38],\n",
       "       [15, 24, 36, 25, 13, 30, 30,  0],\n",
       "       [32, 30,  9, 31, 31, 10, 16, 27]])"
      ]
     },
     "execution_count": 25,
     "metadata": {},
     "output_type": "execute_result"
    }
   ],
   "source": [
    "e"
   ]
  },
  {
   "cell_type": "code",
   "execution_count": 26,
   "metadata": {},
   "outputs": [
    {
     "data": {
      "text/plain": [
       "(8, 8)"
      ]
     },
     "execution_count": 26,
     "metadata": {},
     "output_type": "execute_result"
    }
   ],
   "source": [
    "e.shape"
   ]
  },
  {
   "cell_type": "code",
   "execution_count": 33,
   "metadata": {},
   "outputs": [],
   "source": [
    "f = e.reshape(64)"
   ]
  },
  {
   "cell_type": "code",
   "execution_count": 34,
   "metadata": {},
   "outputs": [
    {
     "data": {
      "text/plain": [
       "(64,)"
      ]
     },
     "execution_count": 34,
     "metadata": {},
     "output_type": "execute_result"
    }
   ],
   "source": [
    "f.shape"
   ]
  },
  {
   "cell_type": "code",
   "execution_count": 27,
   "metadata": {},
   "outputs": [
    {
     "data": {
      "text/plain": [
       "array([[28,  6, 37,  4, 31,  1, 15, 32],\n",
       "       [27, 17, 25, 16,  4, 27, 24, 30],\n",
       "       [ 6,  5, 21,  7,  5, 12, 36,  9],\n",
       "       [34, 32, 35, 37,  1, 29, 25, 31],\n",
       "       [23,  3,  8,  3, 33, 38, 13, 31],\n",
       "       [15,  2,  4, 25, 26,  9, 30, 10],\n",
       "       [ 9,  0, 18, 20, 15, 34, 30, 16],\n",
       "       [11, 13, 22,  1, 36, 38,  0, 27]])"
      ]
     },
     "execution_count": 27,
     "metadata": {},
     "output_type": "execute_result"
    }
   ],
   "source": [
    "e.T  #Transpose of the matrix"
   ]
  },
  {
   "cell_type": "code",
   "execution_count": 38,
   "metadata": {},
   "outputs": [],
   "source": [
    "f = f.reshape(4,4,4)"
   ]
  },
  {
   "cell_type": "code",
   "execution_count": 35,
   "metadata": {},
   "outputs": [
    {
     "data": {
      "text/plain": [
       "(4, 4, 4)"
      ]
     },
     "execution_count": 35,
     "metadata": {},
     "output_type": "execute_result"
    }
   ],
   "source": [
    "f.shape"
   ]
  },
  {
   "cell_type": "code",
   "execution_count": 36,
   "metadata": {},
   "outputs": [
    {
     "data": {
      "text/plain": [
       "array([[[26, 35, 19,  7],\n",
       "        [38,  1,  7, 27],\n",
       "        [29, 26, 29, 28],\n",
       "        [25,  6, 10, 11]],\n",
       "\n",
       "       [[37, 13, 29, 15],\n",
       "        [11, 21,  8, 10],\n",
       "        [25, 39,  2,  8],\n",
       "        [37, 26, 23,  5]],\n",
       "\n",
       "       [[38, 16, 15, 11],\n",
       "        [39, 29, 22,  7],\n",
       "        [ 2, 22,  4,  7],\n",
       "        [ 7, 23, 20, 24]],\n",
       "\n",
       "       [[ 5, 13, 23, 22],\n",
       "        [ 2, 22,  9,  6],\n",
       "        [38, 34, 16, 10],\n",
       "        [11,  3,  6, 38]]])"
      ]
     },
     "execution_count": 36,
     "metadata": {},
     "output_type": "execute_result"
    }
   ],
   "source": [
    "f"
   ]
  },
  {
   "cell_type": "code",
   "execution_count": 33,
   "metadata": {},
   "outputs": [],
   "source": [
    "g = np.random.randint(16, size=(8,8))"
   ]
  },
  {
   "cell_type": "code",
   "execution_count": 34,
   "metadata": {},
   "outputs": [
    {
     "name": "stdout",
     "output_type": "stream",
     "text": [
      "[[ 6  1  5  9  5  6 12 10]\n",
      " [ 9 14  2  0 15 10  2 15]\n",
      " [13 13 12 15 12  8 13  7]\n",
      " [10  2 11  7  7  0 14 15]\n",
      " [11  3  1  3 15  0  6 11]\n",
      " [ 0  5  3  9  6  0 13 13]\n",
      " [10  7 12  8  2  3  6  2]\n",
      " [ 5  2 13  7  3  9  5 14]]\n"
     ]
    }
   ],
   "source": [
    "g.shape\n",
    "print(g)"
   ]
  },
  {
   "cell_type": "code",
   "execution_count": 35,
   "metadata": {},
   "outputs": [],
   "source": [
    "g.resize(10,10)"
   ]
  },
  {
   "cell_type": "code",
   "execution_count": 36,
   "metadata": {},
   "outputs": [
    {
     "data": {
      "text/plain": [
       "(10, 10)"
      ]
     },
     "execution_count": 36,
     "metadata": {},
     "output_type": "execute_result"
    }
   ],
   "source": [
    "g.shape"
   ]
  },
  {
   "cell_type": "code",
   "execution_count": 37,
   "metadata": {},
   "outputs": [
    {
     "data": {
      "text/plain": [
       "array([[ 6,  1,  5,  9,  5,  6, 12, 10,  9, 14],\n",
       "       [ 2,  0, 15, 10,  2, 15, 13, 13, 12, 15],\n",
       "       [12,  8, 13,  7, 10,  2, 11,  7,  7,  0],\n",
       "       [14, 15, 11,  3,  1,  3, 15,  0,  6, 11],\n",
       "       [ 0,  5,  3,  9,  6,  0, 13, 13, 10,  7],\n",
       "       [12,  8,  2,  3,  6,  2,  5,  2, 13,  7],\n",
       "       [ 3,  9,  5, 14,  0,  0,  0,  0,  0,  0],\n",
       "       [ 0,  0,  0,  0,  0,  0,  0,  0,  0,  0],\n",
       "       [ 0,  0,  0,  0,  0,  0,  0,  0,  0,  0],\n",
       "       [ 0,  0,  0,  0,  0,  0,  0,  0,  0,  0]])"
      ]
     },
     "execution_count": 37,
     "metadata": {},
     "output_type": "execute_result"
    }
   ],
   "source": [
    "g"
   ]
  },
  {
   "cell_type": "code",
   "execution_count": 46,
   "metadata": {},
   "outputs": [
    {
     "ename": "ValueError",
     "evalue": "cannot resize an array that references or is referenced\nby another array in this way.\nUse the np.resize function or refcheck=False",
     "output_type": "error",
     "traceback": [
      "\u001b[0;31m---------------------------------------------------------------------------\u001b[0m",
      "\u001b[0;31mValueError\u001b[0m                                Traceback (most recent call last)",
      "\u001b[0;32m<ipython-input-46-823cb39fe2d0>\u001b[0m in \u001b[0;36m<module>\u001b[0;34m\u001b[0m\n\u001b[0;32m----> 1\u001b[0;31m \u001b[0mg\u001b[0m\u001b[0;34m.\u001b[0m\u001b[0mresize\u001b[0m\u001b[0;34m(\u001b[0m\u001b[0;36m4\u001b[0m\u001b[0;34m,\u001b[0m\u001b[0;36m4\u001b[0m\u001b[0;34m)\u001b[0m\u001b[0;34m\u001b[0m\u001b[0;34m\u001b[0m\u001b[0m\n\u001b[0m",
      "\u001b[0;31mValueError\u001b[0m: cannot resize an array that references or is referenced\nby another array in this way.\nUse the np.resize function or refcheck=False"
     ]
    }
   ],
   "source": [
    "g.resize(4,4)"
   ]
  },
  {
   "cell_type": "code",
   "execution_count": 38,
   "metadata": {},
   "outputs": [
    {
     "data": {
      "text/plain": [
       "array([12,  8,  2,  3,  6,  2,  5,  2, 13,  7])"
      ]
     },
     "execution_count": 38,
     "metadata": {},
     "output_type": "execute_result"
    }
   ],
   "source": [
    "g[5]"
   ]
  },
  {
   "cell_type": "code",
   "execution_count": 39,
   "metadata": {},
   "outputs": [],
   "source": [
    "g[3,2] = 30"
   ]
  },
  {
   "cell_type": "code",
   "execution_count": 55,
   "metadata": {},
   "outputs": [
    {
     "data": {
      "text/plain": [
       "array([[ 1,  9,  9, 15,  9,  0, 12, 14],\n",
       "       [ 1,  2,  5,  5, 12,  3,  5,  8],\n",
       "       [10,  3, 14,  8,  5, 13,  5,  6],\n",
       "       [11,  4, 30, 12,  1,  4,  3, 15],\n",
       "       [ 7, 14, 15,  4,  0,  1, 15,  0],\n",
       "       [ 9,  1,  1,  1, 15, 12,  2,  5],\n",
       "       [13, 13, 10, 14,  9,  6,  6,  9],\n",
       "       [ 7,  1,  8,  1, 14, 10, 14,  3]])"
      ]
     },
     "execution_count": 55,
     "metadata": {},
     "output_type": "execute_result"
    }
   ],
   "source": [
    "g"
   ]
  },
  {
   "cell_type": "code",
   "execution_count": 40,
   "metadata": {},
   "outputs": [
    {
     "data": {
      "text/plain": [
       "array([ 2, 10,  1])"
      ]
     },
     "execution_count": 40,
     "metadata": {},
     "output_type": "execute_result"
    }
   ],
   "source": [
    "g[1:4,4]"
   ]
  },
  {
   "cell_type": "code",
   "execution_count": 60,
   "metadata": {},
   "outputs": [
    {
     "data": {
      "text/plain": [
       "(8, 8)"
      ]
     },
     "execution_count": 60,
     "metadata": {},
     "output_type": "execute_result"
    }
   ],
   "source": [
    "e.shape"
   ]
  },
  {
   "cell_type": "code",
   "execution_count": 41,
   "metadata": {},
   "outputs": [
    {
     "data": {
      "text/plain": [
       "array([[106, 101, 105, 109, 105, 106, 112, 110, 109, 114],\n",
       "       [102, 100, 115, 110, 102, 115, 113, 113, 112, 115],\n",
       "       [112, 108, 113, 107, 110, 102, 111, 107, 107, 100],\n",
       "       [114, 115, 130, 103, 101, 103, 115, 100, 106, 111],\n",
       "       [100, 105, 103, 109, 106, 100, 113, 113, 110, 107],\n",
       "       [112, 108, 102, 103, 106, 102, 105, 102, 113, 107],\n",
       "       [103, 109, 105, 114, 100, 100, 100, 100, 100, 100],\n",
       "       [100, 100, 100, 100, 100, 100, 100, 100, 100, 100],\n",
       "       [100, 100, 100, 100, 100, 100, 100, 100, 100, 100],\n",
       "       [100, 100, 100, 100, 100, 100, 100, 100, 100, 100]])"
      ]
     },
     "execution_count": 41,
     "metadata": {},
     "output_type": "execute_result"
    }
   ],
   "source": [
    "#Scalar Math\n",
    "np.add(g,100)"
   ]
  },
  {
   "cell_type": "code",
   "execution_count": 62,
   "metadata": {},
   "outputs": [
    {
     "data": {
      "text/plain": [
       "array([[ -97, -100,  -89,  -92,  -89,  -97,  -88,  -85],\n",
       "       [ -92,  -88,  -94,  -94,  -94,  -86,  -91,  -85],\n",
       "       [ -86,  -88,  -96,  -97,  -86,  -85,  -99,  -88],\n",
       "       [ -90,  -99,  -70,  -90, -100,  -96,  -88,  -96],\n",
       "       [ -96,  -95,  -96,  -97,  -89,  -99,  -94,  -90],\n",
       "       [ -91,  -85,  -96,  -91,  -86,  -85,  -90,  -92],\n",
       "       [ -95,  -93,  -90,  -89,  -93,  -95,  -91,  -90],\n",
       "       [ -86, -100,  -91,  -93,  -85,  -93,  -99,  -91]])"
      ]
     },
     "execution_count": 62,
     "metadata": {},
     "output_type": "execute_result"
    }
   ],
   "source": [
    "np.subtract(g,100)"
   ]
  },
  {
   "cell_type": "code",
   "execution_count": 63,
   "metadata": {},
   "outputs": [
    {
     "data": {
      "text/plain": [
       "array([[ 300,    0, 1100,  800, 1100,  300, 1200, 1500],\n",
       "       [ 800, 1200,  600,  600,  600, 1400,  900, 1500],\n",
       "       [1400, 1200,  400,  300, 1400, 1500,  100, 1200],\n",
       "       [1000,  100, 3000, 1000,    0,  400, 1200,  400],\n",
       "       [ 400,  500,  400,  300, 1100,  100,  600, 1000],\n",
       "       [ 900, 1500,  400,  900, 1400, 1500, 1000,  800],\n",
       "       [ 500,  700, 1000, 1100,  700,  500,  900, 1000],\n",
       "       [1400,    0,  900,  700, 1500,  700,  100,  900]])"
      ]
     },
     "execution_count": 63,
     "metadata": {},
     "output_type": "execute_result"
    }
   ],
   "source": [
    "np.multiply(g,100)"
   ]
  },
  {
   "cell_type": "code",
   "execution_count": 64,
   "metadata": {},
   "outputs": [
    {
     "data": {
      "text/plain": [
       "array([[  9,   0, 121,  64, 121,   9, 144, 225],\n",
       "       [ 64, 144,  36,  36,  36, 196,  81, 225],\n",
       "       [196, 144,  16,   9, 196, 225,   1, 144],\n",
       "       [100,   1, 900, 100,   0,  16, 144,  16],\n",
       "       [ 16,  25,  16,   9, 121,   1,  36, 100],\n",
       "       [ 81, 225,  16,  81, 196, 225, 100,  64],\n",
       "       [ 25,  49, 100, 121,  49,  25,  81, 100],\n",
       "       [196,   0,  81,  49, 225,  49,   1,  81]])"
      ]
     },
     "execution_count": 64,
     "metadata": {},
     "output_type": "execute_result"
    }
   ],
   "source": [
    "np.power(g,2)"
   ]
  },
  {
   "cell_type": "code",
   "execution_count": 65,
   "metadata": {},
   "outputs": [
    {
     "data": {
      "text/plain": [
       "array([[29, 35, 30, 15, 49,  4, 19, 42],\n",
       "       [37, 38, 35, 34, 31, 20, 19, 26],\n",
       "       [51, 25, 33, 18, 25, 36,  9, 22],\n",
       "       [35, 40, 32, 18, 37, 30, 35,  9],\n",
       "       [42, 21, 19, 14, 50, 30, 28, 17],\n",
       "       [11, 37,  8, 16, 21, 38, 30, 32],\n",
       "       [10, 20, 33, 33,  9, 27, 18, 16],\n",
       "       [52, 34, 25, 17, 26, 10,  7, 47]])"
      ]
     },
     "execution_count": 65,
     "metadata": {},
     "output_type": "execute_result"
    }
   ],
   "source": [
    "#Vector Math\n",
    "np.add(g,e)"
   ]
  },
  {
   "cell_type": "code",
   "execution_count": 67,
   "metadata": {},
   "outputs": [
    {
     "data": {
      "text/plain": [
       "array([[ 78,   0, 209,  56, 418,   3,  84, 405],\n",
       "       [232, 312, 174, 168, 150,  84,  90, 165],\n",
       "       [518, 156, 116,  45, 154, 315,   8, 120],\n",
       "       [250,  39,  60,  80,   0, 104, 276,  20],\n",
       "       [152,  80,  60,  33, 429,  29, 132,  70],\n",
       "       [ 18, 330,  16,  63,  98, 345, 200, 192],\n",
       "       [ 25,  91, 230, 242,  14, 110,  81,  60],\n",
       "       [532,   0, 144,  70, 165,  21,   6, 342]])"
      ]
     },
     "execution_count": 67,
     "metadata": {},
     "output_type": "execute_result"
    }
   ],
   "source": [
    "np.multiply(g,e)"
   ]
  },
  {
   "cell_type": "code",
   "execution_count": 68,
   "metadata": {},
   "outputs": [
    {
     "data": {
      "text/plain": [
       "array([[ 0.11538462,  0.        ,  0.57894737,  1.14285714,  0.28947368,\n",
       "         3.        ,  1.71428571,  0.55555556],\n",
       "       [ 0.27586207,  0.46153846,  0.20689655,  0.21428571,  0.24      ,\n",
       "         2.33333333,  0.9       ,  1.36363636],\n",
       "       [ 0.37837838,  0.92307692,  0.13793103,  0.2       ,  1.27272727,\n",
       "         0.71428571,  0.125     ,  1.2       ],\n",
       "       [ 0.4       ,  0.02564103, 15.        ,  1.25      ,  0.        ,\n",
       "         0.15384615,  0.52173913,  0.8       ],\n",
       "       [ 0.10526316,  0.3125    ,  0.26666667,  0.27272727,  0.28205128,\n",
       "         0.03448276,  0.27272727,  1.42857143],\n",
       "       [ 4.5       ,  0.68181818,  1.        ,  1.28571429,  2.        ,\n",
       "         0.65217391,  0.5       ,  0.33333333],\n",
       "       [ 1.        ,  0.53846154,  0.43478261,  0.5       ,  3.5       ,\n",
       "         0.22727273,  1.        ,  1.66666667],\n",
       "       [ 0.36842105,  0.        ,  0.5625    ,  0.7       ,  1.36363636,\n",
       "         2.33333333,  0.16666667,  0.23684211]])"
      ]
     },
     "execution_count": 68,
     "metadata": {},
     "output_type": "execute_result"
    }
   ],
   "source": [
    "np.divide(g,e)"
   ]
  },
  {
   "cell_type": "code",
   "execution_count": 69,
   "metadata": {},
   "outputs": [
    {
     "data": {
      "text/plain": [
       "array([ 8.375,  6.5  ,  9.75 ,  7.125,  9.75 ,  8.   ,  7.5  , 10.375])"
      ]
     },
     "execution_count": 69,
     "metadata": {},
     "output_type": "execute_result"
    }
   ],
   "source": [
    "np.mean(g, axis=0)"
   ]
  },
  {
   "cell_type": "code",
   "execution_count": 70,
   "metadata": {},
   "outputs": [
    {
     "data": {
      "text/plain": [
       "8.421875"
      ]
     },
     "execution_count": 70,
     "metadata": {},
     "output_type": "execute_result"
    }
   ],
   "source": [
    "np.mean(g)"
   ]
  },
  {
   "cell_type": "code",
   "execution_count": 71,
   "metadata": {},
   "outputs": [
    {
     "data": {
      "text/plain": [
       "array([ 7.875,  9.5  ,  9.375,  8.875,  5.5  , 10.5  ,  8.   ,  7.75 ])"
      ]
     },
     "execution_count": 71,
     "metadata": {},
     "output_type": "execute_result"
    }
   ],
   "source": [
    "np.mean(g,axis=1)"
   ]
  },
  {
   "cell_type": "code",
   "execution_count": 73,
   "metadata": {},
   "outputs": [
    {
     "data": {
      "text/plain": [
       "array([14, 15, 30, 11, 15, 15, 12, 15])"
      ]
     },
     "execution_count": 73,
     "metadata": {},
     "output_type": "execute_result"
    }
   ],
   "source": [
    "g.max(axis=0)"
   ]
  },
  {
   "cell_type": "code",
   "execution_count": 74,
   "metadata": {},
   "outputs": [
    {
     "data": {
      "text/plain": [
       "array([15, 15, 15, 30, 11, 15, 11, 15])"
      ]
     },
     "execution_count": 74,
     "metadata": {},
     "output_type": "execute_result"
    }
   ],
   "source": [
    "g.max(axis=1)"
   ]
  },
  {
   "cell_type": "code",
   "execution_count": 75,
   "metadata": {},
   "outputs": [
    {
     "data": {
      "text/plain": [
       "30"
      ]
     },
     "execution_count": 75,
     "metadata": {},
     "output_type": "execute_result"
    }
   ],
   "source": [
    "g.max()"
   ]
  },
  {
   "cell_type": "code",
   "execution_count": 76,
   "metadata": {},
   "outputs": [
    {
     "data": {
      "text/plain": [
       "539"
      ]
     },
     "execution_count": 76,
     "metadata": {},
     "output_type": "execute_result"
    }
   ],
   "source": [
    "g.sum()"
   ]
  },
  {
   "cell_type": "code",
   "execution_count": 77,
   "metadata": {},
   "outputs": [
    {
     "data": {
      "text/plain": [
       "array([67, 52, 78, 57, 78, 64, 60, 83])"
      ]
     },
     "execution_count": 77,
     "metadata": {},
     "output_type": "execute_result"
    }
   ],
   "source": [
    "g.sum(axis=0)"
   ]
  },
  {
   "cell_type": "code",
   "execution_count": null,
   "metadata": {},
   "outputs": [],
   "source": []
  }
 ],
 "metadata": {
  "kernelspec": {
   "display_name": "Python 3",
   "language": "python",
   "name": "python3"
  },
  "language_info": {
   "codemirror_mode": {
    "name": "ipython",
    "version": 3
   },
   "file_extension": ".py",
   "mimetype": "text/x-python",
   "name": "python",
   "nbconvert_exporter": "python",
   "pygments_lexer": "ipython3",
   "version": "3.7.4"
  }
 },
 "nbformat": 4,
 "nbformat_minor": 2
}
