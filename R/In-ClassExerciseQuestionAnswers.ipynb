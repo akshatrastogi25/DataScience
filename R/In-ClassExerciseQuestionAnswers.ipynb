{
 "cells": [
  {
   "cell_type": "code",
   "execution_count": null,
   "metadata": {},
   "outputs": [],
   "source": []
  },
  {
   "cell_type": "markdown",
   "metadata": {},
   "source": [
    "# SECTION I"
   ]
  },
  {
   "cell_type": "code",
   "execution_count": 1,
   "metadata": {},
   "outputs": [
    {
     "name": "stdout",
     "output_type": "stream",
     "text": [
      "'data.frame':\t4 obs. of  5 variables:\n",
      " $ emp_id    : num  1 2 3 4\n",
      " $ emp_name  : chr  \"Rick Roy\" \"Michelle Smith\" \"Ryan Jack\" \"Gary Vee\"\n",
      " $ salary    : num  623 515 611 729\n",
      " $ start_date: Date, format: \"2012-01-01\" \"2013-09-23\" ...\n",
      " $ dept      : chr  \"IT\" \"Operations\" \"IT\" \"HR\"\n"
     ]
    }
   ],
   "source": [
    "emp_id <- c(1,2,3,4)\n",
    "emp_name <- c('Rick Roy', 'Michelle Smith', 'Ryan Jack', 'Gary Vee')\n",
    "salary <- c(623.3, 515.2, 611.0, 729.0)\n",
    "start_date <- c('2012-01-01', '2013-09-23', '2014-11-15', '2014-05-11')\n",
    "dept <- c('IT', 'Operations', 'IT', 'HR')\n",
    "\n",
    "start_date = as.Date(start_date, \"%Y-%m-%d\")\n",
    "\n",
    "df <- data.frame(emp_id, emp_name, salary, start_date, dept)\n",
    "str(df)"
   ]
  },
  {
   "cell_type": "code",
   "execution_count": 2,
   "metadata": {},
   "outputs": [
    {
     "data": {
      "text/html": [
       "<table class=\"dataframe\">\n",
       "<caption>A data.frame: 2 × 2</caption>\n",
       "<thead>\n",
       "\t<tr><th></th><th scope=col>salary</th><th scope=col>start_date</th></tr>\n",
       "\t<tr><th></th><th scope=col>&lt;dbl&gt;</th><th scope=col>&lt;date&gt;</th></tr>\n",
       "</thead>\n",
       "<tbody>\n",
       "\t<tr><th scope=row>2</th><td>515.2</td><td>2013-09-23</td></tr>\n",
       "\t<tr><th scope=row>4</th><td>729.0</td><td>2014-05-11</td></tr>\n",
       "</tbody>\n",
       "</table>\n"
      ],
      "text/latex": [
       "A data.frame: 2 × 2\n",
       "\\begin{tabular}{r|ll}\n",
       "  & salary & start\\_date\\\\\n",
       "  & <dbl> & <date>\\\\\n",
       "\\hline\n",
       "\t2 & 515.2 & 2013-09-23\\\\\n",
       "\t4 & 729.0 & 2014-05-11\\\\\n",
       "\\end{tabular}\n"
      ],
      "text/markdown": [
       "\n",
       "A data.frame: 2 × 2\n",
       "\n",
       "| <!--/--> | salary &lt;dbl&gt; | start_date &lt;date&gt; |\n",
       "|---|---|---|\n",
       "| 2 | 515.2 | 2013-09-23 |\n",
       "| 4 | 729.0 | 2014-05-11 |\n",
       "\n"
      ],
      "text/plain": [
       "  salary start_date\n",
       "2 515.2  2013-09-23\n",
       "4 729.0  2014-05-11"
      ]
     },
     "metadata": {},
     "output_type": "display_data"
    }
   ],
   "source": [
    "df[c(2,4),c(3,4)]"
   ]
  },
  {
   "cell_type": "code",
   "execution_count": 3,
   "metadata": {},
   "outputs": [
    {
     "data": {
      "text/html": [
       "<table class=\"dataframe\">\n",
       "<caption>A data.frame: 4 × 5</caption>\n",
       "<thead>\n",
       "\t<tr><th scope=col>emp_id</th><th scope=col>emp_name</th><th scope=col>salary</th><th scope=col>start_date</th><th scope=col>dept</th></tr>\n",
       "\t<tr><th scope=col>&lt;dbl&gt;</th><th scope=col>&lt;chr&gt;</th><th scope=col>&lt;dbl&gt;</th><th scope=col>&lt;date&gt;</th><th scope=col>&lt;chr&gt;</th></tr>\n",
       "</thead>\n",
       "<tbody>\n",
       "\t<tr><td>1</td><td>Rick Roy      </td><td>623.3</td><td>2012-01-01</td><td>IT        </td></tr>\n",
       "\t<tr><td>2</td><td>Michelle Smith</td><td>515.2</td><td>2013-09-23</td><td>Operations</td></tr>\n",
       "\t<tr><td>3</td><td>Ryan Jack     </td><td>611.0</td><td>2014-11-15</td><td>IT        </td></tr>\n",
       "\t<tr><td>4</td><td>Gary Vee      </td><td>729.0</td><td>2014-05-11</td><td>HR        </td></tr>\n",
       "</tbody>\n",
       "</table>\n"
      ],
      "text/latex": [
       "A data.frame: 4 × 5\n",
       "\\begin{tabular}{lllll}\n",
       " emp\\_id & emp\\_name & salary & start\\_date & dept\\\\\n",
       " <dbl> & <chr> & <dbl> & <date> & <chr>\\\\\n",
       "\\hline\n",
       "\t 1 & Rick Roy       & 623.3 & 2012-01-01 & IT        \\\\\n",
       "\t 2 & Michelle Smith & 515.2 & 2013-09-23 & Operations\\\\\n",
       "\t 3 & Ryan Jack      & 611.0 & 2014-11-15 & IT        \\\\\n",
       "\t 4 & Gary Vee       & 729.0 & 2014-05-11 & HR        \\\\\n",
       "\\end{tabular}\n"
      ],
      "text/markdown": [
       "\n",
       "A data.frame: 4 × 5\n",
       "\n",
       "| emp_id &lt;dbl&gt; | emp_name &lt;chr&gt; | salary &lt;dbl&gt; | start_date &lt;date&gt; | dept &lt;chr&gt; |\n",
       "|---|---|---|---|---|\n",
       "| 1 | Rick Roy       | 623.3 | 2012-01-01 | IT         |\n",
       "| 2 | Michelle Smith | 515.2 | 2013-09-23 | Operations |\n",
       "| 3 | Ryan Jack      | 611.0 | 2014-11-15 | IT         |\n",
       "| 4 | Gary Vee       | 729.0 | 2014-05-11 | HR         |\n",
       "\n"
      ],
      "text/plain": [
       "  emp_id emp_name       salary start_date dept      \n",
       "1 1      Rick Roy       623.3  2012-01-01 IT        \n",
       "2 2      Michelle Smith 515.2  2013-09-23 Operations\n",
       "3 3      Ryan Jack      611.0  2014-11-15 IT        \n",
       "4 4      Gary Vee       729.0  2014-05-11 HR        "
      ]
     },
     "metadata": {},
     "output_type": "display_data"
    }
   ],
   "source": [
    "df"
   ]
  },
  {
   "cell_type": "code",
   "execution_count": 4,
   "metadata": {},
   "outputs": [
    {
     "data": {
      "text/html": [
       "<table class=\"dataframe\">\n",
       "<caption>A data.frame: 7 × 5</caption>\n",
       "<thead>\n",
       "\t<tr><th scope=col>emp_id</th><th scope=col>emp_name</th><th scope=col>salary</th><th scope=col>start_date</th><th scope=col>dept</th></tr>\n",
       "\t<tr><th scope=col>&lt;dbl&gt;</th><th scope=col>&lt;chr&gt;</th><th scope=col>&lt;dbl&gt;</th><th scope=col>&lt;date&gt;</th><th scope=col>&lt;chr&gt;</th></tr>\n",
       "</thead>\n",
       "<tbody>\n",
       "\t<tr><td>1</td><td>Rick Roy      </td><td>623.3</td><td>2012-01-01</td><td>IT        </td></tr>\n",
       "\t<tr><td>2</td><td>Michelle Smith</td><td>515.2</td><td>2013-09-23</td><td>Operations</td></tr>\n",
       "\t<tr><td>3</td><td>Ryan Jack     </td><td>611.0</td><td>2014-11-15</td><td>IT        </td></tr>\n",
       "\t<tr><td>4</td><td>Gary Vee      </td><td>729.0</td><td>2014-05-11</td><td>HR        </td></tr>\n",
       "\t<tr><td>5</td><td>Rasmi         </td><td>578.0</td><td>2013-05-21</td><td>IT        </td></tr>\n",
       "\t<tr><td>6</td><td>Pranab        </td><td>722.5</td><td>2013-07-30</td><td>Operations</td></tr>\n",
       "\t<tr><td>7</td><td>Tushar        </td><td>632.8</td><td>2014-06-17</td><td>Finance   </td></tr>\n",
       "</tbody>\n",
       "</table>\n"
      ],
      "text/latex": [
       "A data.frame: 7 × 5\n",
       "\\begin{tabular}{lllll}\n",
       " emp\\_id & emp\\_name & salary & start\\_date & dept\\\\\n",
       " <dbl> & <chr> & <dbl> & <date> & <chr>\\\\\n",
       "\\hline\n",
       "\t 1 & Rick Roy       & 623.3 & 2012-01-01 & IT        \\\\\n",
       "\t 2 & Michelle Smith & 515.2 & 2013-09-23 & Operations\\\\\n",
       "\t 3 & Ryan Jack      & 611.0 & 2014-11-15 & IT        \\\\\n",
       "\t 4 & Gary Vee       & 729.0 & 2014-05-11 & HR        \\\\\n",
       "\t 5 & Rasmi          & 578.0 & 2013-05-21 & IT        \\\\\n",
       "\t 6 & Pranab         & 722.5 & 2013-07-30 & Operations\\\\\n",
       "\t 7 & Tushar         & 632.8 & 2014-06-17 & Finance   \\\\\n",
       "\\end{tabular}\n"
      ],
      "text/markdown": [
       "\n",
       "A data.frame: 7 × 5\n",
       "\n",
       "| emp_id &lt;dbl&gt; | emp_name &lt;chr&gt; | salary &lt;dbl&gt; | start_date &lt;date&gt; | dept &lt;chr&gt; |\n",
       "|---|---|---|---|---|\n",
       "| 1 | Rick Roy       | 623.3 | 2012-01-01 | IT         |\n",
       "| 2 | Michelle Smith | 515.2 | 2013-09-23 | Operations |\n",
       "| 3 | Ryan Jack      | 611.0 | 2014-11-15 | IT         |\n",
       "| 4 | Gary Vee       | 729.0 | 2014-05-11 | HR         |\n",
       "| 5 | Rasmi          | 578.0 | 2013-05-21 | IT         |\n",
       "| 6 | Pranab         | 722.5 | 2013-07-30 | Operations |\n",
       "| 7 | Tushar         | 632.8 | 2014-06-17 | Finance    |\n",
       "\n"
      ],
      "text/plain": [
       "  emp_id emp_name       salary start_date dept      \n",
       "1 1      Rick Roy       623.3  2012-01-01 IT        \n",
       "2 2      Michelle Smith 515.2  2013-09-23 Operations\n",
       "3 3      Ryan Jack      611.0  2014-11-15 IT        \n",
       "4 4      Gary Vee       729.0  2014-05-11 HR        \n",
       "5 5      Rasmi          578.0  2013-05-21 IT        \n",
       "6 6      Pranab         722.5  2013-07-30 Operations\n",
       "7 7      Tushar         632.8  2014-06-17 Finance   "
      ]
     },
     "metadata": {},
     "output_type": "display_data"
    }
   ],
   "source": [
    "emp_id <- c(5,6,7)\n",
    "emp_name <- c('Rasmi', 'Pranab', 'Tushar')\n",
    "salary <- c(578.0, 722.5, 632.8)\n",
    "start_date <- c('2013-05-21', '2013-07-30', '2014-06-17')\n",
    "dept <- c('IT', 'Operations', 'Finance')\n",
    "\n",
    "start_date = as.Date(start_date, \"%Y-%m-%d\")\n",
    "\n",
    "df2 <- data.frame(emp_id, emp_name, salary, start_date, dept)\n",
    "\n",
    "df <- rbind(df,df2)\n",
    "df"
   ]
  },
  {
   "cell_type": "markdown",
   "metadata": {},
   "source": [
    "# SECTION 2"
   ]
  },
  {
   "cell_type": "markdown",
   "metadata": {},
   "source": [
    "## Q1. Write an R function which plots a histogram as well as a box plot of the feature, passed to that function "
   ]
  },
  {
   "cell_type": "code",
   "execution_count": 5,
   "metadata": {},
   "outputs": [
    {
     "data": {
      "image/png": "[encoded data removed]",
      "text/plain": [
       "plot without title"
      ]
     },
     "metadata": {
      "image/png": {
       "height": 420,
       "width": 420
      }
     },
     "output_type": "display_data"
    }
   ],
   "source": [
    "g = function(x, y) {\n",
    "  barplot(x, names.arg = y)\n",
    "}\n",
    "\n",
    "g(df$salary, df$emp_name)"
   ]
  },
  {
   "cell_type": "code",
   "execution_count": 6,
   "metadata": {},
   "outputs": [
    {
     "data": {
      "image/png": "[encoded data removed]",
      "text/plain": [
       "Plot with title \"Histogram of x\""
      ]
     },
     "metadata": {
      "image/png": {
       "height": 420,
       "width": 420
      }
     },
     "output_type": "display_data"
    }
   ],
   "source": [
    "h = function(x) {\n",
    "  hist(x)\n",
    "}\n",
    "\n",
    "h(df$salary)"
   ]
  },
  {
   "cell_type": "markdown",
   "metadata": {},
   "source": [
    "## Q2. Write an R function that removes outliers from the data using the IQR method\n",
    "\n",
    "> Test the above function on the ‘Abalone’ dataset provided. Print the names of all the features that have outliers and treat the outliers using the above function.\n"
   ]
  },
  {
   "cell_type": "code",
   "execution_count": 7,
   "metadata": {},
   "outputs": [
    {
     "data": {
      "text/html": [
       "<table class=\"dataframe\">\n",
       "<caption>A data.frame: 7 × 5</caption>\n",
       "<thead>\n",
       "\t<tr><th></th><th scope=col>emp_id</th><th scope=col>emp_name</th><th scope=col>salary</th><th scope=col>start_date</th><th scope=col>dept</th></tr>\n",
       "\t<tr><th></th><th scope=col>&lt;dbl&gt;</th><th scope=col>&lt;chr&gt;</th><th scope=col>&lt;dbl&gt;</th><th scope=col>&lt;date&gt;</th><th scope=col>&lt;chr&gt;</th></tr>\n",
       "</thead>\n",
       "<tbody>\n",
       "\t<tr><th scope=row>1</th><td>1</td><td>Rick Roy      </td><td>623.3</td><td>2012-01-01</td><td>IT        </td></tr>\n",
       "\t<tr><th scope=row>2</th><td>2</td><td>Michelle Smith</td><td>515.2</td><td>2013-09-23</td><td>Operations</td></tr>\n",
       "\t<tr><th scope=row>3</th><td>3</td><td>Ryan Jack     </td><td>611.0</td><td>2014-11-15</td><td>IT        </td></tr>\n",
       "\t<tr><th scope=row>4</th><td>4</td><td>Gary Vee      </td><td>729.0</td><td>2014-05-11</td><td>HR        </td></tr>\n",
       "\t<tr><th scope=row>5</th><td>5</td><td>Rasmi         </td><td>578.0</td><td>2013-05-21</td><td>IT        </td></tr>\n",
       "\t<tr><th scope=row>6</th><td>6</td><td>Pranab        </td><td>722.5</td><td>2013-07-30</td><td>Operations</td></tr>\n",
       "\t<tr><th scope=row>7</th><td>7</td><td>Tushar        </td><td>632.8</td><td>2014-06-17</td><td>Finance   </td></tr>\n",
       "</tbody>\n",
       "</table>\n"
      ],
      "text/latex": [
       "A data.frame: 7 × 5\n",
       "\\begin{tabular}{r|lllll}\n",
       "  & emp\\_id & emp\\_name & salary & start\\_date & dept\\\\\n",
       "  & <dbl> & <chr> & <dbl> & <date> & <chr>\\\\\n",
       "\\hline\n",
       "\t1 & 1 & Rick Roy       & 623.3 & 2012-01-01 & IT        \\\\\n",
       "\t2 & 2 & Michelle Smith & 515.2 & 2013-09-23 & Operations\\\\\n",
       "\t3 & 3 & Ryan Jack      & 611.0 & 2014-11-15 & IT        \\\\\n",
       "\t4 & 4 & Gary Vee       & 729.0 & 2014-05-11 & HR        \\\\\n",
       "\t5 & 5 & Rasmi          & 578.0 & 2013-05-21 & IT        \\\\\n",
       "\t6 & 6 & Pranab         & 722.5 & 2013-07-30 & Operations\\\\\n",
       "\t7 & 7 & Tushar         & 632.8 & 2014-06-17 & Finance   \\\\\n",
       "\\end{tabular}\n"
      ],
      "text/markdown": [
       "\n",
       "A data.frame: 7 × 5\n",
       "\n",
       "| <!--/--> | emp_id &lt;dbl&gt; | emp_name &lt;chr&gt; | salary &lt;dbl&gt; | start_date &lt;date&gt; | dept &lt;chr&gt; |\n",
       "|---|---|---|---|---|---|\n",
       "| 1 | 1 | Rick Roy       | 623.3 | 2012-01-01 | IT         |\n",
       "| 2 | 2 | Michelle Smith | 515.2 | 2013-09-23 | Operations |\n",
       "| 3 | 3 | Ryan Jack      | 611.0 | 2014-11-15 | IT         |\n",
       "| 4 | 4 | Gary Vee       | 729.0 | 2014-05-11 | HR         |\n",
       "| 5 | 5 | Rasmi          | 578.0 | 2013-05-21 | IT         |\n",
       "| 6 | 6 | Pranab         | 722.5 | 2013-07-30 | Operations |\n",
       "| 7 | 7 | Tushar         | 632.8 | 2014-06-17 | Finance    |\n",
       "\n"
      ],
      "text/plain": [
       "  emp_id emp_name       salary start_date dept      \n",
       "1 1      Rick Roy       623.3  2012-01-01 IT        \n",
       "2 2      Michelle Smith 515.2  2013-09-23 Operations\n",
       "3 3      Ryan Jack      611.0  2014-11-15 IT        \n",
       "4 4      Gary Vee       729.0  2014-05-11 HR        \n",
       "5 5      Rasmi          578.0  2013-05-21 IT        \n",
       "6 6      Pranab         722.5  2013-07-30 Operations\n",
       "7 7      Tushar         632.8  2014-06-17 Finance   "
      ]
     },
     "metadata": {},
     "output_type": "display_data"
    }
   ],
   "source": [
    "outlier = function(dataset,x) {\n",
    "  Q <- quantile(x, probs = c(0.25, 0.75), na.rm = FALSE)\n",
    "  iqr <- IQR(x)\n",
    "  up <- Q[2] + 1.5*iqr\n",
    "  low <- Q[1] - 1.5*iqr\n",
    "  eliminated <- subset(dataset, x > low & x < up)\n",
    "  return(eliminated)\n",
    "}\n",
    "\n",
    "df = outlier(df, df$salary)\n",
    "df"
   ]
  },
  {
   "cell_type": "code",
   "execution_count": 8,
   "metadata": {},
   "outputs": [],
   "source": [
    "abalone = read.csv(\"abalone.csv\")"
   ]
  },
  {
   "cell_type": "markdown",
   "metadata": {},
   "source": [
    "### Total rows before IQR"
   ]
  },
  {
   "cell_type": "code",
   "execution_count": 9,
   "metadata": {},
   "outputs": [
    {
     "data": {
      "text/html": [
       "4177"
      ],
      "text/latex": [
       "4177"
      ],
      "text/markdown": [
       "4177"
      ],
      "text/plain": [
       "[1] 4177"
      ]
     },
     "metadata": {},
     "output_type": "display_data"
    }
   ],
   "source": [
    "nrow(abalone)"
   ]
  },
  {
   "cell_type": "markdown",
   "metadata": {},
   "source": [
    "### Total rows after IQR"
   ]
  },
  {
   "cell_type": "code",
   "execution_count": 10,
   "metadata": {},
   "outputs": [
    {
     "data": {
      "text/html": [
       "4128"
      ],
      "text/latex": [
       "4128"
      ],
      "text/markdown": [
       "4128"
      ],
      "text/plain": [
       "[1] 4128"
      ]
     },
     "metadata": {},
     "output_type": "display_data"
    }
   ],
   "source": [
    "newdf = outlier(abalone, abalone$Length)\n",
    "nrow(newdf)"
   ]
  },
  {
   "cell_type": "markdown",
   "metadata": {},
   "source": [
    "## Q3. Create a pie chart using ggplot to check the distribution of the ‘Sex’ feature from the **‘abalone’** dataset"
   ]
  },
  {
   "cell_type": "code",
   "execution_count": 11,
   "metadata": {},
   "outputs": [
    {
     "data": {
      "image/png": "[encoded data removed]",
      "text/plain": [
       "plot without title"
      ]
     },
     "metadata": {
      "image/png": {
       "height": 420,
       "width": 420
      }
     },
     "output_type": "display_data"
    }
   ],
   "source": [
    "x = c(nrow(abalone[abalone$Sex == 'M',]),nrow(abalone[abalone$Sex == 'F',]),nrow(abalone[abalone$Sex == 'I',]))\n",
    "\n",
    "pie(x)"
   ]
  },
  {
   "cell_type": "code",
   "execution_count": 12,
   "metadata": {},
   "outputs": [
    {
     "data": {
      "image/png": "[encoded data removed]",
      "text/plain": [
       "plot without title"
      ]
     },
     "metadata": {
      "image/png": {
       "height": 420,
       "width": 420
      }
     },
     "output_type": "display_data"
    }
   ],
   "source": [
    "library(ggplot2)\n",
    "\n",
    "df <- data.frame(\n",
    "  group = c('Male', \"Female\", \"I\"),\n",
    "  value = x\n",
    ")\n",
    "\n",
    "bp<- ggplot(df, aes(x=\"\", y=value, fill=group))+\n",
    "  geom_bar(width = 1, stat = \"identity\")\n",
    "pie <- bp + coord_polar(\"y\", start=0)\n",
    "pie"
   ]
  },
  {
   "cell_type": "markdown",
   "metadata": {},
   "source": [
    "# SECTION 3"
   ]
  },
  {
   "cell_type": "markdown",
   "metadata": {},
   "source": [
    "## Q1. Establish the connection with given “data1.sqllite” database and convert all the tables into R dataframe"
   ]
  },
  {
   "cell_type": "code",
   "execution_count": 13,
   "metadata": {},
   "outputs": [],
   "source": [
    "library(\"RSQLite\")\n",
    "con <- dbConnect(drv=RSQLite::SQLite(), dbname=\"data1.sqlite\")"
   ]
  },
  {
   "cell_type": "code",
   "execution_count": 14,
   "metadata": {},
   "outputs": [],
   "source": [
    "tables <- dbListTables(con)\n",
    "tables <- tables[tables != \"sqlite_sequence\"]"
   ]
  },
  {
   "cell_type": "code",
   "execution_count": 15,
   "metadata": {},
   "outputs": [],
   "source": [
    "lDataFrames <- vector(\"list\", length=length(tables))"
   ]
  },
  {
   "cell_type": "code",
   "execution_count": 16,
   "metadata": {},
   "outputs": [],
   "source": [
    "for (i in seq(along=tables)) {\n",
    "  lDataFrames[[i]] <- dbGetQuery(conn=con, statement=paste(\"SELECT * FROM '\", tables[[i]], \"'\", sep=\"\"))\n",
    "}"
   ]
  },
  {
   "cell_type": "code",
   "execution_count": 17,
   "metadata": {},
   "outputs": [],
   "source": [
    "customers = as.data.frame(lDataFrames[1])\n",
    "employees = as.data.frame(lDataFrames[2])\n",
    "offices = as.data.frame(lDataFrames[3])\n",
    "orderdetails = as.data.frame(lDataFrames[4])\n",
    "orders = as.data.frame(lDataFrames[5])\n",
    "payments = as.data.frame(lDataFrames[6])\n",
    "productlines = as.data.frame(lDataFrames[7])\n",
    "products = as.data.frame(lDataFrames[8])"
   ]
  },
  {
   "cell_type": "code",
   "execution_count": 18,
   "metadata": {},
   "outputs": [
    {
     "name": "stderr",
     "output_type": "stream",
     "text": [
      "Loading required package: gsubfn\n",
      "\n",
      "Loading required package: proto\n",
      "\n"
     ]
    }
   ],
   "source": [
    "library(sqldf)"
   ]
  },
  {
   "cell_type": "markdown",
   "metadata": {},
   "source": [
    "## Q2. Get the list of customers whose sales representatives reside in New York using SQL query in the appropriate R function"
   ]
  },
  {
   "cell_type": "code",
   "execution_count": 21,
   "metadata": {},
   "outputs": [],
   "source": [
    "orders$orderNumber = as.integer(orders$orderNumber)\n",
    "orderdetails$orderNumber = as.integer(orderdetails$orderNumber)"
   ]
  },
  {
   "cell_type": "code",
   "execution_count": 24,
   "metadata": {},
   "outputs": [
    {
     "data": {
      "text/html": [
       "<table class=\"dataframe\">\n",
       "<caption>A data.frame: 5 × 13</caption>\n",
       "<thead>\n",
       "\t<tr><th></th><th scope=col>customerNumber</th><th scope=col>customerName</th><th scope=col>contactLastName</th><th scope=col>contactFirstName</th><th scope=col>phone</th><th scope=col>addressLine1</th><th scope=col>addressLine2</th><th scope=col>city</th><th scope=col>state</th><th scope=col>postalCode</th><th scope=col>country</th><th scope=col>salesRepEmployeeNumber</th><th scope=col>creditLimit</th></tr>\n",
       "\t<tr><th></th><th scope=col>&lt;chr&gt;</th><th scope=col>&lt;chr&gt;</th><th scope=col>&lt;chr&gt;</th><th scope=col>&lt;chr&gt;</th><th scope=col>&lt;chr&gt;</th><th scope=col>&lt;chr&gt;</th><th scope=col>&lt;chr&gt;</th><th scope=col>&lt;chr&gt;</th><th scope=col>&lt;chr&gt;</th><th scope=col>&lt;chr&gt;</th><th scope=col>&lt;chr&gt;</th><th scope=col>&lt;chr&gt;</th><th scope=col>&lt;chr&gt;</th></tr>\n",
       "</thead>\n",
       "<tbody>\n",
       "\t<tr><th scope=row>1</th><td>131</td><td>Land of Toys Inc.   </td><td>Lee      </td><td>Kwai   </td><td>2125557818</td><td>897 Long Airport Avenue  </td><td>         </td><td>NYC</td><td>NY</td><td>10022</td><td>USA</td><td>1323</td><td>114900.00</td></tr>\n",
       "\t<tr><th scope=row>2</th><td>151</td><td>Muscle Machine Inc  </td><td>Young    </td><td>Jeff   </td><td>2125557413</td><td>4092 Furth Circle        </td><td>Suite 400</td><td>NYC</td><td>NY</td><td>10022</td><td>USA</td><td>1286</td><td>138500.00</td></tr>\n",
       "\t<tr><th scope=row>3</th><td>181</td><td>Vitachrome Inc.     </td><td>Frick    </td><td>Michael</td><td>2125551500</td><td>2678 Kingston Rd.        </td><td>Suite 101</td><td>NYC</td><td>NY</td><td>10022</td><td>USA</td><td>1286</td><td>76400.00 </td></tr>\n",
       "\t<tr><th scope=row>4</th><td>424</td><td>Classic Legends Inc.</td><td>Hernandez</td><td>Maria  </td><td>2125558493</td><td>5905 Pompton St.         </td><td>Suite 750</td><td>NYC</td><td>NY</td><td>10022</td><td>USA</td><td>1286</td><td>67500.00 </td></tr>\n",
       "\t<tr><th scope=row>5</th><td>456</td><td>Microscale Inc.     </td><td>Choi     </td><td>Yu     </td><td>2125551957</td><td>5290 North Pendale Street</td><td>Suite 200</td><td>NYC</td><td>NY</td><td>10022</td><td>USA</td><td>1286</td><td>39800.00 </td></tr>\n",
       "</tbody>\n",
       "</table>\n"
      ],
      "text/latex": [
       "A data.frame: 5 × 13\n",
       "\\begin{tabular}{r|lllllllllllll}\n",
       "  & customerNumber & customerName & contactLastName & contactFirstName & phone & addressLine1 & addressLine2 & city & state & postalCode & country & salesRepEmployeeNumber & creditLimit\\\\\n",
       "  & <chr> & <chr> & <chr> & <chr> & <chr> & <chr> & <chr> & <chr> & <chr> & <chr> & <chr> & <chr> & <chr>\\\\\n",
       "\\hline\n",
       "\t1 & 131 & Land of Toys Inc.    & Lee       & Kwai    & 2125557818 & 897 Long Airport Avenue   &           & NYC & NY & 10022 & USA & 1323 & 114900.00\\\\\n",
       "\t2 & 151 & Muscle Machine Inc   & Young     & Jeff    & 2125557413 & 4092 Furth Circle         & Suite 400 & NYC & NY & 10022 & USA & 1286 & 138500.00\\\\\n",
       "\t3 & 181 & Vitachrome Inc.      & Frick     & Michael & 2125551500 & 2678 Kingston Rd.         & Suite 101 & NYC & NY & 10022 & USA & 1286 & 76400.00 \\\\\n",
       "\t4 & 424 & Classic Legends Inc. & Hernandez & Maria   & 2125558493 & 5905 Pompton St.          & Suite 750 & NYC & NY & 10022 & USA & 1286 & 67500.00 \\\\\n",
       "\t5 & 456 & Microscale Inc.      & Choi      & Yu      & 2125551957 & 5290 North Pendale Street & Suite 200 & NYC & NY & 10022 & USA & 1286 & 39800.00 \\\\\n",
       "\\end{tabular}\n"
      ],
      "text/markdown": [
       "\n",
       "A data.frame: 5 × 13\n",
       "\n",
       "| <!--/--> | customerNumber &lt;chr&gt; | customerName &lt;chr&gt; | contactLastName &lt;chr&gt; | contactFirstName &lt;chr&gt; | phone &lt;chr&gt; | addressLine1 &lt;chr&gt; | addressLine2 &lt;chr&gt; | city &lt;chr&gt; | state &lt;chr&gt; | postalCode &lt;chr&gt; | country &lt;chr&gt; | salesRepEmployeeNumber &lt;chr&gt; | creditLimit &lt;chr&gt; |\n",
       "|---|---|---|---|---|---|---|---|---|---|---|---|---|---|\n",
       "| 1 | 131 | Land of Toys Inc.    | Lee       | Kwai    | 2125557818 | 897 Long Airport Avenue   | <!----> | NYC | NY | 10022 | USA | 1323 | 114900.00 |\n",
       "| 2 | 151 | Muscle Machine Inc   | Young     | Jeff    | 2125557413 | 4092 Furth Circle         | Suite 400 | NYC | NY | 10022 | USA | 1286 | 138500.00 |\n",
       "| 3 | 181 | Vitachrome Inc.      | Frick     | Michael | 2125551500 | 2678 Kingston Rd.         | Suite 101 | NYC | NY | 10022 | USA | 1286 | 76400.00  |\n",
       "| 4 | 424 | Classic Legends Inc. | Hernandez | Maria   | 2125558493 | 5905 Pompton St.          | Suite 750 | NYC | NY | 10022 | USA | 1286 | 67500.00  |\n",
       "| 5 | 456 | Microscale Inc.      | Choi      | Yu      | 2125551957 | 5290 North Pendale Street | Suite 200 | NYC | NY | 10022 | USA | 1286 | 39800.00  |\n",
       "\n"
      ],
      "text/plain": [
       "  customerNumber customerName         contactLastName contactFirstName\n",
       "1 131            Land of Toys Inc.    Lee             Kwai            \n",
       "2 151            Muscle Machine Inc   Young           Jeff            \n",
       "3 181            Vitachrome Inc.      Frick           Michael         \n",
       "4 424            Classic Legends Inc. Hernandez       Maria           \n",
       "5 456            Microscale Inc.      Choi            Yu              \n",
       "  phone      addressLine1              addressLine2 city state postalCode\n",
       "1 2125557818 897 Long Airport Avenue                NYC  NY    10022     \n",
       "2 2125557413 4092 Furth Circle         Suite 400    NYC  NY    10022     \n",
       "3 2125551500 2678 Kingston Rd.         Suite 101    NYC  NY    10022     \n",
       "4 2125558493 5905 Pompton St.          Suite 750    NYC  NY    10022     \n",
       "5 2125551957 5290 North Pendale Street Suite 200    NYC  NY    10022     \n",
       "  country salesRepEmployeeNumber creditLimit\n",
       "1 USA     1323                   114900.00  \n",
       "2 USA     1286                   138500.00  \n",
       "3 USA     1286                   76400.00   \n",
       "4 USA     1286                   67500.00   \n",
       "5 USA     1286                   39800.00   "
      ]
     },
     "metadata": {},
     "output_type": "display_data"
    }
   ],
   "source": [
    "head(sqldf(\"select * from customers where city = 'NYC'\"))"
   ]
  },
  {
   "cell_type": "markdown",
   "metadata": {},
   "source": [
    "## Q3. Get order details whose amount is more than 50,000 and got Shipped using SQL query in the appropriate R function"
   ]
  },
  {
   "cell_type": "code",
   "execution_count": 25,
   "metadata": {},
   "outputs": [
    {
     "data": {
      "text/html": [
       "<table class=\"dataframe\">\n",
       "<caption>A data.frame: 6 × 12</caption>\n",
       "<thead>\n",
       "\t<tr><th></th><th scope=col>orderNumber</th><th scope=col>orderDate</th><th scope=col>requiredDate</th><th scope=col>shippedDate</th><th scope=col>status</th><th scope=col>comments</th><th scope=col>customerNumber</th><th scope=col>orderNumber</th><th scope=col>productCode</th><th scope=col>quantityOrdered</th><th scope=col>priceEach</th><th scope=col>orderLineNumber</th></tr>\n",
       "\t<tr><th></th><th scope=col>&lt;int&gt;</th><th scope=col>&lt;chr&gt;</th><th scope=col>&lt;chr&gt;</th><th scope=col>&lt;chr&gt;</th><th scope=col>&lt;chr&gt;</th><th scope=col>&lt;chr&gt;</th><th scope=col>&lt;chr&gt;</th><th scope=col>&lt;int&gt;</th><th scope=col>&lt;chr&gt;</th><th scope=col>&lt;chr&gt;</th><th scope=col>&lt;chr&gt;</th><th scope=col>&lt;chr&gt;</th></tr>\n",
       "</thead>\n",
       "<tbody>\n",
       "\t<tr><th scope=row>1</th><td>10100</td><td>2003-01-06</td><td>2003-01-13</td><td>2003-01-10</td><td>Shipped</td><td>                      </td><td>363</td><td>10100</td><td>S18_1749</td><td>30</td><td>136.00</td><td>3</td></tr>\n",
       "\t<tr><th scope=row>2</th><td>10100</td><td>2003-01-06</td><td>2003-01-13</td><td>2003-01-10</td><td>Shipped</td><td>                      </td><td>363</td><td>10100</td><td>S18_2248</td><td>50</td><td>55.09 </td><td>2</td></tr>\n",
       "\t<tr><th scope=row>3</th><td>10100</td><td>2003-01-06</td><td>2003-01-13</td><td>2003-01-10</td><td>Shipped</td><td>                      </td><td>363</td><td>10100</td><td>S18_4409</td><td>22</td><td>75.46 </td><td>4</td></tr>\n",
       "\t<tr><th scope=row>4</th><td>10100</td><td>2003-01-06</td><td>2003-01-13</td><td>2003-01-10</td><td>Shipped</td><td>                      </td><td>363</td><td>10100</td><td>S24_3969</td><td>49</td><td>35.29 </td><td>1</td></tr>\n",
       "\t<tr><th scope=row>5</th><td>10101</td><td>2003-01-09</td><td>2003-01-18</td><td>2003-01-11</td><td>Shipped</td><td>Check on availability.</td><td>128</td><td>10101</td><td>S18_2325</td><td>25</td><td>108.06</td><td>4</td></tr>\n",
       "\t<tr><th scope=row>6</th><td>10101</td><td>2003-01-09</td><td>2003-01-18</td><td>2003-01-11</td><td>Shipped</td><td>Check on availability.</td><td>128</td><td>10101</td><td>S18_2795</td><td>26</td><td>167.06</td><td>1</td></tr>\n",
       "</tbody>\n",
       "</table>\n"
      ],
      "text/latex": [
       "A data.frame: 6 × 12\n",
       "\\begin{tabular}{r|llllllllllll}\n",
       "  & orderNumber & orderDate & requiredDate & shippedDate & status & comments & customerNumber & orderNumber & productCode & quantityOrdered & priceEach & orderLineNumber\\\\\n",
       "  & <int> & <chr> & <chr> & <chr> & <chr> & <chr> & <chr> & <int> & <chr> & <chr> & <chr> & <chr>\\\\\n",
       "\\hline\n",
       "\t1 & 10100 & 2003-01-06 & 2003-01-13 & 2003-01-10 & Shipped &                        & 363 & 10100 & S18\\_1749 & 30 & 136.00 & 3\\\\\n",
       "\t2 & 10100 & 2003-01-06 & 2003-01-13 & 2003-01-10 & Shipped &                        & 363 & 10100 & S18\\_2248 & 50 & 55.09  & 2\\\\\n",
       "\t3 & 10100 & 2003-01-06 & 2003-01-13 & 2003-01-10 & Shipped &                        & 363 & 10100 & S18\\_4409 & 22 & 75.46  & 4\\\\\n",
       "\t4 & 10100 & 2003-01-06 & 2003-01-13 & 2003-01-10 & Shipped &                        & 363 & 10100 & S24\\_3969 & 49 & 35.29  & 1\\\\\n",
       "\t5 & 10101 & 2003-01-09 & 2003-01-18 & 2003-01-11 & Shipped & Check on availability. & 128 & 10101 & S18\\_2325 & 25 & 108.06 & 4\\\\\n",
       "\t6 & 10101 & 2003-01-09 & 2003-01-18 & 2003-01-11 & Shipped & Check on availability. & 128 & 10101 & S18\\_2795 & 26 & 167.06 & 1\\\\\n",
       "\\end{tabular}\n"
      ],
      "text/markdown": [
       "\n",
       "A data.frame: 6 × 12\n",
       "\n",
       "| <!--/--> | orderNumber &lt;int&gt; | orderDate &lt;chr&gt; | requiredDate &lt;chr&gt; | shippedDate &lt;chr&gt; | status &lt;chr&gt; | comments &lt;chr&gt; | customerNumber &lt;chr&gt; | orderNumber &lt;int&gt; | productCode &lt;chr&gt; | quantityOrdered &lt;chr&gt; | priceEach &lt;chr&gt; | orderLineNumber &lt;chr&gt; |\n",
       "|---|---|---|---|---|---|---|---|---|---|---|---|---|\n",
       "| 1 | 10100 | 2003-01-06 | 2003-01-13 | 2003-01-10 | Shipped | <!----> | 363 | 10100 | S18_1749 | 30 | 136.00 | 3 |\n",
       "| 2 | 10100 | 2003-01-06 | 2003-01-13 | 2003-01-10 | Shipped | <!----> | 363 | 10100 | S18_2248 | 50 | 55.09  | 2 |\n",
       "| 3 | 10100 | 2003-01-06 | 2003-01-13 | 2003-01-10 | Shipped | <!----> | 363 | 10100 | S18_4409 | 22 | 75.46  | 4 |\n",
       "| 4 | 10100 | 2003-01-06 | 2003-01-13 | 2003-01-10 | Shipped | <!----> | 363 | 10100 | S24_3969 | 49 | 35.29  | 1 |\n",
       "| 5 | 10101 | 2003-01-09 | 2003-01-18 | 2003-01-11 | Shipped | Check on availability. | 128 | 10101 | S18_2325 | 25 | 108.06 | 4 |\n",
       "| 6 | 10101 | 2003-01-09 | 2003-01-18 | 2003-01-11 | Shipped | Check on availability. | 128 | 10101 | S18_2795 | 26 | 167.06 | 1 |\n",
       "\n"
      ],
      "text/plain": [
       "  orderNumber orderDate  requiredDate shippedDate status \n",
       "1 10100       2003-01-06 2003-01-13   2003-01-10  Shipped\n",
       "2 10100       2003-01-06 2003-01-13   2003-01-10  Shipped\n",
       "3 10100       2003-01-06 2003-01-13   2003-01-10  Shipped\n",
       "4 10100       2003-01-06 2003-01-13   2003-01-10  Shipped\n",
       "5 10101       2003-01-09 2003-01-18   2003-01-11  Shipped\n",
       "6 10101       2003-01-09 2003-01-18   2003-01-11  Shipped\n",
       "  comments               customerNumber orderNumber productCode quantityOrdered\n",
       "1                        363            10100       S18_1749    30             \n",
       "2                        363            10100       S18_2248    50             \n",
       "3                        363            10100       S18_4409    22             \n",
       "4                        363            10100       S24_3969    49             \n",
       "5 Check on availability. 128            10101       S18_2325    25             \n",
       "6 Check on availability. 128            10101       S18_2795    26             \n",
       "  priceEach orderLineNumber\n",
       "1 136.00    3              \n",
       "2 55.09     2              \n",
       "3 75.46     4              \n",
       "4 35.29     1              \n",
       "5 108.06    4              \n",
       "6 167.06    1              "
      ]
     },
     "metadata": {},
     "output_type": "display_data"
    }
   ],
   "source": [
    "head(sqldf(\"select * from orders inner join orderdetails on orders.orderNumber = orderdetails.orderNumber where status= 'Shipped'\"))"
   ]
  },
  {
   "cell_type": "markdown",
   "metadata": {},
   "source": [
    "## Q4. Get customers who placed orders and plot a bar chart that displays the number of orders from customer ids"
   ]
  },
  {
   "cell_type": "code",
   "execution_count": 41,
   "metadata": {},
   "outputs": [],
   "source": [
    "h = (sqldf(\"select orders.customerNumber, count(orders.customerNumber) as c from customers inner join orders on orders.customerNumber = customers.customerNumber group by orders.customerNumber\"))"
   ]
  },
  {
   "cell_type": "code",
   "execution_count": 43,
   "metadata": {},
   "outputs": [
    {
     "name": "stdout",
     "output_type": "stream",
     "text": [
      "[1] \"The customer with customer number : 141 has maximum number of orders with: 26 orders\"\n"
     ]
    }
   ],
   "source": [
    "v = as.integer(h$c)\n",
    "l = as.vector(h$customerNumber)\n",
    "\n",
    "customer.number = h[h$c == max(h$c),1]\n",
    "print(paste(\"The customer with customer number :\", customer.number, \"has maximum number of orders with:\", h[h$c == max(h$c),2], 'orders'))"
   ]
  },
  {
   "cell_type": "code",
   "execution_count": 28,
   "metadata": {},
   "outputs": [
    {
     "data": {
      "image/png": "[encoded data removed]",
      "text/plain": [
       "plot without title"
      ]
     },
     "metadata": {
      "image/png": {
       "height": 420,
       "width": 420
      }
     },
     "output_type": "display_data"
    }
   ],
   "source": [
    "barplot(v, names.arg = l)"
   ]
  },
  {
   "cell_type": "markdown",
   "metadata": {},
   "source": [
    "## Q5. Check how many orders got shipped using bar chart as well pie chart"
   ]
  },
  {
   "cell_type": "code",
   "execution_count": 29,
   "metadata": {},
   "outputs": [],
   "source": [
    "h = (sqldf(\"select status,count(status) as c from orders group by status\"))"
   ]
  },
  {
   "cell_type": "code",
   "execution_count": 30,
   "metadata": {},
   "outputs": [],
   "source": [
    "v = as.integer(h$c)\n",
    "l = as.vector(h$status)"
   ]
  },
  {
   "cell_type": "code",
   "execution_count": 31,
   "metadata": {},
   "outputs": [
    {
     "data": {
      "image/png": "[encoded data removed]",
      "text/plain": [
       "Plot with title \"Status chart\""
      ]
     },
     "metadata": {
      "image/png": {
       "height": 420,
       "width": 420
      }
     },
     "output_type": "display_data"
    }
   ],
   "source": [
    "barplot(v, names.arg = l, xlab=\"Status\",ylab=\"Count\",col=\"blue\",\n",
    "        main=\"Status chart\",border=\"red\")"
   ]
  },
  {
   "cell_type": "code",
   "execution_count": 32,
   "metadata": {},
   "outputs": [
    {
     "data": {
      "image/png": "[encoded data removed]",
      "text/plain": [
       "Plot with title \"Shipping Status\""
      ]
     },
     "metadata": {
      "image/png": {
       "height": 420,
       "width": 420
      }
     },
     "output_type": "display_data"
    }
   ],
   "source": [
    "piepercent=round(100*v/sum(v),1)\n",
    "pie(v,labels=paste(piepercent,\"%\", l),col=c(\"purple\", \"violetred1\", \"green3\",\"cornsilk\", \"cyan\", \"blue\"),radius=1.0,main=\"Shipping Status\",clockwise = FALSE)\n",
    "legend(\"topright\", l, fill=c(\"purple\", \"violetred1\", \"green3\",\"cornsilk\", \"cyan\", \"blue\"))"
   ]
  },
  {
   "cell_type": "markdown",
   "metadata": {},
   "source": [
    "## Q6. Plot a pie chart that shows the different types of products that are on sale and find out the product that is sold on a large scale as compared to other products"
   ]
  },
  {
   "cell_type": "code",
   "execution_count": 33,
   "metadata": {},
   "outputs": [],
   "source": [
    "h = (sqldf(\"select orderdetails.productCode as o, count(orderdetails.productCode) as c from products inner join orderdetails on orderdetails.productCode = products.productCode group by orderdetails.productCode\"))"
   ]
  },
  {
   "cell_type": "code",
   "execution_count": 34,
   "metadata": {},
   "outputs": [],
   "source": [
    "v = as.integer(h$c)\n",
    "l = as.vector(h$o)"
   ]
  },
  {
   "cell_type": "code",
   "execution_count": 35,
   "metadata": {},
   "outputs": [
    {
     "data": {
      "image/png": "[encoded data removed]",
      "text/plain": [
       "Plot with title \"Product chart\""
      ]
     },
     "metadata": {
      "image/png": {
       "height": 420,
       "width": 420
      }
     },
     "output_type": "display_data"
    }
   ],
   "source": [
    "barplot(v, names.arg = l, xlab=\"Product Code\",ylab=\"Count\",col=\"blue\",main=\"Product chart\",border=\"red\")"
   ]
  },
  {
   "cell_type": "code",
   "execution_count": 36,
   "metadata": {},
   "outputs": [
    {
     "data": {
      "image/png": "[encoded data removed]",
      "text/plain": [
       "Plot with title \"City pie chart\""
      ]
     },
     "metadata": {
      "image/png": {
       "height": 420,
       "width": 420
      }
     },
     "output_type": "display_data"
    }
   ],
   "source": [
    "pie(v, l, main = \"City pie chart\", col = rainbow(length(v)))"
   ]
  },
  {
   "cell_type": "code",
   "execution_count": 39,
   "metadata": {},
   "outputs": [
    {
     "name": "stdout",
     "output_type": "stream",
     "text": [
      "[1] \"The product with product code : S18_3232 has maximum number of orders with: 53 orders\"\n"
     ]
    }
   ],
   "source": [
    "product.code = h[h$c == max(h$c),'o']\n",
    "print(paste(\"The product with product code :\", product.code, \"has maximum number of orders with:\", h[h$c == max(h$c),'c'], 'orders'))"
   ]
  }
 ],
 "metadata": {
  "kernelspec": {
   "display_name": "Python 3",
   "language": "python",
   "name": "python3"
  },
  "language_info": {
   "codemirror_mode": {
    "name": "ipython",
    "version": 3
   },
   "file_extension": ".py",
   "mimetype": "text/x-python",
   "name": "python",
   "nbconvert_exporter": "python",
   "pygments_lexer": "ipython3",
   "version": "3.8.3"
  }
 },
 "nbformat": 4,
 "nbformat_minor": 5
}
