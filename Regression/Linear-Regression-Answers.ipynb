{
 "cells": [
  {
   "cell_type": "markdown",
   "metadata": {},
   "source": [
    "### 1. Plot a bar chart showing count of individual species?"
   ]
  },
  {
   "cell_type": "code",
   "execution_count": 1,
   "metadata": {},
   "outputs": [],
   "source": [
    "import pandas as pd\n",
    "import numpy as np"
   ]
  },
  {
   "cell_type": "code",
   "execution_count": 2,
   "metadata": {},
   "outputs": [],
   "source": [
    "df = pd.read_csv(\"/Users/akshatrastogi/Desktop/Fish_dataset.csv\")"
   ]
  },
  {
   "cell_type": "code",
   "execution_count": 3,
   "metadata": {},
   "outputs": [
    {
     "data": {
      "text/html": [
       "<div>\n",
       "<style scoped>\n",
       "    .dataframe tbody tr th:only-of-type {\n",
       "        vertical-align: middle;\n",
       "    }\n",
       "\n",
       "    .dataframe tbody tr th {\n",
       "        vertical-align: top;\n",
       "    }\n",
       "\n",
       "    .dataframe thead th {\n",
       "        text-align: right;\n",
       "    }\n",
       "</style>\n",
       "<table border=\"1\" class=\"dataframe\">\n",
       "  <thead>\n",
       "    <tr style=\"text-align: right;\">\n",
       "      <th></th>\n",
       "      <th>Species</th>\n",
       "      <th>Weight</th>\n",
       "      <th>Length1</th>\n",
       "      <th>Length2</th>\n",
       "      <th>Length3</th>\n",
       "      <th>Height</th>\n",
       "      <th>Width</th>\n",
       "    </tr>\n",
       "  </thead>\n",
       "  <tbody>\n",
       "    <tr>\n",
       "      <th>0</th>\n",
       "      <td>Bream</td>\n",
       "      <td>242.0</td>\n",
       "      <td>23.2</td>\n",
       "      <td>25.4</td>\n",
       "      <td>30.0</td>\n",
       "      <td>11.5200</td>\n",
       "      <td>4.0200</td>\n",
       "    </tr>\n",
       "    <tr>\n",
       "      <th>1</th>\n",
       "      <td>Bream</td>\n",
       "      <td>290.0</td>\n",
       "      <td>24.0</td>\n",
       "      <td>26.3</td>\n",
       "      <td>31.2</td>\n",
       "      <td>12.4800</td>\n",
       "      <td>4.3056</td>\n",
       "    </tr>\n",
       "    <tr>\n",
       "      <th>2</th>\n",
       "      <td>Bream</td>\n",
       "      <td>340.0</td>\n",
       "      <td>23.9</td>\n",
       "      <td>26.5</td>\n",
       "      <td>31.1</td>\n",
       "      <td>12.3778</td>\n",
       "      <td>4.6961</td>\n",
       "    </tr>\n",
       "    <tr>\n",
       "      <th>3</th>\n",
       "      <td>Bream</td>\n",
       "      <td>363.0</td>\n",
       "      <td>26.3</td>\n",
       "      <td>29.0</td>\n",
       "      <td>33.5</td>\n",
       "      <td>12.7300</td>\n",
       "      <td>4.4555</td>\n",
       "    </tr>\n",
       "    <tr>\n",
       "      <th>4</th>\n",
       "      <td>Bream</td>\n",
       "      <td>430.0</td>\n",
       "      <td>26.5</td>\n",
       "      <td>29.0</td>\n",
       "      <td>34.0</td>\n",
       "      <td>12.4440</td>\n",
       "      <td>5.1340</td>\n",
       "    </tr>\n",
       "  </tbody>\n",
       "</table>\n",
       "</div>"
      ],
      "text/plain": [
       "  Species  Weight  Length1  Length2  Length3   Height   Width\n",
       "0   Bream   242.0     23.2     25.4     30.0  11.5200  4.0200\n",
       "1   Bream   290.0     24.0     26.3     31.2  12.4800  4.3056\n",
       "2   Bream   340.0     23.9     26.5     31.1  12.3778  4.6961\n",
       "3   Bream   363.0     26.3     29.0     33.5  12.7300  4.4555\n",
       "4   Bream   430.0     26.5     29.0     34.0  12.4440  5.1340"
      ]
     },
     "execution_count": 3,
     "metadata": {},
     "output_type": "execute_result"
    }
   ],
   "source": [
    "df.head()"
   ]
  },
  {
   "cell_type": "code",
   "execution_count": 4,
   "metadata": {},
   "outputs": [
    {
     "name": "stdout",
     "output_type": "stream",
     "text": [
      "<class 'pandas.core.frame.DataFrame'>\n",
      "RangeIndex: 159 entries, 0 to 158\n",
      "Data columns (total 7 columns):\n",
      " #   Column   Non-Null Count  Dtype  \n",
      "---  ------   --------------  -----  \n",
      " 0   Species  159 non-null    object \n",
      " 1   Weight   159 non-null    float64\n",
      " 2   Length1  159 non-null    float64\n",
      " 3   Length2  159 non-null    float64\n",
      " 4   Length3  159 non-null    float64\n",
      " 5   Height   159 non-null    float64\n",
      " 6   Width    159 non-null    float64\n",
      "dtypes: float64(6), object(1)\n",
      "memory usage: 8.8+ KB\n"
     ]
    }
   ],
   "source": [
    "df.info()"
   ]
  },
  {
   "cell_type": "code",
   "execution_count": 5,
   "metadata": {},
   "outputs": [
    {
     "data": {
      "text/plain": [
       "Perch        56\n",
       "Bream        35\n",
       "Roach        20\n",
       "Pike         17\n",
       "Smelt        14\n",
       "Parkki       11\n",
       "Whitefish     6\n",
       "Name: Species, dtype: int64"
      ]
     },
     "execution_count": 5,
     "metadata": {},
     "output_type": "execute_result"
    }
   ],
   "source": [
    "s = df['Species'].value_counts()\n",
    "s"
   ]
  },
  {
   "cell_type": "code",
   "execution_count": 8,
   "metadata": {},
   "outputs": [
    {
     "data": {
      "text/plain": [
       "<AxesSubplot:title={'center':'Number for each Species'}>"
      ]
     },
     "execution_count": 8,
     "metadata": {},
     "output_type": "execute_result"
    },
    {
     "data": {
      "image/png": "[encoded data removed]",
      "text/plain": [
       "<Figure size 1008x576 with 1 Axes>"
      ]
     },
     "metadata": {
      "needs_background": "light"
     },
     "output_type": "display_data"
    }
   ],
   "source": [
    "df['Species'].value_counts().plot(kind='bar',\n",
    "                                    figsize=(14,8),\n",
    "                                    title=\"Number for each Species\")"
   ]
  },
  {
   "cell_type": "markdown",
   "metadata": {},
   "source": [
    "### 2. Identify outliers and remove if any?"
   ]
  },
  {
   "cell_type": "code",
   "execution_count": 6,
   "metadata": {},
   "outputs": [],
   "source": [
    "import seaborn as sns"
   ]
  },
  {
   "cell_type": "code",
   "execution_count": 7,
   "metadata": {},
   "outputs": [
    {
     "data": {
      "text/plain": [
       "<matplotlib.axes._subplots.AxesSubplot at 0x7ffc88795e80>"
      ]
     },
     "execution_count": 7,
     "metadata": {},
     "output_type": "execute_result"
    },
    {
     "data": {
      "image/png": "[encoded data removed]",
      "text/plain": [
       "<Figure size 432x288 with 1 Axes>"
      ]
     },
     "metadata": {
      "needs_background": "light"
     },
     "output_type": "display_data"
    }
   ],
   "source": [
    "sns.boxplot(df.Length1)"
   ]
  },
  {
   "cell_type": "code",
   "execution_count": 8,
   "metadata": {},
   "outputs": [
    {
     "data": {
      "text/plain": [
       "<matplotlib.axes._subplots.AxesSubplot at 0x7ffc88849910>"
      ]
     },
     "execution_count": 8,
     "metadata": {},
     "output_type": "execute_result"
    },
    {
     "data": {
      "image/png": "[encoded data removed]",
      "text/plain": [
       "<Figure size 432x288 with 1 Axes>"
      ]
     },
     "metadata": {
      "needs_background": "light"
     },
     "output_type": "display_data"
    }
   ],
   "source": [
    "sns.boxplot(df.Length2)"
   ]
  },
  {
   "cell_type": "code",
   "execution_count": 9,
   "metadata": {},
   "outputs": [
    {
     "data": {
      "text/plain": [
       "<matplotlib.axes._subplots.AxesSubplot at 0x7ffc889437f0>"
      ]
     },
     "execution_count": 9,
     "metadata": {},
     "output_type": "execute_result"
    },
    {
     "data": {
      "image/png": "[encoded data removed]",
      "text/plain": [
       "<Figure size 432x288 with 1 Axes>"
      ]
     },
     "metadata": {
      "needs_background": "light"
     },
     "output_type": "display_data"
    }
   ],
   "source": [
    "sns.boxplot(df.Length3)"
   ]
  },
  {
   "cell_type": "code",
   "execution_count": 10,
   "metadata": {},
   "outputs": [
    {
     "data": {
      "text/plain": [
       "<matplotlib.axes._subplots.AxesSubplot at 0x7ffc88a0fdc0>"
      ]
     },
     "execution_count": 10,
     "metadata": {},
     "output_type": "execute_result"
    },
    {
     "data": {
      "image/png": "[encoded data removed]",
      "text/plain": [
       "<Figure size 432x288 with 1 Axes>"
      ]
     },
     "metadata": {
      "needs_background": "light"
     },
     "output_type": "display_data"
    }
   ],
   "source": [
    "sns.boxplot(df.Height)"
   ]
  },
  {
   "cell_type": "code",
   "execution_count": 11,
   "metadata": {},
   "outputs": [
    {
     "data": {
      "text/plain": [
       "<matplotlib.axes._subplots.AxesSubplot at 0x7ffc88ad1070>"
      ]
     },
     "execution_count": 11,
     "metadata": {},
     "output_type": "execute_result"
    },
    {
     "data": {
      "image/png": "[encoded data removed]",
      "text/plain": [
       "<Figure size 432x288 with 1 Axes>"
      ]
     },
     "metadata": {
      "needs_background": "light"
     },
     "output_type": "display_data"
    }
   ],
   "source": [
    "sns.boxplot(df.Width)"
   ]
  },
  {
   "cell_type": "code",
   "execution_count": 12,
   "metadata": {},
   "outputs": [],
   "source": [
    "# Handling Outliers | I am capping that with Var > P95 then Var = P95 [Upper CAP]\n",
    "#                                         Var < P05 then Var = P05 [Lower CAP]\n",
    "#_________________________________________________________________________________\n",
    "df['Length1'] = df['Length1'].clip(upper=df['Length1'].quantile(0.95)) \n",
    "df['Length1']= df['Length1'].clip(lower=df['Length1'].quantile(0.05))\n",
    "\n",
    "df['Length2'] = df['Length2'].clip(upper=df['Length2'].quantile(0.95)) \n",
    "df['Length2']= df['Length2'].clip(lower=df['Length2'].quantile(0.05))\n",
    "\n",
    "df['Length3'] = df['Length3'].clip(upper=df['Length3'].quantile(0.95)) \n",
    "df['Length3']= df['Length3'].clip(lower=df['Length3'].quantile(0.05))"
   ]
  },
  {
   "cell_type": "code",
   "execution_count": 13,
   "metadata": {},
   "outputs": [
    {
     "data": {
      "text/plain": [
       "<matplotlib.axes._subplots.AxesSubplot at 0x7ffc88b90790>"
      ]
     },
     "execution_count": 13,
     "metadata": {},
     "output_type": "execute_result"
    },
    {
     "data": {
      "image/png": "[encoded data removed]",
      "text/plain": [
       "<Figure size 432x288 with 1 Axes>"
      ]
     },
     "metadata": {
      "needs_background": "light"
     },
     "output_type": "display_data"
    }
   ],
   "source": [
    "#Checking Normality\n",
    "sns.distplot(df.Length1)"
   ]
  },
  {
   "cell_type": "code",
   "execution_count": 14,
   "metadata": {},
   "outputs": [
    {
     "data": {
      "text/plain": [
       "<matplotlib.axes._subplots.AxesSubplot at 0x7ffc88cbb400>"
      ]
     },
     "execution_count": 14,
     "metadata": {},
     "output_type": "execute_result"
    },
    {
     "data": {
      "image/png": "[encoded data removed]",
      "text/plain": [
       "<Figure size 432x288 with 1 Axes>"
      ]
     },
     "metadata": {
      "needs_background": "light"
     },
     "output_type": "display_data"
    }
   ],
   "source": [
    "sns.distplot(df.Length2) #Checking Normality"
   ]
  },
  {
   "cell_type": "code",
   "execution_count": 15,
   "metadata": {},
   "outputs": [
    {
     "data": {
      "text/plain": [
       "<matplotlib.axes._subplots.AxesSubplot at 0x7ffc88b9f8e0>"
      ]
     },
     "execution_count": 15,
     "metadata": {},
     "output_type": "execute_result"
    },
    {
     "data": {
      "image/png": "[encoded data removed]",
      "text/plain": [
       "<Figure size 432x288 with 1 Axes>"
      ]
     },
     "metadata": {
      "needs_background": "light"
     },
     "output_type": "display_data"
    }
   ],
   "source": [
    "sns.distplot(df.Length3) #Checking Normality"
   ]
  },
  {
   "cell_type": "markdown",
   "metadata": {},
   "source": [
    "### 3. Build a regression model and print regression equation?"
   ]
  },
  {
   "cell_type": "markdown",
   "metadata": {},
   "source": [
    "# MULTIPLE LINEAR REGRESSION MODEL"
   ]
  },
  {
   "cell_type": "code",
   "execution_count": 16,
   "metadata": {},
   "outputs": [],
   "source": [
    "import statsmodels.formula.api as smf"
   ]
  },
  {
   "cell_type": "code",
   "execution_count": 17,
   "metadata": {},
   "outputs": [],
   "source": [
    "from sklearn.preprocessing import LabelEncoder\n",
    "from sklearn.preprocessing import OneHotEncoder\n",
    "\n",
    "le = LabelEncoder()\n",
    "\n",
    "df['Species'] = le.fit_transform(df['Species'])"
   ]
  },
  {
   "cell_type": "code",
   "execution_count": 18,
   "metadata": {},
   "outputs": [
    {
     "data": {
      "text/html": [
       "<div>\n",
       "<style scoped>\n",
       "    .dataframe tbody tr th:only-of-type {\n",
       "        vertical-align: middle;\n",
       "    }\n",
       "\n",
       "    .dataframe tbody tr th {\n",
       "        vertical-align: top;\n",
       "    }\n",
       "\n",
       "    .dataframe thead th {\n",
       "        text-align: right;\n",
       "    }\n",
       "</style>\n",
       "<table border=\"1\" class=\"dataframe\">\n",
       "  <thead>\n",
       "    <tr style=\"text-align: right;\">\n",
       "      <th></th>\n",
       "      <th>Species</th>\n",
       "      <th>Weight</th>\n",
       "      <th>Length1</th>\n",
       "      <th>Length2</th>\n",
       "      <th>Length3</th>\n",
       "      <th>Height</th>\n",
       "      <th>Width</th>\n",
       "    </tr>\n",
       "  </thead>\n",
       "  <tbody>\n",
       "    <tr>\n",
       "      <th>0</th>\n",
       "      <td>0</td>\n",
       "      <td>242.0</td>\n",
       "      <td>23.2</td>\n",
       "      <td>25.4</td>\n",
       "      <td>30.0</td>\n",
       "      <td>11.5200</td>\n",
       "      <td>4.0200</td>\n",
       "    </tr>\n",
       "    <tr>\n",
       "      <th>1</th>\n",
       "      <td>0</td>\n",
       "      <td>290.0</td>\n",
       "      <td>24.0</td>\n",
       "      <td>26.3</td>\n",
       "      <td>31.2</td>\n",
       "      <td>12.4800</td>\n",
       "      <td>4.3056</td>\n",
       "    </tr>\n",
       "    <tr>\n",
       "      <th>2</th>\n",
       "      <td>0</td>\n",
       "      <td>340.0</td>\n",
       "      <td>23.9</td>\n",
       "      <td>26.5</td>\n",
       "      <td>31.1</td>\n",
       "      <td>12.3778</td>\n",
       "      <td>4.6961</td>\n",
       "    </tr>\n",
       "    <tr>\n",
       "      <th>3</th>\n",
       "      <td>0</td>\n",
       "      <td>363.0</td>\n",
       "      <td>26.3</td>\n",
       "      <td>29.0</td>\n",
       "      <td>33.5</td>\n",
       "      <td>12.7300</td>\n",
       "      <td>4.4555</td>\n",
       "    </tr>\n",
       "    <tr>\n",
       "      <th>4</th>\n",
       "      <td>0</td>\n",
       "      <td>430.0</td>\n",
       "      <td>26.5</td>\n",
       "      <td>29.0</td>\n",
       "      <td>34.0</td>\n",
       "      <td>12.4440</td>\n",
       "      <td>5.1340</td>\n",
       "    </tr>\n",
       "  </tbody>\n",
       "</table>\n",
       "</div>"
      ],
      "text/plain": [
       "   Species  Weight  Length1  Length2  Length3   Height   Width\n",
       "0        0   242.0     23.2     25.4     30.0  11.5200  4.0200\n",
       "1        0   290.0     24.0     26.3     31.2  12.4800  4.3056\n",
       "2        0   340.0     23.9     26.5     31.1  12.3778  4.6961\n",
       "3        0   363.0     26.3     29.0     33.5  12.7300  4.4555\n",
       "4        0   430.0     26.5     29.0     34.0  12.4440  5.1340"
      ]
     },
     "execution_count": 18,
     "metadata": {},
     "output_type": "execute_result"
    }
   ],
   "source": [
    "df.head()"
   ]
  },
  {
   "cell_type": "code",
   "execution_count": 19,
   "metadata": {},
   "outputs": [
    {
     "data": {
      "text/plain": [
       "Index(['Species', 'Weight', 'Length1', 'Length2', 'Length3', 'Height',\n",
       "       'Width'],\n",
       "      dtype='object')"
      ]
     },
     "execution_count": 19,
     "metadata": {},
     "output_type": "execute_result"
    }
   ],
   "source": [
    "df.columns"
   ]
  },
  {
   "cell_type": "code",
   "execution_count": 20,
   "metadata": {},
   "outputs": [],
   "source": [
    "from sklearn import metrics"
   ]
  },
  {
   "cell_type": "code",
   "execution_count": 21,
   "metadata": {},
   "outputs": [],
   "source": [
    "lm = smf.ols( 'Weight ~ Species + Height + Width + Length1 + Length2 + Length3', df ).fit()"
   ]
  },
  {
   "cell_type": "code",
   "execution_count": 22,
   "metadata": {},
   "outputs": [
    {
     "data": {
      "text/html": [
       "<table class=\"simpletable\">\n",
       "<caption>OLS Regression Results</caption>\n",
       "<tr>\n",
       "  <th>Dep. Variable:</th>         <td>Weight</td>      <th>  R-squared:         </th> <td>   0.846</td>\n",
       "</tr>\n",
       "<tr>\n",
       "  <th>Model:</th>                   <td>OLS</td>       <th>  Adj. R-squared:    </th> <td>   0.840</td>\n",
       "</tr>\n",
       "<tr>\n",
       "  <th>Method:</th>             <td>Least Squares</td>  <th>  F-statistic:       </th> <td>   139.4</td>\n",
       "</tr>\n",
       "<tr>\n",
       "  <th>Date:</th>             <td>Sun, 21 Feb 2021</td> <th>  Prob (F-statistic):</th> <td>3.41e-59</td>\n",
       "</tr>\n",
       "<tr>\n",
       "  <th>Time:</th>                 <td>19:59:01</td>     <th>  Log-Likelihood:    </th> <td> -1011.2</td>\n",
       "</tr>\n",
       "<tr>\n",
       "  <th>No. Observations:</th>      <td>   159</td>      <th>  AIC:               </th> <td>   2036.</td>\n",
       "</tr>\n",
       "<tr>\n",
       "  <th>Df Residuals:</th>          <td>   152</td>      <th>  BIC:               </th> <td>   2058.</td>\n",
       "</tr>\n",
       "<tr>\n",
       "  <th>Df Model:</th>              <td>     6</td>      <th>                     </th>     <td> </td>   \n",
       "</tr>\n",
       "<tr>\n",
       "  <th>Covariance Type:</th>      <td>nonrobust</td>    <th>                     </th>     <td> </td>   \n",
       "</tr>\n",
       "</table>\n",
       "<table class=\"simpletable\">\n",
       "<tr>\n",
       "      <td></td>         <th>coef</th>     <th>std err</th>      <th>t</th>      <th>P>|t|</th>  <th>[0.025</th>    <th>0.975]</th>  \n",
       "</tr>\n",
       "<tr>\n",
       "  <th>Intercept</th> <td> -603.3143</td> <td>   56.946</td> <td>  -10.594</td> <td> 0.000</td> <td> -715.823</td> <td> -490.805</td>\n",
       "</tr>\n",
       "<tr>\n",
       "  <th>Species</th>   <td>   30.5858</td> <td>   10.887</td> <td>    2.809</td> <td> 0.006</td> <td>    9.077</td> <td>   52.095</td>\n",
       "</tr>\n",
       "<tr>\n",
       "  <th>Height</th>    <td>   51.8998</td> <td>   12.508</td> <td>    4.149</td> <td> 0.000</td> <td>   27.187</td> <td>   76.612</td>\n",
       "</tr>\n",
       "<tr>\n",
       "  <th>Width</th>     <td>   35.5888</td> <td>   26.265</td> <td>    1.355</td> <td> 0.177</td> <td>  -16.302</td> <td>   87.480</td>\n",
       "</tr>\n",
       "<tr>\n",
       "  <th>Length1</th>   <td>  130.5130</td> <td>   47.906</td> <td>    2.724</td> <td> 0.007</td> <td>   35.865</td> <td>  225.161</td>\n",
       "</tr>\n",
       "<tr>\n",
       "  <th>Length2</th>   <td>  -47.0416</td> <td>   51.085</td> <td>   -0.921</td> <td> 0.359</td> <td> -147.969</td> <td>   53.886</td>\n",
       "</tr>\n",
       "<tr>\n",
       "  <th>Length3</th>   <td>  -56.8369</td> <td>   21.598</td> <td>   -2.632</td> <td> 0.009</td> <td>  -99.508</td> <td>  -14.166</td>\n",
       "</tr>\n",
       "</table>\n",
       "<table class=\"simpletable\">\n",
       "<tr>\n",
       "  <th>Omnibus:</th>       <td>108.866</td> <th>  Durbin-Watson:     </th> <td>   0.401</td> \n",
       "</tr>\n",
       "<tr>\n",
       "  <th>Prob(Omnibus):</th> <td> 0.000</td>  <th>  Jarque-Bera (JB):  </th> <td> 889.727</td> \n",
       "</tr>\n",
       "<tr>\n",
       "  <th>Skew:</th>          <td> 2.441</td>  <th>  Prob(JB):          </th> <td>6.28e-194</td>\n",
       "</tr>\n",
       "<tr>\n",
       "  <th>Kurtosis:</th>      <td>13.510</td>  <th>  Cond. No.          </th> <td>    348.</td> \n",
       "</tr>\n",
       "</table><br/><br/>Warnings:<br/>[1] Standard Errors assume that the covariance matrix of the errors is correctly specified."
      ],
      "text/plain": [
       "<class 'statsmodels.iolib.summary.Summary'>\n",
       "\"\"\"\n",
       "                            OLS Regression Results                            \n",
       "==============================================================================\n",
       "Dep. Variable:                 Weight   R-squared:                       0.846\n",
       "Model:                            OLS   Adj. R-squared:                  0.840\n",
       "Method:                 Least Squares   F-statistic:                     139.4\n",
       "Date:                Sun, 21 Feb 2021   Prob (F-statistic):           3.41e-59\n",
       "Time:                        19:59:01   Log-Likelihood:                -1011.2\n",
       "No. Observations:                 159   AIC:                             2036.\n",
       "Df Residuals:                     152   BIC:                             2058.\n",
       "Df Model:                           6                                         \n",
       "Covariance Type:            nonrobust                                         \n",
       "==============================================================================\n",
       "                 coef    std err          t      P>|t|      [0.025      0.975]\n",
       "------------------------------------------------------------------------------\n",
       "Intercept   -603.3143     56.946    -10.594      0.000    -715.823    -490.805\n",
       "Species       30.5858     10.887      2.809      0.006       9.077      52.095\n",
       "Height        51.8998     12.508      4.149      0.000      27.187      76.612\n",
       "Width         35.5888     26.265      1.355      0.177     -16.302      87.480\n",
       "Length1      130.5130     47.906      2.724      0.007      35.865     225.161\n",
       "Length2      -47.0416     51.085     -0.921      0.359    -147.969      53.886\n",
       "Length3      -56.8369     21.598     -2.632      0.009     -99.508     -14.166\n",
       "==============================================================================\n",
       "Omnibus:                      108.866   Durbin-Watson:                   0.401\n",
       "Prob(Omnibus):                  0.000   Jarque-Bera (JB):              889.727\n",
       "Skew:                           2.441   Prob(JB):                    6.28e-194\n",
       "Kurtosis:                      13.510   Cond. No.                         348.\n",
       "==============================================================================\n",
       "\n",
       "Warnings:\n",
       "[1] Standard Errors assume that the covariance matrix of the errors is correctly specified.\n",
       "\"\"\""
      ]
     },
     "execution_count": 22,
     "metadata": {},
     "output_type": "execute_result"
    }
   ],
   "source": [
    "lm.summary()"
   ]
  },
  {
   "cell_type": "code",
   "execution_count": 23,
   "metadata": {},
   "outputs": [],
   "source": [
    "lm = smf.ols( 'Weight ~ Species + Height + Length1 + Length3', df ).fit()"
   ]
  },
  {
   "cell_type": "code",
   "execution_count": 24,
   "metadata": {},
   "outputs": [
    {
     "data": {
      "text/html": [
       "<table class=\"simpletable\">\n",
       "<caption>OLS Regression Results</caption>\n",
       "<tr>\n",
       "  <th>Dep. Variable:</th>         <td>Weight</td>      <th>  R-squared:         </th> <td>   0.844</td>\n",
       "</tr>\n",
       "<tr>\n",
       "  <th>Model:</th>                   <td>OLS</td>       <th>  Adj. R-squared:    </th> <td>   0.840</td>\n",
       "</tr>\n",
       "<tr>\n",
       "  <th>Method:</th>             <td>Least Squares</td>  <th>  F-statistic:       </th> <td>   208.7</td>\n",
       "</tr>\n",
       "<tr>\n",
       "  <th>Date:</th>             <td>Sun, 21 Feb 2021</td> <th>  Prob (F-statistic):</th> <td>4.35e-61</td>\n",
       "</tr>\n",
       "<tr>\n",
       "  <th>Time:</th>                 <td>19:59:06</td>     <th>  Log-Likelihood:    </th> <td> -1012.3</td>\n",
       "</tr>\n",
       "<tr>\n",
       "  <th>No. Observations:</th>      <td>   159</td>      <th>  AIC:               </th> <td>   2035.</td>\n",
       "</tr>\n",
       "<tr>\n",
       "  <th>Df Residuals:</th>          <td>   154</td>      <th>  BIC:               </th> <td>   2050.</td>\n",
       "</tr>\n",
       "<tr>\n",
       "  <th>Df Model:</th>              <td>     4</td>      <th>                     </th>     <td> </td>   \n",
       "</tr>\n",
       "<tr>\n",
       "  <th>Covariance Type:</th>      <td>nonrobust</td>    <th>                     </th>     <td> </td>   \n",
       "</tr>\n",
       "</table>\n",
       "<table class=\"simpletable\">\n",
       "<tr>\n",
       "      <td></td>         <th>coef</th>     <th>std err</th>      <th>t</th>      <th>P>|t|</th>  <th>[0.025</th>    <th>0.975]</th>  \n",
       "</tr>\n",
       "<tr>\n",
       "  <th>Intercept</th> <td> -626.7273</td> <td>   53.283</td> <td>  -11.762</td> <td> 0.000</td> <td> -731.988</td> <td> -521.467</td>\n",
       "</tr>\n",
       "<tr>\n",
       "  <th>Species</th>   <td>   37.0283</td> <td>    9.832</td> <td>    3.766</td> <td> 0.000</td> <td>   17.604</td> <td>   56.452</td>\n",
       "</tr>\n",
       "<tr>\n",
       "  <th>Height</th>    <td>   64.0612</td> <td>    8.364</td> <td>    7.660</td> <td> 0.000</td> <td>   47.539</td> <td>   80.583</td>\n",
       "</tr>\n",
       "<tr>\n",
       "  <th>Length1</th>   <td>  106.7608</td> <td>   16.038</td> <td>    6.657</td> <td> 0.000</td> <td>   75.077</td> <td>  138.444</td>\n",
       "</tr>\n",
       "<tr>\n",
       "  <th>Length3</th>   <td>  -77.8182</td> <td>   15.649</td> <td>   -4.973</td> <td> 0.000</td> <td> -108.732</td> <td>  -46.904</td>\n",
       "</tr>\n",
       "</table>\n",
       "<table class=\"simpletable\">\n",
       "<tr>\n",
       "  <th>Omnibus:</th>       <td>106.396</td> <th>  Durbin-Watson:     </th> <td>   0.454</td> \n",
       "</tr>\n",
       "<tr>\n",
       "  <th>Prob(Omnibus):</th> <td> 0.000</td>  <th>  Jarque-Bera (JB):  </th> <td> 851.935</td> \n",
       "</tr>\n",
       "<tr>\n",
       "  <th>Skew:</th>          <td> 2.374</td>  <th>  Prob(JB):          </th> <td>1.01e-185</td>\n",
       "</tr>\n",
       "<tr>\n",
       "  <th>Kurtosis:</th>      <td>13.298</td>  <th>  Cond. No.          </th> <td>    207.</td> \n",
       "</tr>\n",
       "</table><br/><br/>Warnings:<br/>[1] Standard Errors assume that the covariance matrix of the errors is correctly specified."
      ],
      "text/plain": [
       "<class 'statsmodels.iolib.summary.Summary'>\n",
       "\"\"\"\n",
       "                            OLS Regression Results                            \n",
       "==============================================================================\n",
       "Dep. Variable:                 Weight   R-squared:                       0.844\n",
       "Model:                            OLS   Adj. R-squared:                  0.840\n",
       "Method:                 Least Squares   F-statistic:                     208.7\n",
       "Date:                Sun, 21 Feb 2021   Prob (F-statistic):           4.35e-61\n",
       "Time:                        19:59:06   Log-Likelihood:                -1012.3\n",
       "No. Observations:                 159   AIC:                             2035.\n",
       "Df Residuals:                     154   BIC:                             2050.\n",
       "Df Model:                           4                                         \n",
       "Covariance Type:            nonrobust                                         \n",
       "==============================================================================\n",
       "                 coef    std err          t      P>|t|      [0.025      0.975]\n",
       "------------------------------------------------------------------------------\n",
       "Intercept   -626.7273     53.283    -11.762      0.000    -731.988    -521.467\n",
       "Species       37.0283      9.832      3.766      0.000      17.604      56.452\n",
       "Height        64.0612      8.364      7.660      0.000      47.539      80.583\n",
       "Length1      106.7608     16.038      6.657      0.000      75.077     138.444\n",
       "Length3      -77.8182     15.649     -4.973      0.000    -108.732     -46.904\n",
       "==============================================================================\n",
       "Omnibus:                      106.396   Durbin-Watson:                   0.454\n",
       "Prob(Omnibus):                  0.000   Jarque-Bera (JB):              851.935\n",
       "Skew:                           2.374   Prob(JB):                    1.01e-185\n",
       "Kurtosis:                      13.298   Cond. No.                         207.\n",
       "==============================================================================\n",
       "\n",
       "Warnings:\n",
       "[1] Standard Errors assume that the covariance matrix of the errors is correctly specified.\n",
       "\"\"\""
      ]
     },
     "execution_count": 24,
     "metadata": {},
     "output_type": "execute_result"
    }
   ],
   "source": [
    "lm.summary()\n",
    "#after removing length2 and width we can see that the f-statistic has been increased and thereby increasing the accuracy of model"
   ]
  },
  {
   "cell_type": "code",
   "execution_count": 25,
   "metadata": {},
   "outputs": [
    {
     "data": {
      "text/plain": [
       "Intercept   -626.727323\n",
       "Species       37.028303\n",
       "Height        64.061176\n",
       "Length1      106.760774\n",
       "Length3      -77.818214\n",
       "dtype: float64"
      ]
     },
     "execution_count": 25,
     "metadata": {},
     "output_type": "execute_result"
    }
   ],
   "source": [
    "lm.params"
   ]
  },
  {
   "cell_type": "code",
   "execution_count": 26,
   "metadata": {},
   "outputs": [
    {
     "data": {
      "text/plain": [
       "Intercept    3.400450e-23\n",
       "Species      2.356667e-04\n",
       "Height       1.932287e-12\n",
       "Length1      4.648025e-10\n",
       "Length3      1.742769e-06\n",
       "dtype: float64"
      ]
     },
     "execution_count": 26,
     "metadata": {},
     "output_type": "execute_result"
    }
   ],
   "source": [
    "lm.pvalues"
   ]
  },
  {
   "cell_type": "code",
   "execution_count": 27,
   "metadata": {},
   "outputs": [],
   "source": [
    "#removing width and length2 as they very high pvalue as compared to others\n",
    "lm = smf.ols( 'Weight ~ Species + Height + Length1 + Length3', df ).fit()"
   ]
  },
  {
   "cell_type": "code",
   "execution_count": 28,
   "metadata": {},
   "outputs": [
    {
     "data": {
      "text/plain": [
       "Intercept   -626.727323\n",
       "Species       37.028303\n",
       "Height        64.061176\n",
       "Length1      106.760774\n",
       "Length3      -77.818214\n",
       "dtype: float64"
      ]
     },
     "execution_count": 28,
     "metadata": {},
     "output_type": "execute_result"
    }
   ],
   "source": [
    "lm.params"
   ]
  },
  {
   "cell_type": "code",
   "execution_count": 29,
   "metadata": {},
   "outputs": [
    {
     "data": {
      "text/plain": [
       "Intercept    3.400450e-23\n",
       "Species      2.356667e-04\n",
       "Height       1.932287e-12\n",
       "Length1      4.648025e-10\n",
       "Length3      1.742769e-06\n",
       "dtype: float64"
      ]
     },
     "execution_count": 29,
     "metadata": {},
     "output_type": "execute_result"
    }
   ],
   "source": [
    "lm.pvalues"
   ]
  },
  {
   "cell_type": "code",
   "execution_count": 30,
   "metadata": {},
   "outputs": [],
   "source": [
    "#lmpredict is the the predicted weight\n",
    "lmpredict = lm.predict( {'Species': df.Species, 'Height':df.Height, 'Length1': df.Length1, 'Length3':df.Length3 } )"
   ]
  },
  {
   "cell_type": "code",
   "execution_count": 31,
   "metadata": {},
   "outputs": [
    {
     "data": {
      "text/plain": [
       "140.83672612718664"
      ]
     },
     "execution_count": 31,
     "metadata": {},
     "output_type": "execute_result"
    }
   ],
   "source": [
    "#taking mean square error of orginal and predicted weight\n",
    "mse = metrics.mean_squared_error( df.Weight, lmpredict )\n",
    "rmse = np.sqrt( mse )\n",
    "rmse"
   ]
  },
  {
   "cell_type": "code",
   "execution_count": 32,
   "metadata": {},
   "outputs": [
    {
     "data": {
      "text/plain": [
       "93.4159731153175"
      ]
     },
     "execution_count": 32,
     "metadata": {},
     "output_type": "execute_result"
    }
   ],
   "source": [
    "#taking mean absolute error of orginal and predicted weight\n",
    "metrics.mean_absolute_error(df.Weight, lmpredict)"
   ]
  },
  {
   "cell_type": "code",
   "execution_count": 33,
   "metadata": {},
   "outputs": [
    {
     "data": {
      "text/plain": [
       "<matplotlib.axes._subplots.AxesSubplot at 0x7ffc89d8f430>"
      ]
     },
     "execution_count": 33,
     "metadata": {},
     "output_type": "execute_result"
    },
    {
     "data": {
      "image/png": "[encoded data removed]",
      "text/plain": [
       "<Figure size 432x288 with 1 Axes>"
      ]
     },
     "metadata": {
      "needs_background": "light"
     },
     "output_type": "display_data"
    }
   ],
   "source": [
    "#plot of the residuals\n",
    "sns.distplot(lm.resid)"
   ]
  },
  {
   "cell_type": "code",
   "execution_count": 34,
   "metadata": {},
   "outputs": [
    {
     "data": {
      "text/plain": [
       "<seaborn.axisgrid.JointGrid at 0x7ffc89e3a040>"
      ]
     },
     "execution_count": 34,
     "metadata": {},
     "output_type": "execute_result"
    },
    {
     "data": {
      "image/png": "[encoded data removed]",
      "text/plain": [
       "<Figure size 432x432 with 3 Axes>"
      ]
     },
     "metadata": {
      "needs_background": "light"
     },
     "output_type": "display_data"
    }
   ],
   "source": [
    "#plot of residual vs original weight\n",
    "sns.jointplot(df.Weight, lm.resid)"
   ]
  },
  {
   "cell_type": "markdown",
   "metadata": {},
   "source": [
    "# USING SKLEARN LIB TO BUILD MODEL"
   ]
  },
  {
   "cell_type": "code",
   "execution_count": 35,
   "metadata": {},
   "outputs": [],
   "source": [
    "from sklearn.linear_model import LinearRegression"
   ]
  },
  {
   "cell_type": "code",
   "execution_count": 36,
   "metadata": {},
   "outputs": [],
   "source": [
    "# Splitting into Train and test data sets\n",
    "# Typically the model should be built on a training dataset and validated against a test dataset\n",
    "# Let's split the dataset into 70/30 ratio. 70% belongs to training and 30% belongs to test.\n",
    "\n",
    "from sklearn.model_selection import train_test_split"
   ]
  },
  {
   "cell_type": "code",
   "execution_count": 37,
   "metadata": {},
   "outputs": [],
   "source": [
    "X_train, X_test, y_train, y_test = train_test_split(\n",
    "  df[[\"Species\", \"Height\", \"Width\", \"Length1\", \"Length2\", \"Length3\"]],\n",
    "  df.Weight,\n",
    "  test_size=0.3,\n",
    "  random_state = 101 )"
   ]
  },
  {
   "cell_type": "code",
   "execution_count": 38,
   "metadata": {},
   "outputs": [
    {
     "name": "stdout",
     "output_type": "stream",
     "text": [
      "     Species   Height   Width  Length1  Length2  Length3\n",
      "65         1   8.8928  3.2928     18.4     20.0     22.4\n",
      "100        2   6.5610  4.2390     23.5     25.6     27.0\n",
      "67         1   9.3960  3.4104     19.0     20.7     23.2\n",
      "21         0  15.9936  5.3704     31.4     34.0     39.2\n",
      "22         0  15.5227  5.2801     31.5     34.5     39.7\n",
      "..       ...      ...     ...      ...      ...      ...\n",
      "63         1   7.4052  2.6730     16.3     17.7     19.8\n",
      "70         1  11.0880  4.1440     23.0     25.0     28.0\n",
      "81         2   5.0820  2.7720     18.2     20.0     21.0\n",
      "11         0  14.3714  4.8146     28.7     31.0     36.2\n",
      "95         2   6.2750  3.7250     21.5     23.5     25.0\n",
      "\n",
      "[111 rows x 6 columns]\n",
      "     Species   Height   Width  Length1  Length2  Length3\n",
      "127        2  12.4888  7.5958    41.10     44.0    46.60\n",
      "42         4   6.1146  3.2943    19.40     21.0    23.70\n",
      "55         6   8.3804  4.2476    23.60     26.0    28.70\n",
      "101        2   7.1680  4.1440    25.00     26.5    28.00\n",
      "33         0  18.6354  6.7473    37.40     41.0    45.90\n",
      "124        2  11.9328  7.2772    39.80     43.0    45.20\n",
      "78         2   5.1992  3.1234    16.80     18.7    19.40\n",
      "143        3   9.6000  6.1440    41.19     44.1    46.74\n",
      "16         0  14.8604  5.2854    30.40     33.0    38.30\n",
      "74         2   3.8240  2.4320    13.80     15.0    16.00\n",
      "122        2  11.1350  6.6300    37.10     40.0    42.50\n",
      "92         2   6.7920  3.6240    20.50     22.5    24.00\n",
      "39         4   6.2160  3.5742    18.60     20.0    22.20\n",
      "64         1   8.3922  2.9181    17.50     19.0    21.30\n",
      "53         4   8.5680  4.7736    25.00     27.0    30.60\n",
      "84         2   5.6925  3.6675    19.00     21.0    22.50\n",
      "80         2   5.1376  3.0368    17.80     19.6    20.80\n",
      "66         1   8.5376  3.2944    19.00     20.7    23.20\n",
      "4          0  12.4440  5.1340    26.50     29.0    34.00\n",
      "1          0  12.4800  4.3056    24.00     26.3    31.20\n",
      "32         0  18.7542  6.7497    36.20     39.5    45.30\n",
      "85         2   6.3840  3.5340    19.30     21.3    22.80\n",
      "41         4   6.1677  3.3957    19.10     20.8    23.10\n",
      "50         4   7.3968  4.1272    22.10     23.5    26.80\n",
      "156        5   2.2770  1.2558    12.10     13.0    13.80\n",
      "31         0  18.0840  6.2920    35.00     38.5    44.00\n",
      "134        3   7.2800  4.3225    40.00     42.5    45.50\n",
      "102        2   8.3230  5.1373    25.20     27.3    28.70\n",
      "155        5   2.4300  1.2690    11.70     12.4    13.50\n",
      "158        5   2.9322  1.8792    13.80     15.0    16.20\n",
      "142        3   9.6000  6.1440    41.19     44.1    46.74\n",
      "96         2   7.2930  3.7230    22.00     24.0    25.50\n",
      "98         2   6.7334  4.1658    22.60     24.6    26.20\n",
      "48         4   7.5344  3.8352    22.00     24.0    27.20\n",
      "69         1  10.3458  3.6636    21.20     23.0    25.80\n",
      "113        2  10.6091  6.7408    34.00     36.0    38.30\n",
      "131        3   6.2884  4.0198    34.80     37.3    39.80\n",
      "68         1   9.7364  3.1571    19.80     21.5    24.10\n",
      "25         0  16.3600  6.0532    31.80     35.0    40.90\n",
      "108        2   7.6156  4.7716    27.80     30.0    31.60\n",
      "145        5   1.7388  1.0476    11.30     11.8    13.10\n",
      "149        5   2.0832  1.2772    11.30     11.8    13.10\n",
      "86         2   6.1100  3.4075    20.00     22.0    23.50\n",
      "129        3   5.7078  4.1580    31.70     34.0    37.80\n",
      "116        2  11.1366  7.4934    36.50     39.0    41.40\n",
      "94         2   5.2185  3.6260    21.00     23.0    24.50\n",
      "90         2   5.5225  3.9950    20.00     22.0    23.50\n",
      "43         4   5.8045  3.7544    20.40     22.0    24.70\n"
     ]
    }
   ],
   "source": [
    "print (X_train)\n",
    "print (X_test)"
   ]
  },
  {
   "cell_type": "code",
   "execution_count": 39,
   "metadata": {},
   "outputs": [],
   "source": [
    "## Building the model with train set and make predictions on test set\n",
    "linreg = LinearRegression()\n",
    "linreg.fit( X_train, y_train )\n",
    "y_pred = linreg.predict( X_test )"
   ]
  },
  {
   "cell_type": "code",
   "execution_count": 40,
   "metadata": {},
   "outputs": [
    {
     "data": {
      "text/plain": [
       "array([ 22.4572115 ,  43.62099749,  68.86150176, 149.68275911,\n",
       "       -87.19317416, -40.56159596])"
      ]
     },
     "execution_count": 40,
     "metadata": {},
     "output_type": "execute_result"
    }
   ],
   "source": [
    "linreg.coef_"
   ]
  },
  {
   "cell_type": "code",
   "execution_count": 41,
   "metadata": {},
   "outputs": [
    {
     "data": {
      "text/plain": [
       "181.49240942447287"
      ]
     },
     "execution_count": 41,
     "metadata": {},
     "output_type": "execute_result"
    }
   ],
   "source": [
    "#Calculating root mean square error on testing data\n",
    "from sklearn import metrics\n",
    "rmse = np.sqrt( metrics.mean_squared_error( y_test, y_pred ) )\n",
    "rmse"
   ]
  },
  {
   "cell_type": "code",
   "execution_count": 42,
   "metadata": {},
   "outputs": [
    {
     "data": {
      "text/plain": [
       "120.7535886478853"
      ]
     },
     "execution_count": 42,
     "metadata": {},
     "output_type": "execute_result"
    }
   ],
   "source": [
    "#Calculating root mean square error on training error\n",
    "y_pred_t = linreg.predict(X_train)\n",
    "rmse_t = np.sqrt( metrics.mean_squared_error( y_train, y_pred_t) )\n",
    "rmse_t"
   ]
  },
  {
   "cell_type": "code",
   "execution_count": 43,
   "metadata": {},
   "outputs": [
    {
     "data": {
      "text/plain": [
       "0.8732363470803735"
      ]
     },
     "execution_count": 43,
     "metadata": {},
     "output_type": "execute_result"
    }
   ],
   "source": [
    "#Calculating root mean square on training data\n",
    "metrics.r2_score( y_train, y_pred_t )"
   ]
  },
  {
   "cell_type": "code",
   "execution_count": 44,
   "metadata": {},
   "outputs": [
    {
     "data": {
      "text/plain": [
       "0.7874294356968787"
      ]
     },
     "execution_count": 44,
     "metadata": {},
     "output_type": "execute_result"
    }
   ],
   "source": [
    "#Calculating root mean square on testing data\n",
    "metrics.r2_score( y_test, y_pred )"
   ]
  },
  {
   "cell_type": "code",
   "execution_count": 45,
   "metadata": {},
   "outputs": [
    {
     "data": {
      "text/plain": [
       "[('Species', 22.457211496821117),\n",
       " ('Height', 43.62099748983578),\n",
       " ('Width', 68.86150176141744),\n",
       " ('Length1', 149.68275911265522),\n",
       " ('Length2', -87.19317415701884),\n",
       " ('Length3', -40.56159596271215)]"
      ]
     },
     "execution_count": 45,
     "metadata": {},
     "output_type": "execute_result"
    }
   ],
   "source": [
    "list( zip( [\"Species\", \"Height\", \"Width\", \"Length1\", \"Length2\", \"Length3\"], list( linreg.coef_ ) ) )"
   ]
  },
  {
   "cell_type": "code",
   "execution_count": 46,
   "metadata": {},
   "outputs": [],
   "source": [
    "#calculating residuals or error between testing and predicted data\n",
    "residuals = y_test - y_pred"
   ]
  },
  {
   "cell_type": "code",
   "execution_count": 47,
   "metadata": {},
   "outputs": [
    {
     "ename": "ValueError",
     "evalue": "operands could not be broadcast together with shapes (159,) (48,) ",
     "output_type": "error",
     "traceback": [
      "\u001b[0;31m---------------------------------------------------------------------------\u001b[0m",
      "\u001b[0;31mValueError\u001b[0m                                Traceback (most recent call last)",
      "\u001b[0;32m<ipython-input-47-b15097469cac>\u001b[0m in \u001b[0;36m<module>\u001b[0;34m\u001b[0m\n\u001b[1;32m      1\u001b[0m \u001b[0;31m#plot of original weight and residual data\u001b[0m\u001b[0;34m\u001b[0m\u001b[0;34m\u001b[0m\u001b[0;34m\u001b[0m\u001b[0m\n\u001b[0;32m----> 2\u001b[0;31m \u001b[0msns\u001b[0m\u001b[0;34m.\u001b[0m\u001b[0mjointplot\u001b[0m\u001b[0;34m(\u001b[0m\u001b[0mdf\u001b[0m\u001b[0;34m.\u001b[0m\u001b[0mWeight\u001b[0m\u001b[0;34m,\u001b[0m \u001b[0mresiduals\u001b[0m\u001b[0;34m)\u001b[0m\u001b[0;34m\u001b[0m\u001b[0;34m\u001b[0m\u001b[0m\n\u001b[0m",
      "\u001b[0;32m~/opt/anaconda3/lib/python3.8/site-packages/seaborn/axisgrid.py\u001b[0m in \u001b[0;36mjointplot\u001b[0;34m(x, y, data, kind, stat_func, color, height, ratio, space, dropna, xlim, ylim, joint_kws, marginal_kws, annot_kws, **kwargs)\u001b[0m\n\u001b[1;32m   2279\u001b[0m \u001b[0;34m\u001b[0m\u001b[0m\n\u001b[1;32m   2280\u001b[0m     \u001b[0;31m# Initialize the JointGrid object\u001b[0m\u001b[0;34m\u001b[0m\u001b[0;34m\u001b[0m\u001b[0;34m\u001b[0m\u001b[0m\n\u001b[0;32m-> 2281\u001b[0;31m     grid = JointGrid(x, y, data, dropna=dropna,\n\u001b[0m\u001b[1;32m   2282\u001b[0m                      \u001b[0mheight\u001b[0m\u001b[0;34m=\u001b[0m\u001b[0mheight\u001b[0m\u001b[0;34m,\u001b[0m \u001b[0mratio\u001b[0m\u001b[0;34m=\u001b[0m\u001b[0mratio\u001b[0m\u001b[0;34m,\u001b[0m \u001b[0mspace\u001b[0m\u001b[0;34m=\u001b[0m\u001b[0mspace\u001b[0m\u001b[0;34m,\u001b[0m\u001b[0;34m\u001b[0m\u001b[0;34m\u001b[0m\u001b[0m\n\u001b[1;32m   2283\u001b[0m                      xlim=xlim, ylim=ylim)\n",
      "\u001b[0;32m~/opt/anaconda3/lib/python3.8/site-packages/seaborn/axisgrid.py\u001b[0m in \u001b[0;36m__init__\u001b[0;34m(self, x, y, data, height, ratio, space, dropna, xlim, ylim, size)\u001b[0m\n\u001b[1;32m   1716\u001b[0m         \u001b[0;31m# Possibly drop NA\u001b[0m\u001b[0;34m\u001b[0m\u001b[0;34m\u001b[0m\u001b[0;34m\u001b[0m\u001b[0m\n\u001b[1;32m   1717\u001b[0m         \u001b[0;32mif\u001b[0m \u001b[0mdropna\u001b[0m\u001b[0;34m:\u001b[0m\u001b[0;34m\u001b[0m\u001b[0;34m\u001b[0m\u001b[0m\n\u001b[0;32m-> 1718\u001b[0;31m             \u001b[0mnot_na\u001b[0m \u001b[0;34m=\u001b[0m \u001b[0mpd\u001b[0m\u001b[0;34m.\u001b[0m\u001b[0mnotnull\u001b[0m\u001b[0;34m(\u001b[0m\u001b[0mx_array\u001b[0m\u001b[0;34m)\u001b[0m \u001b[0;34m&\u001b[0m \u001b[0mpd\u001b[0m\u001b[0;34m.\u001b[0m\u001b[0mnotnull\u001b[0m\u001b[0;34m(\u001b[0m\u001b[0my_array\u001b[0m\u001b[0;34m)\u001b[0m\u001b[0;34m\u001b[0m\u001b[0;34m\u001b[0m\u001b[0m\n\u001b[0m\u001b[1;32m   1719\u001b[0m             \u001b[0mx_array\u001b[0m \u001b[0;34m=\u001b[0m \u001b[0mx_array\u001b[0m\u001b[0;34m[\u001b[0m\u001b[0mnot_na\u001b[0m\u001b[0;34m]\u001b[0m\u001b[0;34m\u001b[0m\u001b[0;34m\u001b[0m\u001b[0m\n\u001b[1;32m   1720\u001b[0m             \u001b[0my_array\u001b[0m \u001b[0;34m=\u001b[0m \u001b[0my_array\u001b[0m\u001b[0;34m[\u001b[0m\u001b[0mnot_na\u001b[0m\u001b[0;34m]\u001b[0m\u001b[0;34m\u001b[0m\u001b[0;34m\u001b[0m\u001b[0m\n",
      "\u001b[0;31mValueError\u001b[0m: operands could not be broadcast together with shapes (159,) (48,) "
     ]
    },
    {
     "data": {
      "image/png": "[encoded data removed]",
      "text/plain": [
       "<Figure size 432x432 with 3 Axes>"
      ]
     },
     "metadata": {
      "needs_background": "light"
     },
     "output_type": "display_data"
    }
   ],
   "source": [
    "#plot of original weight and residual data\n",
    "sns.jointplot(df.Weight, residuals)"
   ]
  },
  {
   "cell_type": "code",
   "execution_count": 48,
   "metadata": {},
   "outputs": [
    {
     "data": {
      "text/plain": [
       "<matplotlib.axes._subplots.AxesSubplot at 0x7ffc8a45b940>"
      ]
     },
     "execution_count": 48,
     "metadata": {},
     "output_type": "execute_result"
    },
    {
     "data": {
      "image/png": "[encoded data removed]",
      "text/plain": [
       "<Figure size 432x288 with 1 Axes>"
      ]
     },
     "metadata": {
      "needs_background": "light"
     },
     "output_type": "display_data"
    }
   ],
   "source": [
    "#plot of residuals\n",
    "sns.distplot( residuals )"
   ]
  },
  {
   "cell_type": "code",
   "execution_count": 49,
   "metadata": {},
   "outputs": [
    {
     "data": {
      "image/png": "[encoded data removed]",
      "text/plain": [
       "<Figure size 432x288 with 1 Axes>"
      ]
     },
     "metadata": {
      "needs_background": "light"
     },
     "output_type": "display_data"
    }
   ],
   "source": [
    "# To ensure residues are random i.e. normally distributed a Q-Q plot can be used\n",
    "# Q-Q plot shows if the residuals are plotted along the line.\n",
    "from scipy import stats\n",
    "import pylab\n",
    "\n",
    "stats.probplot( residuals, dist=\"norm\", plot=pylab )\n",
    "pylab.show()"
   ]
  },
  {
   "cell_type": "markdown",
   "metadata": {},
   "source": [
    "### 4. What is the mean score of the model at  95% confidence interval?"
   ]
  },
  {
   "cell_type": "code",
   "execution_count": 50,
   "metadata": {},
   "outputs": [],
   "source": [
    "#Taking only 95% confidence interval\n",
    "df = df.clip(upper=df.quantile(0.95), axis=1) \n",
    "df = df.clip(lower=df.quantile(0.05), axis=1)\n",
    "\n"
   ]
  },
  {
   "cell_type": "code",
   "execution_count": 51,
   "metadata": {},
   "outputs": [],
   "source": [
    "from sklearn.linear_model import LinearRegression"
   ]
  },
  {
   "cell_type": "code",
   "execution_count": 52,
   "metadata": {},
   "outputs": [],
   "source": [
    "X_train, X_test, y_train, y_test = train_test_split(\n",
    "  df[[\"Species\", \"Height\", \"Width\", \"Length1\", \"Length2\", \"Length3\"]],\n",
    "  df.Weight,\n",
    "  test_size=0.3,\n",
    "  random_state = 101 )"
   ]
  },
  {
   "cell_type": "code",
   "execution_count": 53,
   "metadata": {},
   "outputs": [
    {
     "name": "stdout",
     "output_type": "stream",
     "text": [
      "     Species   Height   Width  Length1  Length2  Length3\n",
      "65         1   8.8928  3.2928     18.4     20.0     22.4\n",
      "100        2   6.5610  4.2390     23.5     25.6     27.0\n",
      "67         1   9.3960  3.4104     19.0     20.7     23.2\n",
      "21         0  15.9936  5.3704     31.4     34.0     39.2\n",
      "22         0  15.5227  5.2801     31.5     34.5     39.7\n",
      "..       ...      ...     ...      ...      ...      ...\n",
      "63         1   7.4052  2.6730     16.3     17.7     19.8\n",
      "70         1  11.0880  4.1440     23.0     25.0     28.0\n",
      "81         2   5.0820  2.7720     18.2     20.0     21.0\n",
      "11         0  14.3714  4.8146     28.7     31.0     36.2\n",
      "95         2   6.2750  3.7250     21.5     23.5     25.0\n",
      "\n",
      "[111 rows x 6 columns]\n",
      "     Species    Height    Width  Length1  Length2  Length3\n",
      "127        2  12.48880  7.28462   41.100    44.00   46.600\n",
      "42         4   6.11460  3.29430   19.400    21.00   23.700\n",
      "55         5   8.38040  4.24760   23.600    26.00   28.700\n",
      "101        2   7.16800  4.14400   25.000    26.50   28.000\n",
      "33         0  16.37732  6.74730   37.400    41.00   45.900\n",
      "124        2  11.93280  7.27720   39.800    43.00   45.200\n",
      "78         2   5.19920  3.12340   16.800    18.70   19.400\n",
      "143        3   9.60000  6.14400   41.109    44.01   46.614\n",
      "16         0  14.86040  5.28540   30.400    33.00   38.300\n",
      "74         2   3.82400  2.43200   13.800    15.00   16.000\n",
      "122        2  11.13500  6.63000   37.100    40.00   42.500\n",
      "92         2   6.79200  3.62400   20.500    22.50   24.000\n",
      "39         4   6.21600  3.57420   18.600    20.00   22.200\n",
      "64         1   8.39220  2.91810   17.500    19.00   21.300\n",
      "53         4   8.56800  4.77360   25.000    27.00   30.600\n",
      "84         2   5.69250  3.66750   19.000    21.00   22.500\n",
      "80         2   5.13760  3.03680   17.800    19.60   20.800\n",
      "66         1   8.53760  3.29440   19.000    20.70   23.200\n",
      "4          0  12.44400  5.13400   26.500    29.00   34.000\n",
      "1          0  12.48000  4.30560   24.000    26.30   31.200\n",
      "32         0  16.37732  6.74970   36.200    39.50   45.300\n",
      "85         2   6.38400  3.53400   19.300    21.30   22.800\n",
      "41         4   6.16770  3.39570   19.100    20.80   23.100\n",
      "50         4   7.39680  4.12720   22.100    23.50   26.800\n",
      "156        5   2.27700  1.28314   12.100    13.00   13.800\n",
      "31         0  16.37732  6.29200   35.000    38.50   44.000\n",
      "134        3   7.28000  4.32250   40.000    42.50   45.500\n",
      "102        2   8.32300  5.13730   25.200    27.30   28.700\n",
      "155        5   2.43000  1.28314   11.700    12.40   13.500\n",
      "158        5   2.93220  1.87920   13.800    15.00   16.200\n",
      "142        3   9.60000  6.14400   41.109    44.01   46.614\n",
      "96         2   7.29300  3.72300   22.000    24.00   25.500\n",
      "98         2   6.73340  4.16580   22.600    24.60   26.200\n",
      "48         4   7.53440  3.83520   22.000    24.00   27.200\n",
      "69         1  10.34580  3.66360   21.200    23.00   25.800\n",
      "113        2  10.60910  6.74080   34.000    36.00   38.300\n",
      "131        3   6.28840  4.01980   34.800    37.30   39.800\n",
      "68         1   9.73640  3.15710   19.800    21.50   24.100\n",
      "25         0  16.36000  6.05320   31.800    35.00   40.900\n",
      "108        2   7.61560  4.77160   27.800    30.00   31.600\n",
      "145        5   2.20356  1.28314   11.300    11.80   13.100\n",
      "149        5   2.20356  1.28314   11.300    11.80   13.100\n",
      "86         2   6.11000  3.40750   20.000    22.00   23.500\n",
      "129        3   5.70780  4.15800   31.700    34.00   37.800\n",
      "116        2  11.13660  7.28462   36.500    39.00   41.400\n",
      "94         2   5.21850  3.62600   21.000    23.00   24.500\n",
      "90         2   5.52250  3.99500   20.000    22.00   23.500\n",
      "43         4   5.80450  3.75440   20.400    22.00   24.700\n"
     ]
    }
   ],
   "source": [
    "print (X_train)\n",
    "print (X_test)"
   ]
  },
  {
   "cell_type": "code",
   "execution_count": 54,
   "metadata": {},
   "outputs": [],
   "source": [
    "## Building the model with train set and make predictions on test set\n",
    "linreg = LinearRegression()\n",
    "linreg.fit( X_train, y_train )\n",
    "y_pred = linreg.predict( X_test )"
   ]
  },
  {
   "cell_type": "code",
   "execution_count": 55,
   "metadata": {},
   "outputs": [
    {
     "data": {
      "text/plain": [
       "array([ 26.74441366,  45.04052997,  54.03638202,  93.02775664,\n",
       "       -39.07556451, -35.40485916])"
      ]
     },
     "execution_count": 55,
     "metadata": {},
     "output_type": "execute_result"
    }
   ],
   "source": [
    "linreg.coef_"
   ]
  },
  {
   "cell_type": "code",
   "execution_count": 56,
   "metadata": {},
   "outputs": [
    {
     "data": {
      "text/plain": [
       "102.02503924242177"
      ]
     },
     "execution_count": 56,
     "metadata": {},
     "output_type": "execute_result"
    }
   ],
   "source": [
    "#Calculating root mean square error on testing data\n",
    "from sklearn import metrics\n",
    "rmse = np.sqrt( metrics.mean_squared_error( y_test, y_pred ) )\n",
    "rmse"
   ]
  },
  {
   "cell_type": "code",
   "execution_count": 57,
   "metadata": {},
   "outputs": [
    {
     "data": {
      "text/plain": [
       "93.86932480994057"
      ]
     },
     "execution_count": 57,
     "metadata": {},
     "output_type": "execute_result"
    }
   ],
   "source": [
    "#Calculating root mean square error on training error\n",
    "y_pred_t = linreg.predict(X_train)\n",
    "rmse_t = np.sqrt( metrics.mean_squared_error( y_train, y_pred_t) )\n",
    "rmse_t"
   ]
  },
  {
   "cell_type": "code",
   "execution_count": 58,
   "metadata": {},
   "outputs": [
    {
     "data": {
      "text/plain": [
       "0.9104162429936956"
      ]
     },
     "execution_count": 58,
     "metadata": {},
     "output_type": "execute_result"
    }
   ],
   "source": [
    "#Calculating root mean square on training data\n",
    "metrics.r2_score( y_train, y_pred_t )"
   ]
  },
  {
   "cell_type": "code",
   "execution_count": 59,
   "metadata": {},
   "outputs": [
    {
     "data": {
      "text/plain": [
       "0.9058279599545092"
      ]
     },
     "execution_count": 59,
     "metadata": {},
     "output_type": "execute_result"
    }
   ],
   "source": [
    "#Calculating root mean square on testing data\n",
    "metrics.r2_score( y_test, y_pred )"
   ]
  },
  {
   "cell_type": "markdown",
   "metadata": {},
   "source": [
    "### 5. Compare real and predicted weights and give a conclusion statement based on it?"
   ]
  },
  {
   "cell_type": "code",
   "execution_count": 60,
   "metadata": {},
   "outputs": [],
   "source": [
    "#calculating residuals or error between testing and predicted data\n",
    "residuals = y_test - y_pred"
   ]
  },
  {
   "cell_type": "code",
   "execution_count": 61,
   "metadata": {
    "scrolled": true
   },
   "outputs": [
    {
     "ename": "ValueError",
     "evalue": "operands could not be broadcast together with shapes (159,) (48,) ",
     "output_type": "error",
     "traceback": [
      "\u001b[0;31m---------------------------------------------------------------------------\u001b[0m",
      "\u001b[0;31mValueError\u001b[0m                                Traceback (most recent call last)",
      "\u001b[0;32m<ipython-input-61-b15097469cac>\u001b[0m in \u001b[0;36m<module>\u001b[0;34m\u001b[0m\n\u001b[1;32m      1\u001b[0m \u001b[0;31m#plot of original weight and residual data\u001b[0m\u001b[0;34m\u001b[0m\u001b[0;34m\u001b[0m\u001b[0;34m\u001b[0m\u001b[0m\n\u001b[0;32m----> 2\u001b[0;31m \u001b[0msns\u001b[0m\u001b[0;34m.\u001b[0m\u001b[0mjointplot\u001b[0m\u001b[0;34m(\u001b[0m\u001b[0mdf\u001b[0m\u001b[0;34m.\u001b[0m\u001b[0mWeight\u001b[0m\u001b[0;34m,\u001b[0m \u001b[0mresiduals\u001b[0m\u001b[0;34m)\u001b[0m\u001b[0;34m\u001b[0m\u001b[0;34m\u001b[0m\u001b[0m\n\u001b[0m",
      "\u001b[0;32m~/opt/anaconda3/lib/python3.8/site-packages/seaborn/axisgrid.py\u001b[0m in \u001b[0;36mjointplot\u001b[0;34m(x, y, data, kind, stat_func, color, height, ratio, space, dropna, xlim, ylim, joint_kws, marginal_kws, annot_kws, **kwargs)\u001b[0m\n\u001b[1;32m   2279\u001b[0m \u001b[0;34m\u001b[0m\u001b[0m\n\u001b[1;32m   2280\u001b[0m     \u001b[0;31m# Initialize the JointGrid object\u001b[0m\u001b[0;34m\u001b[0m\u001b[0;34m\u001b[0m\u001b[0;34m\u001b[0m\u001b[0m\n\u001b[0;32m-> 2281\u001b[0;31m     grid = JointGrid(x, y, data, dropna=dropna,\n\u001b[0m\u001b[1;32m   2282\u001b[0m                      \u001b[0mheight\u001b[0m\u001b[0;34m=\u001b[0m\u001b[0mheight\u001b[0m\u001b[0;34m,\u001b[0m \u001b[0mratio\u001b[0m\u001b[0;34m=\u001b[0m\u001b[0mratio\u001b[0m\u001b[0;34m,\u001b[0m \u001b[0mspace\u001b[0m\u001b[0;34m=\u001b[0m\u001b[0mspace\u001b[0m\u001b[0;34m,\u001b[0m\u001b[0;34m\u001b[0m\u001b[0;34m\u001b[0m\u001b[0m\n\u001b[1;32m   2283\u001b[0m                      xlim=xlim, ylim=ylim)\n",
      "\u001b[0;32m~/opt/anaconda3/lib/python3.8/site-packages/seaborn/axisgrid.py\u001b[0m in \u001b[0;36m__init__\u001b[0;34m(self, x, y, data, height, ratio, space, dropna, xlim, ylim, size)\u001b[0m\n\u001b[1;32m   1716\u001b[0m         \u001b[0;31m# Possibly drop NA\u001b[0m\u001b[0;34m\u001b[0m\u001b[0;34m\u001b[0m\u001b[0;34m\u001b[0m\u001b[0m\n\u001b[1;32m   1717\u001b[0m         \u001b[0;32mif\u001b[0m \u001b[0mdropna\u001b[0m\u001b[0;34m:\u001b[0m\u001b[0;34m\u001b[0m\u001b[0;34m\u001b[0m\u001b[0m\n\u001b[0;32m-> 1718\u001b[0;31m             \u001b[0mnot_na\u001b[0m \u001b[0;34m=\u001b[0m \u001b[0mpd\u001b[0m\u001b[0;34m.\u001b[0m\u001b[0mnotnull\u001b[0m\u001b[0;34m(\u001b[0m\u001b[0mx_array\u001b[0m\u001b[0;34m)\u001b[0m \u001b[0;34m&\u001b[0m \u001b[0mpd\u001b[0m\u001b[0;34m.\u001b[0m\u001b[0mnotnull\u001b[0m\u001b[0;34m(\u001b[0m\u001b[0my_array\u001b[0m\u001b[0;34m)\u001b[0m\u001b[0;34m\u001b[0m\u001b[0;34m\u001b[0m\u001b[0m\n\u001b[0m\u001b[1;32m   1719\u001b[0m             \u001b[0mx_array\u001b[0m \u001b[0;34m=\u001b[0m \u001b[0mx_array\u001b[0m\u001b[0;34m[\u001b[0m\u001b[0mnot_na\u001b[0m\u001b[0;34m]\u001b[0m\u001b[0;34m\u001b[0m\u001b[0;34m\u001b[0m\u001b[0m\n\u001b[1;32m   1720\u001b[0m             \u001b[0my_array\u001b[0m \u001b[0;34m=\u001b[0m \u001b[0my_array\u001b[0m\u001b[0;34m[\u001b[0m\u001b[0mnot_na\u001b[0m\u001b[0;34m]\u001b[0m\u001b[0;34m\u001b[0m\u001b[0;34m\u001b[0m\u001b[0m\n",
      "\u001b[0;31mValueError\u001b[0m: operands could not be broadcast together with shapes (159,) (48,) "
     ]
    },
    {
     "data": {
      "image/png": "[encoded data removed]",
      "text/plain": [
       "<Figure size 432x432 with 3 Axes>"
      ]
     },
     "metadata": {
      "needs_background": "light"
     },
     "output_type": "display_data"
    }
   ],
   "source": [
    "#plot of original weight and residual data\n",
    "sns.jointplot(df.Weight, residuals)"
   ]
  },
  {
   "cell_type": "markdown",
   "metadata": {},
   "source": [
    "Here in the above graoh we can see the error/residual between the predicted and the original weight. When the 95% confidence interval is taken we observe that the our predicted model is giving 90% accuracy. "
   ]
  },
  {
   "cell_type": "code",
   "execution_count": 62,
   "metadata": {},
   "outputs": [
    {
     "data": {
      "text/plain": [
       "<matplotlib.axes._subplots.AxesSubplot at 0x7ffc8a8496d0>"
      ]
     },
     "execution_count": 62,
     "metadata": {},
     "output_type": "execute_result"
    },
    {
     "data": {
      "image/png": "[encoded data removed]",
      "text/plain": [
       "<Figure size 432x288 with 1 Axes>"
      ]
     },
     "metadata": {
      "needs_background": "light"
     },
     "output_type": "display_data"
    }
   ],
   "source": [
    "#plot of residuals\n",
    "sns.distplot( residuals )"
   ]
  },
  {
   "cell_type": "markdown",
   "metadata": {},
   "source": [
    "We can observe that the error between the original and the predicted weight mostly lies between (-100 - 100) range."
   ]
  },
  {
   "cell_type": "code",
   "execution_count": 63,
   "metadata": {},
   "outputs": [
    {
     "data": {
      "image/png": "[encoded data removed]",
      "text/plain": [
       "<Figure size 432x288 with 1 Axes>"
      ]
     },
     "metadata": {
      "needs_background": "light"
     },
     "output_type": "display_data"
    }
   ],
   "source": [
    "# To ensure residues are random i.e. normally distributed a Q-Q plot can be used\n",
    "# Q-Q plot shows if the residuals are plotted along the line.\n",
    "from scipy import stats\n",
    "import pylab\n",
    "\n",
    "stats.probplot( residuals, dist=\"norm\", plot=pylab )\n",
    "pylab.show()"
   ]
  },
  {
   "cell_type": "code",
   "execution_count": null,
   "metadata": {},
   "outputs": [],
   "source": []
  }
 ],
 "metadata": {
  "kernelspec": {
   "display_name": "Python 3",
   "language": "python",
   "name": "python3"
  },
  "language_info": {
   "codemirror_mode": {
    "name": "ipython",
    "version": 3
   },
   "file_extension": ".py",
   "mimetype": "text/x-python",
   "name": "python",
   "nbconvert_exporter": "python",
   "pygments_lexer": "ipython3",
   "version": "3.8.3"
  }
 },
 "nbformat": 4,
 "nbformat_minor": 4
}
